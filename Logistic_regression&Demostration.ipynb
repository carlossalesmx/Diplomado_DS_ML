{
 "cells": [
  {
   "cell_type": "markdown",
   "metadata": {},
   "source": [
    "# DEMOSTRACIÓN"
   ]
  },
  {
   "cell_type": "markdown",
   "metadata": {},
   "source": [
    "\n",
    "\\begin{equation}\n",
    "    E(x)= \\frac{1}{2}\\sum_{n=1}^{N}\\left(t_{n}-f(x)\\right)^{2}\n",
    "\\end{equation}\n",
    "\n",
    "con $f(x)=\\sum_{r=1}^{R}C_{r}\\mathbb{1}{(x \\in R_{r})}$ y $\\hat{C}{k} =\\frac{1}{N{k}}  \\displaystyle\\sum_{\\{n| x_{n} \\in R_{r}\\}}t_{n}$\\\\\n",
    "\n",
    "Derivadas parciales de $E(x)$\n",
    "\n",
    "\\begin{eqnarray}\n",
    "\\frac{\\partial E \\left( x \\right)}{\\partial C_{1}} & = \\frac{\\partial}{\\partial C_{1}} \\cdot\\frac{1}{2}\\cdot\\sum_{n=1}^{N}\\left(t_{n}-f(x) \\right)^{2}= \\frac{1}{2} \\sum_{n=1}^{N}\\frac{\\partial}{\\partial C_{1}} \\left(t_{n}-f(x) \\right)^{2}\\\\\n",
    " & = \\frac{1}{2}\\sum_{n=1}^{N} \\frac{\\partial}{\\partial C_{1}}\\left(t_{n}^{2}-2t_{n}f(x)+f^{2}(x)\\right)\\\\\n",
    " & = \\frac{1}{2}\\sum_{n=1}^{N}\\left[{\\frac{\\partial}{\\partial C_{1}}t_{n}^{2}}-2t_{n}\\frac{\\partial}{\\partial C_{1}}f(x)+\\frac{\\partial}{\\partial C_{1}}f^{2}(x)\\right]\\\\\n",
    " & = \\frac{1}{2}\\sum_{n=1}^{N}\\left[-2t_{n}\\frac{\\partial}{\\partial C_{1}}f(x)+\\frac{\\partial}{\\partial C_{1}}f^{2}(x)\\right]\\\\\n",
    "\\end{eqnarray}\n",
    "\n",
    "\\begin{eqnarray}\n",
    "%\\begin{split}\n",
    "    \\frac{\\partial}{\\partial C_{1}} f(x) = \\frac{\\partial}{\\partial C_{1}}\\displaystyle\\sum_{r=1}^{R}C_{r}\\mathbb{1}{(x \\in R_{r})}\\\\\n",
    "    =\\frac{\\partial}{\\partial C_{1}} \\left[C_{1}\\mathbb{1}{(x \\in R_{1})}\\right]+{\\frac{\\partial}{\\partial C_{1}}\\left[ \\displaystyle\\sum_{r\\neq1}^{R}C_{r}\\mathbb{1}{(x \\in R_{r})}\\right]}\\\\\n",
    "    & = \\mathbb{1}{(x \\in R_{1})}\n",
    "%\\end{split}\n",
    "\\end{eqnarray}\n",
    "\\begin{eqnarray}\n",
    "    %\\begin{split}\n",
    "        \\frac{1}{2}\\sum_{n=1}^{N}\\left[-2t_{n}\\frac{\\partial}{\\partial C_{1}}f(x)+\\frac{\\partial}{\\partial C_{1}}f^{2}(x)\\right]& = \\frac{1}{2}\\sum_{n=1}^{N}\\left[-2t_{n}\\cdot \\mathbb{1}{(x \\in R_{1})}+2f(x)\\cdot\\frac{\\partial}{\\partial C_{1}}f(x)\\right]\\\\\n",
    "        =&\\frac{1}{2}\\sum_{n=1}^{N}\\left[-2t_{n}\\cdot \\mathbb{1}{(x \\in R_{1})}+2f(x)\\cdot \\mathbb{1}{(x \\in R_{1})}\\right]\\\\\n",
    "        & = \\sum_{n=1}^{N}\\left[-t_{n}\\cdot \\mathbb{1}{(x \\in R_{1})}+f(x)\\cdot \\mathbb{1}{(x \\in R_{1})}\\right]\\\\\n",
    "        & = \\sum_{n=1}^{N}\\left[-t_{n}\\cdot \\mathbb{1}{(x \\in R_{1})}+C_{1}\\right]=\\sum_{n=1}^{N}\\left[-t_{n}\\cdot \\mathbb{1}{(x \\in R_{1})}\\right]+N\\cdot C_{1}\\\\\n",
    "        & = -\\sum_{n=1}^{N}\\left[t_{n}\\cdot \\mathbb{1}{(x \\in R_{1})}\\right]+N_{1}\\cdot C_{1} =0 \\\\\n",
    "        &  N_{1}\\cdot C_{1}=\\sum_{n=1}^{N}\\left[t_{n}\\cdot \\mathbb{1}{(x \\in R_{1})}\\right]\\\\ C_{1}=\\frac{\\sum_{n=1}^{N}t_{n}}{N_{1}}\n",
    "    %\\end{split}\n",
    "\\end{eqnarray}\n",
    "Al hacerlo recursivo llegamos a lo siguiente:\n",
    "\\begin{equation}\n",
    "\\begin{split}\n",
    "C_{k}=\\frac{\\sum_{n=1}^{N}t_{n}}{N_{k}}\n",
    "\\end{split}\n",
    "\\end{equation}\n"
   ]
  },
  {
   "cell_type": "markdown",
   "metadata": {},
   "source": [
    "# MODELO"
   ]
  },
  {
   "cell_type": "code",
   "execution_count": 108,
   "metadata": {},
   "outputs": [],
   "source": [
    "import numpy as np\n",
    "import pandas as pd\n",
    "import matplotlib.pyplot as plt\n",
    "import seaborn as sns\n",
    "import os\n",
    "import re "
   ]
  },
  {
   "cell_type": "code",
   "execution_count": 128,
   "metadata": {},
   "outputs": [
    {
     "data": {
      "text/html": [
       "<div>\n",
       "<style scoped>\n",
       "    .dataframe tbody tr th:only-of-type {\n",
       "        vertical-align: middle;\n",
       "    }\n",
       "\n",
       "    .dataframe tbody tr th {\n",
       "        vertical-align: top;\n",
       "    }\n",
       "\n",
       "    .dataframe thead th {\n",
       "        text-align: right;\n",
       "    }\n",
       "</style>\n",
       "<table border=\"1\" class=\"dataframe\">\n",
       "  <thead>\n",
       "    <tr style=\"text-align: right;\">\n",
       "      <th></th>\n",
       "      <th>key</th>\n",
       "      <th>Actividad Econ&amp;oacutemica</th>\n",
       "      <th>E-mail</th>\n",
       "      <th>Fax</th>\n",
       "      <th>Fecha de Constitución</th>\n",
       "      <th>Fecha de listado en BMV</th>\n",
       "      <th>Historia de la Empresa</th>\n",
       "      <th>Oficinas Corporativas</th>\n",
       "      <th>Principales Productos y/o Servicios</th>\n",
       "      <th>Ramo</th>\n",
       "      <th>Relación con Inversionistas</th>\n",
       "      <th>Sector</th>\n",
       "      <th>Subramo</th>\n",
       "      <th>Subsector</th>\n",
       "      <th>Teléfono</th>\n",
       "    </tr>\n",
       "  </thead>\n",
       "  <tbody>\n",
       "    <tr>\n",
       "      <th>0</th>\n",
       "      <td>AC</td>\n",
       "      <td>ARCA CONTINENTAL ES UNA EMPRESA CONTROLADORA, ...</td>\n",
       "      <td>felipe.barquin@arcacontal.com</td>\n",
       "      <td>NaN</td>\n",
       "      <td>24-Sep-1980</td>\n",
       "      <td>13-Dec-2001</td>\n",
       "      <td>Arca Continental se formó en el año 2011 media...</td>\n",
       "      <td>Av. San Jeronimo 813 Pte. San Jeronimo ,64640,...</td>\n",
       "      <td>Coca-Cola, Coca-Cola Light, Fanta, Sprite, Lif...</td>\n",
       "      <td>BEBIDAS</td>\n",
       "      <td>LIC. FELIPE BARQUIN ()</td>\n",
       "      <td>PRODUCTOS DE CONSUMO FRECUENTE</td>\n",
       "      <td>PRODUCCIÓN DE BEBIDAS NO ALCOHÓLICAS</td>\n",
       "      <td>ALIMENTOS, BEBIDAS Y TABACO</td>\n",
       "      <td>8181511400</td>\n",
       "    </tr>\n",
       "    <tr>\n",
       "      <th>1</th>\n",
       "      <td>ACCELSA</td>\n",
       "      <td>TENEDORA DE EMPRESAS DEDICADAS A SERVICIOS DE ...</td>\n",
       "      <td>m.altamirano@accel.com.mx</td>\n",
       "      <td>6144260056</td>\n",
       "      <td>09-Jan-1979</td>\n",
       "      <td>21-Oct-1988</td>\n",
       "      <td>Accel, S.A. de C.V. surge de la escisión de Gr...</td>\n",
       "      <td>Circuito No. 5 del Parque Industrial Las Ameri...</td>\n",
       "      <td>MANUFACTURA EMPAQUE, DISTRIBUCIÓN Y VENTA DE D...</td>\n",
       "      <td>SUMINISTROS Y SERVICIOS COMERCIALES</td>\n",
       "      <td>C.P. MIGUEL ALTAMIRANO (CONTRALOR CORPORATIVO)</td>\n",
       "      <td>INDUSTRIAL</td>\n",
       "      <td>SERVICIOS COMERCIALES DIVERSIFICADOS Y PROFESI...</td>\n",
       "      <td>SUMINISTROS Y SERVICIOS COMERCIALES</td>\n",
       "      <td>6144260024</td>\n",
       "    </tr>\n",
       "    <tr>\n",
       "      <th>2</th>\n",
       "      <td>ACTINVR</td>\n",
       "      <td>TENENDORA DE ACCIONES Y EMPRESAS SUBSIDIARIAS</td>\n",
       "      <td>actinverir@actinver.com.mx</td>\n",
       "      <td>11036699</td>\n",
       "      <td>27-Jul-2004</td>\n",
       "      <td>11-Oct-2007</td>\n",
       "      <td>Corporación Actinver, SAB de CV es una socieda...</td>\n",
       "      <td>GUILLERMO GONZALEZ CAMARENA 1200 PISOS 5, 9 Y ...</td>\n",
       "      <td>NaN</td>\n",
       "      <td>MERCADOS FINANCIEROS</td>\n",
       "      <td>PhD ENRIQUE COVARRUBIAS (RESPONSABLE DE RELACI...</td>\n",
       "      <td>SERVICIOS FINANCIEROS</td>\n",
       "      <td>CONTROLADORAS DE ENTIDADES DE SERVICIOS FINANC...</td>\n",
       "      <td>ENTIDADES FINANCIERAS</td>\n",
       "      <td>11036600</td>\n",
       "    </tr>\n",
       "    <tr>\n",
       "      <th>3</th>\n",
       "      <td>AEROMEX</td>\n",
       "      <td>SOCIEDAD CONTROLADORA A TRAVES DE SUS SUBSIDIA...</td>\n",
       "      <td>jwallden@aeromexico.com.mx</td>\n",
       "      <td>NaN</td>\n",
       "      <td>19-Mar-2002</td>\n",
       "      <td>14-Apr-2011</td>\n",
       "      <td>Grupo Aeroméxico, S.A.B. de C.V., es una socie...</td>\n",
       "      <td>Av. Paseo de la Reforma 243 piso 25 Cuauhtemoc...</td>\n",
       "      <td>NaN</td>\n",
       "      <td>LÍNEAS AÉREAS</td>\n",
       "      <td>DON JONATHAN MARK WALLDEN (DIRECTOR DE PLANEAC...</td>\n",
       "      <td>INDUSTRIAL</td>\n",
       "      <td>LÍNEAS AÉREAS</td>\n",
       "      <td>TRANSPORTES</td>\n",
       "      <td>91324000</td>\n",
       "    </tr>\n",
       "    <tr>\n",
       "      <th>4</th>\n",
       "      <td>AGRIEXP</td>\n",
       "      <td>COMPRA, PROCESAMIENTO Y COMERCIALIZACION DE FR...</td>\n",
       "      <td>agriexport@megared.net.mx</td>\n",
       "      <td>013312001721</td>\n",
       "      <td>31-Jul-1973</td>\n",
       "      <td>20-Dec-1996</td>\n",
       "      <td>EMPRESA FUNDADA EN 1973 CON EL OBJETO DE EXPOR...</td>\n",
       "      <td>FRENTE A LA ESTACION DEL FERROCARRIL SIN NUMER...</td>\n",
       "      <td>FRESAS CONGELADAS, CITRICOS ENLATADOS, PEPINIL...</td>\n",
       "      <td>ALIMENTOS</td>\n",
       "      <td>L.C.P RICARDO ALCALA (GERENTE GENERAL)</td>\n",
       "      <td>PRODUCTOS DE CONSUMO FRECUENTE</td>\n",
       "      <td>PRODUCCIÓN Y COMERCIALIZACIÓN DE ALIMENTOS</td>\n",
       "      <td>ALIMENTOS, BEBIDAS Y TABACO</td>\n",
       "      <td>013312001721</td>\n",
       "    </tr>\n",
       "  </tbody>\n",
       "</table>\n",
       "</div>"
      ],
      "text/plain": [
       "       key                          Actividad Econ&oacutemica  \\\n",
       "0       AC  ARCA CONTINENTAL ES UNA EMPRESA CONTROLADORA, ...   \n",
       "1  ACCELSA  TENEDORA DE EMPRESAS DEDICADAS A SERVICIOS DE ...   \n",
       "2  ACTINVR      TENENDORA DE ACCIONES Y EMPRESAS SUBSIDIARIAS   \n",
       "3  AEROMEX  SOCIEDAD CONTROLADORA A TRAVES DE SUS SUBSIDIA...   \n",
       "4  AGRIEXP  COMPRA, PROCESAMIENTO Y COMERCIALIZACION DE FR...   \n",
       "\n",
       "                          E-mail           Fax Fecha de Constitución  \\\n",
       "0  felipe.barquin@arcacontal.com           NaN           24-Sep-1980   \n",
       "1      m.altamirano@accel.com.mx    6144260056           09-Jan-1979   \n",
       "2     actinverir@actinver.com.mx      11036699           27-Jul-2004   \n",
       "3     jwallden@aeromexico.com.mx           NaN           19-Mar-2002   \n",
       "4      agriexport@megared.net.mx  013312001721           31-Jul-1973   \n",
       "\n",
       "  Fecha de listado en BMV                             Historia de la Empresa  \\\n",
       "0             13-Dec-2001  Arca Continental se formó en el año 2011 media...   \n",
       "1             21-Oct-1988  Accel, S.A. de C.V. surge de la escisión de Gr...   \n",
       "2             11-Oct-2007  Corporación Actinver, SAB de CV es una socieda...   \n",
       "3             14-Apr-2011  Grupo Aeroméxico, S.A.B. de C.V., es una socie...   \n",
       "4             20-Dec-1996  EMPRESA FUNDADA EN 1973 CON EL OBJETO DE EXPOR...   \n",
       "\n",
       "                               Oficinas Corporativas  \\\n",
       "0  Av. San Jeronimo 813 Pte. San Jeronimo ,64640,...   \n",
       "1  Circuito No. 5 del Parque Industrial Las Ameri...   \n",
       "2  GUILLERMO GONZALEZ CAMARENA 1200 PISOS 5, 9 Y ...   \n",
       "3  Av. Paseo de la Reforma 243 piso 25 Cuauhtemoc...   \n",
       "4  FRENTE A LA ESTACION DEL FERROCARRIL SIN NUMER...   \n",
       "\n",
       "                 Principales Productos y/o Servicios  \\\n",
       "0  Coca-Cola, Coca-Cola Light, Fanta, Sprite, Lif...   \n",
       "1  MANUFACTURA EMPAQUE, DISTRIBUCIÓN Y VENTA DE D...   \n",
       "2                                                NaN   \n",
       "3                                                NaN   \n",
       "4  FRESAS CONGELADAS, CITRICOS ENLATADOS, PEPINIL...   \n",
       "\n",
       "                                  Ramo  \\\n",
       "0                              BEBIDAS   \n",
       "1  SUMINISTROS Y SERVICIOS COMERCIALES   \n",
       "2                 MERCADOS FINANCIEROS   \n",
       "3                        LÍNEAS AÉREAS   \n",
       "4                            ALIMENTOS   \n",
       "\n",
       "                         Relación con Inversionistas  \\\n",
       "0                             LIC. FELIPE BARQUIN ()   \n",
       "1     C.P. MIGUEL ALTAMIRANO (CONTRALOR CORPORATIVO)   \n",
       "2  PhD ENRIQUE COVARRUBIAS (RESPONSABLE DE RELACI...   \n",
       "3  DON JONATHAN MARK WALLDEN (DIRECTOR DE PLANEAC...   \n",
       "4             L.C.P RICARDO ALCALA (GERENTE GENERAL)   \n",
       "\n",
       "                           Sector  \\\n",
       "0  PRODUCTOS DE CONSUMO FRECUENTE   \n",
       "1                      INDUSTRIAL   \n",
       "2           SERVICIOS FINANCIEROS   \n",
       "3                      INDUSTRIAL   \n",
       "4  PRODUCTOS DE CONSUMO FRECUENTE   \n",
       "\n",
       "                                             Subramo  \\\n",
       "0               PRODUCCIÓN DE BEBIDAS NO ALCOHÓLICAS   \n",
       "1  SERVICIOS COMERCIALES DIVERSIFICADOS Y PROFESI...   \n",
       "2  CONTROLADORAS DE ENTIDADES DE SERVICIOS FINANC...   \n",
       "3                                      LÍNEAS AÉREAS   \n",
       "4         PRODUCCIÓN Y COMERCIALIZACIÓN DE ALIMENTOS   \n",
       "\n",
       "                             Subsector      Teléfono  \n",
       "0          ALIMENTOS, BEBIDAS Y TABACO    8181511400  \n",
       "1  SUMINISTROS Y SERVICIOS COMERCIALES    6144260024  \n",
       "2                ENTIDADES FINANCIERAS      11036600  \n",
       "3                          TRANSPORTES      91324000  \n",
       "4          ALIMENTOS, BEBIDAS Y TABACO  013312001721  "
      ]
     },
     "execution_count": 128,
     "metadata": {},
     "output_type": "execute_result"
    }
   ],
   "source": [
    "bmv = \"bmv_emisoras.csv\" \n",
    "bmv = pd.read_csv(bmv)\n",
    "bmv.head()\n"
   ]
  },
  {
   "cell_type": "code",
   "execution_count": 129,
   "metadata": {},
   "outputs": [],
   "source": [
    "ipc_path = \"ipc.xlsx\" \n",
    "market = pd.read_excel(ipc_path, index_col=0)\n",
    "market.columns = [c.replace(\" MF Equity\", \"\")\n",
    "                  .replace(\" INDEX\", \"\")\n",
    "                  .replace(\"*\", \"\")\n",
    "                  .replace(\"TLEVICPO\", \"TLEVISA\")\n",
    "                  .replace(\"GCARSOA1\", \"GCARSO\") for c in market]"
   ]
  },
  {
   "cell_type": "code",
   "execution_count": 139,
   "metadata": {},
   "outputs": [],
   "source": [
    "emisoras_IPC = pd.DataFrame({\"key\":market.keys()})"
   ]
  },
  {
   "cell_type": "code",
   "execution_count": 140,
   "metadata": {},
   "outputs": [],
   "source": [
    "for i in range(len(emisoras_IPC)):\n",
    "    if(((emisoras_IPC.loc[i,\"key\"][-3:]==\"CPO\")==True)|\n",
    "       ((emisoras_IPC.loc[i,\"key\"][-3:]==\"UBD\")==True)|\n",
    "       ((emisoras_IPC.loc[i,\"key\"][-3:]==\"UBL\")==True)):\n",
    "        emisoras_IPC.loc[i,\"key\"] = emisoras_IPC.loc[i,\"key\"][:-3]"
   ]
  },
  {
   "cell_type": "code",
   "execution_count": 141,
   "metadata": {
    "scrolled": true
   },
   "outputs": [
    {
     "data": {
      "text/html": [
       "<div>\n",
       "<style scoped>\n",
       "    .dataframe tbody tr th:only-of-type {\n",
       "        vertical-align: middle;\n",
       "    }\n",
       "\n",
       "    .dataframe tbody tr th {\n",
       "        vertical-align: top;\n",
       "    }\n",
       "\n",
       "    .dataframe thead th {\n",
       "        text-align: right;\n",
       "    }\n",
       "</style>\n",
       "<table border=\"1\" class=\"dataframe\">\n",
       "  <thead>\n",
       "    <tr style=\"text-align: right;\">\n",
       "      <th></th>\n",
       "      <th>key</th>\n",
       "      <th>Sector</th>\n",
       "    </tr>\n",
       "  </thead>\n",
       "  <tbody>\n",
       "    <tr>\n",
       "      <th>0</th>\n",
       "      <td>KIMBERA</td>\n",
       "      <td>NaN</td>\n",
       "    </tr>\n",
       "    <tr>\n",
       "      <th>1</th>\n",
       "      <td>GAPB</td>\n",
       "      <td>NaN</td>\n",
       "    </tr>\n",
       "    <tr>\n",
       "      <th>2</th>\n",
       "      <td>CEMEX</td>\n",
       "      <td>MATERIALES</td>\n",
       "    </tr>\n",
       "    <tr>\n",
       "      <th>3</th>\n",
       "      <td>ASURB</td>\n",
       "      <td>NaN</td>\n",
       "    </tr>\n",
       "    <tr>\n",
       "      <th>4</th>\n",
       "      <td>GFNORTEO</td>\n",
       "      <td>NaN</td>\n",
       "    </tr>\n",
       "  </tbody>\n",
       "</table>\n",
       "</div>"
      ],
      "text/plain": [
       "        key      Sector\n",
       "0   KIMBERA         NaN\n",
       "1      GAPB         NaN\n",
       "2     CEMEX  MATERIALES\n",
       "3     ASURB         NaN\n",
       "4  GFNORTEO         NaN"
      ]
     },
     "execution_count": 141,
     "metadata": {},
     "output_type": "execute_result"
    }
   ],
   "source": [
    "df = emisoras_IPC.merge(bmv, on='key', how='left')\n",
    "df= df.loc[:,[\"key\",\"Sector\"]]\n",
    "df.head()\n"
   ]
  },
  {
   "cell_type": "code",
   "execution_count": 142,
   "metadata": {},
   "outputs": [
    {
     "data": {
      "text/html": [
       "<div>\n",
       "<style scoped>\n",
       "    .dataframe tbody tr th:only-of-type {\n",
       "        vertical-align: middle;\n",
       "    }\n",
       "\n",
       "    .dataframe tbody tr th {\n",
       "        vertical-align: top;\n",
       "    }\n",
       "\n",
       "    .dataframe thead th {\n",
       "        text-align: right;\n",
       "    }\n",
       "</style>\n",
       "<table border=\"1\" class=\"dataframe\">\n",
       "  <thead>\n",
       "    <tr style=\"text-align: right;\">\n",
       "      <th></th>\n",
       "      <th>key</th>\n",
       "      <th>Sector</th>\n",
       "    </tr>\n",
       "  </thead>\n",
       "  <tbody>\n",
       "    <tr>\n",
       "      <th>0</th>\n",
       "      <td>KIMBER</td>\n",
       "      <td>NaN</td>\n",
       "    </tr>\n",
       "    <tr>\n",
       "      <th>1</th>\n",
       "      <td>GAP</td>\n",
       "      <td>NaN</td>\n",
       "    </tr>\n",
       "    <tr>\n",
       "      <th>2</th>\n",
       "      <td>CEMEX</td>\n",
       "      <td>MATERIALES</td>\n",
       "    </tr>\n",
       "    <tr>\n",
       "      <th>3</th>\n",
       "      <td>ASUR</td>\n",
       "      <td>NaN</td>\n",
       "    </tr>\n",
       "    <tr>\n",
       "      <th>4</th>\n",
       "      <td>GFNORTE</td>\n",
       "      <td>NaN</td>\n",
       "    </tr>\n",
       "  </tbody>\n",
       "</table>\n",
       "</div>"
      ],
      "text/plain": [
       "       key      Sector\n",
       "0   KIMBER         NaN\n",
       "1      GAP         NaN\n",
       "2    CEMEX  MATERIALES\n",
       "3     ASUR         NaN\n",
       "4  GFNORTE         NaN"
      ]
     },
     "execution_count": 142,
     "metadata": {},
     "output_type": "execute_result"
    }
   ],
   "source": [
    "for i in range(len(emisoras_IPC)):\n",
    "    if (pd.isna(df.loc[i,\"Sector\"]) ==True):\n",
    "        \n",
    "        cadena = df.iloc[i,0][:len(df.iloc[i,0]) - 1]\n",
    "        df.iloc[i,0] = cadena\n",
    "\n",
    "df.head()\n"
   ]
  },
  {
   "cell_type": "code",
   "execution_count": 153,
   "metadata": {
    "scrolled": true
   },
   "outputs": [],
   "source": [
    "bmv\n",
    "df2 = df.merge(bmv, on='key', how='left')\n",
    "df2 = (df2.loc[:,[\"key\",\"Sector_x\",\"Sector_y\"]]\n",
    "        .drop([\"Sector_x\"], axis=1))\n"
   ]
  },
  {
   "cell_type": "code",
   "execution_count": 154,
   "metadata": {},
   "outputs": [
    {
     "data": {
      "text/html": [
       "<div>\n",
       "<style scoped>\n",
       "    .dataframe tbody tr th:only-of-type {\n",
       "        vertical-align: middle;\n",
       "    }\n",
       "\n",
       "    .dataframe tbody tr th {\n",
       "        vertical-align: top;\n",
       "    }\n",
       "\n",
       "    .dataframe thead th {\n",
       "        text-align: right;\n",
       "    }\n",
       "</style>\n",
       "<table border=\"1\" class=\"dataframe\">\n",
       "  <thead>\n",
       "    <tr style=\"text-align: right;\">\n",
       "      <th></th>\n",
       "      <th>key</th>\n",
       "      <th>Sector</th>\n",
       "    </tr>\n",
       "  </thead>\n",
       "  <tbody>\n",
       "    <tr>\n",
       "      <th>0</th>\n",
       "      <td>KIMBER</td>\n",
       "      <td>PRODUCTOS DE CONSUMO FRECUENTE</td>\n",
       "    </tr>\n",
       "    <tr>\n",
       "      <th>1</th>\n",
       "      <td>GAP</td>\n",
       "      <td>INDUSTRIAL</td>\n",
       "    </tr>\n",
       "    <tr>\n",
       "      <th>2</th>\n",
       "      <td>CEMEX</td>\n",
       "      <td>MATERIALES</td>\n",
       "    </tr>\n",
       "    <tr>\n",
       "      <th>3</th>\n",
       "      <td>ASUR</td>\n",
       "      <td>INDUSTRIAL</td>\n",
       "    </tr>\n",
       "    <tr>\n",
       "      <th>4</th>\n",
       "      <td>GFNORTE</td>\n",
       "      <td>SERVICIOS FINANCIEROS</td>\n",
       "    </tr>\n",
       "    <tr>\n",
       "      <th>5</th>\n",
       "      <td>KOF</td>\n",
       "      <td>PRODUCTOS DE CONSUMO FRECUENTE</td>\n",
       "    </tr>\n",
       "    <tr>\n",
       "      <th>6</th>\n",
       "      <td>AC</td>\n",
       "      <td>PRODUCTOS DE CONSUMO FRECUENTE</td>\n",
       "    </tr>\n",
       "    <tr>\n",
       "      <th>7</th>\n",
       "      <td>LAB</td>\n",
       "      <td>SALUD</td>\n",
       "    </tr>\n",
       "    <tr>\n",
       "      <th>8</th>\n",
       "      <td>FEMSA</td>\n",
       "      <td>PRODUCTOS DE CONSUMO FRECUENTE</td>\n",
       "    </tr>\n",
       "    <tr>\n",
       "      <th>9</th>\n",
       "      <td>OMA</td>\n",
       "      <td>INDUSTRIAL</td>\n",
       "    </tr>\n",
       "    <tr>\n",
       "      <th>10</th>\n",
       "      <td>GFINBUR</td>\n",
       "      <td>SERVICIOS FINANCIEROS</td>\n",
       "    </tr>\n",
       "    <tr>\n",
       "      <th>11</th>\n",
       "      <td>AMX</td>\n",
       "      <td>SERVICIOS DE TELECOMUNICACIONES</td>\n",
       "    </tr>\n",
       "    <tr>\n",
       "      <th>12</th>\n",
       "      <td>ALSEA</td>\n",
       "      <td>SERVICIOS Y BIENES DE CONSUMO NO BÁSICO</td>\n",
       "    </tr>\n",
       "    <tr>\n",
       "      <th>13</th>\n",
       "      <td>ORBIA</td>\n",
       "      <td>INDUSTRIAL</td>\n",
       "    </tr>\n",
       "    <tr>\n",
       "      <th>14</th>\n",
       "      <td>PE&amp;OLES</td>\n",
       "      <td>MATERIALES</td>\n",
       "    </tr>\n",
       "    <tr>\n",
       "      <th>15</th>\n",
       "      <td>GRUMA</td>\n",
       "      <td>PRODUCTOS DE CONSUMO FRECUENTE</td>\n",
       "    </tr>\n",
       "    <tr>\n",
       "      <th>16</th>\n",
       "      <td>R</td>\n",
       "      <td>SERVICIOS FINANCIEROS</td>\n",
       "    </tr>\n",
       "    <tr>\n",
       "      <th>17</th>\n",
       "      <td>WALMEX</td>\n",
       "      <td>PRODUCTOS DE CONSUMO FRECUENTE</td>\n",
       "    </tr>\n",
       "    <tr>\n",
       "      <th>18</th>\n",
       "      <td>BOLSA</td>\n",
       "      <td>SERVICIOS FINANCIEROS</td>\n",
       "    </tr>\n",
       "    <tr>\n",
       "      <th>19</th>\n",
       "      <td>LIVEPOL</td>\n",
       "      <td>SERVICIOS Y BIENES DE CONSUMO NO BÁSICO</td>\n",
       "    </tr>\n",
       "    <tr>\n",
       "      <th>20</th>\n",
       "      <td>GENTERA</td>\n",
       "      <td>SERVICIOS FINANCIEROS</td>\n",
       "    </tr>\n",
       "    <tr>\n",
       "      <th>21</th>\n",
       "      <td>IENOVA</td>\n",
       "      <td>ENERGÍA</td>\n",
       "    </tr>\n",
       "    <tr>\n",
       "      <th>22</th>\n",
       "      <td>CUERVO</td>\n",
       "      <td>PRODUCTOS DE CONSUMO FRECUENTE</td>\n",
       "    </tr>\n",
       "    <tr>\n",
       "      <th>23</th>\n",
       "      <td>ELEKTRA</td>\n",
       "      <td>SERVICIOS Y BIENES DE CONSUMO NO BÁSICO</td>\n",
       "    </tr>\n",
       "    <tr>\n",
       "      <th>24</th>\n",
       "      <td>BBAJIO</td>\n",
       "      <td>SERVICIOS FINANCIEROS</td>\n",
       "    </tr>\n",
       "    <tr>\n",
       "      <th>25</th>\n",
       "      <td>ALPEK</td>\n",
       "      <td>MATERIALES</td>\n",
       "    </tr>\n",
       "    <tr>\n",
       "      <th>26</th>\n",
       "      <td>MEGA</td>\n",
       "      <td>SERVICIOS DE TELECOMUNICACIONES</td>\n",
       "    </tr>\n",
       "    <tr>\n",
       "      <th>27</th>\n",
       "      <td>GCC</td>\n",
       "      <td>MATERIALES</td>\n",
       "    </tr>\n",
       "    <tr>\n",
       "      <th>28</th>\n",
       "      <td>BIMBO</td>\n",
       "      <td>PRODUCTOS DE CONSUMO FRECUENTE</td>\n",
       "    </tr>\n",
       "    <tr>\n",
       "      <th>29</th>\n",
       "      <td>GMEXICO</td>\n",
       "      <td>MATERIALES</td>\n",
       "    </tr>\n",
       "    <tr>\n",
       "      <th>30</th>\n",
       "      <td>GCARSO</td>\n",
       "      <td>INDUSTRIAL</td>\n",
       "    </tr>\n",
       "    <tr>\n",
       "      <th>31</th>\n",
       "      <td>TLEVISA</td>\n",
       "      <td>SERVICIOS DE TELECOMUNICACIONES</td>\n",
       "    </tr>\n",
       "    <tr>\n",
       "      <th>32</th>\n",
       "      <td>ALFA</td>\n",
       "      <td>INDUSTRIAL</td>\n",
       "    </tr>\n",
       "    <tr>\n",
       "      <th>33</th>\n",
       "      <td>BSMX</td>\n",
       "      <td>SERVICIOS FINANCIEROS</td>\n",
       "    </tr>\n",
       "    <tr>\n",
       "      <th>34</th>\n",
       "      <td>PINFRA</td>\n",
       "      <td>INDUSTRIAL</td>\n",
       "    </tr>\n",
       "    <tr>\n",
       "      <th>35</th>\n",
       "      <td>MEXBO</td>\n",
       "      <td>NaN</td>\n",
       "    </tr>\n",
       "  </tbody>\n",
       "</table>\n",
       "</div>"
      ],
      "text/plain": [
       "        key                                   Sector\n",
       "0    KIMBER           PRODUCTOS DE CONSUMO FRECUENTE\n",
       "1       GAP                               INDUSTRIAL\n",
       "2     CEMEX                               MATERIALES\n",
       "3      ASUR                               INDUSTRIAL\n",
       "4   GFNORTE                    SERVICIOS FINANCIEROS\n",
       "5       KOF           PRODUCTOS DE CONSUMO FRECUENTE\n",
       "6        AC           PRODUCTOS DE CONSUMO FRECUENTE\n",
       "7       LAB                                    SALUD\n",
       "8     FEMSA           PRODUCTOS DE CONSUMO FRECUENTE\n",
       "9       OMA                               INDUSTRIAL\n",
       "10  GFINBUR                    SERVICIOS FINANCIEROS\n",
       "11      AMX          SERVICIOS DE TELECOMUNICACIONES\n",
       "12    ALSEA  SERVICIOS Y BIENES DE CONSUMO NO BÁSICO\n",
       "13    ORBIA                               INDUSTRIAL\n",
       "14  PE&OLES                               MATERIALES\n",
       "15    GRUMA           PRODUCTOS DE CONSUMO FRECUENTE\n",
       "16        R                    SERVICIOS FINANCIEROS\n",
       "17   WALMEX           PRODUCTOS DE CONSUMO FRECUENTE\n",
       "18    BOLSA                    SERVICIOS FINANCIEROS\n",
       "19  LIVEPOL  SERVICIOS Y BIENES DE CONSUMO NO BÁSICO\n",
       "20  GENTERA                    SERVICIOS FINANCIEROS\n",
       "21   IENOVA                                  ENERGÍA\n",
       "22   CUERVO           PRODUCTOS DE CONSUMO FRECUENTE\n",
       "23  ELEKTRA  SERVICIOS Y BIENES DE CONSUMO NO BÁSICO\n",
       "24   BBAJIO                    SERVICIOS FINANCIEROS\n",
       "25    ALPEK                               MATERIALES\n",
       "26     MEGA          SERVICIOS DE TELECOMUNICACIONES\n",
       "27      GCC                               MATERIALES\n",
       "28    BIMBO           PRODUCTOS DE CONSUMO FRECUENTE\n",
       "29  GMEXICO                               MATERIALES\n",
       "30   GCARSO                               INDUSTRIAL\n",
       "31  TLEVISA          SERVICIOS DE TELECOMUNICACIONES\n",
       "32     ALFA                               INDUSTRIAL\n",
       "33     BSMX                    SERVICIOS FINANCIEROS\n",
       "34   PINFRA                               INDUSTRIAL\n",
       "35    MEXBO                                      NaN"
      ]
     },
     "execution_count": 154,
     "metadata": {},
     "output_type": "execute_result"
    }
   ],
   "source": [
    "df2.rename(columns={\"Sector_y\":\"Sector\"}, inplace=True)\n",
    "df2"
   ]
  },
  {
   "cell_type": "code",
   "execution_count": 145,
   "metadata": {},
   "outputs": [
    {
     "data": {
      "text/html": [
       "<div>\n",
       "<style scoped>\n",
       "    .dataframe tbody tr th:only-of-type {\n",
       "        vertical-align: middle;\n",
       "    }\n",
       "\n",
       "    .dataframe tbody tr th {\n",
       "        vertical-align: top;\n",
       "    }\n",
       "\n",
       "    .dataframe thead th {\n",
       "        text-align: right;\n",
       "    }\n",
       "</style>\n",
       "<table border=\"1\" class=\"dataframe\">\n",
       "  <thead>\n",
       "    <tr style=\"text-align: right;\">\n",
       "      <th></th>\n",
       "      <th>Sector</th>\n",
       "    </tr>\n",
       "    <tr>\n",
       "      <th>0</th>\n",
       "      <th></th>\n",
       "    </tr>\n",
       "  </thead>\n",
       "  <tbody>\n",
       "    <tr>\n",
       "      <th>KIMBERA</th>\n",
       "      <td>PRODUCTOS DE CONSUMO FRECUENTE</td>\n",
       "    </tr>\n",
       "    <tr>\n",
       "      <th>GAPB</th>\n",
       "      <td>INDUSTRIAL</td>\n",
       "    </tr>\n",
       "    <tr>\n",
       "      <th>CEMEXCPO</th>\n",
       "      <td>MATERIALES</td>\n",
       "    </tr>\n",
       "    <tr>\n",
       "      <th>ASURB</th>\n",
       "      <td>INDUSTRIAL</td>\n",
       "    </tr>\n",
       "    <tr>\n",
       "      <th>GFNORTEO</th>\n",
       "      <td>SERVICIOS FINANCIEROS</td>\n",
       "    </tr>\n",
       "  </tbody>\n",
       "</table>\n",
       "</div>"
      ],
      "text/plain": [
       "                                  Sector\n",
       "0                                       \n",
       "KIMBERA   PRODUCTOS DE CONSUMO FRECUENTE\n",
       "GAPB                          INDUSTRIAL\n",
       "CEMEXCPO                      MATERIALES\n",
       "ASURB                         INDUSTRIAL\n",
       "GFNORTEO           SERVICIOS FINANCIEROS"
      ]
     },
     "execution_count": 145,
     "metadata": {},
     "output_type": "execute_result"
    }
   ],
   "source": [
    "Xall = market.drop(\"MEXBOL\", axis=1)\n",
    "emiso = pd.DataFrame(Xall.columns)\n",
    "df_sec = pd.concat([emiso, df2], axis=1).drop(\"key\",axis=1).set_index(0)\n",
    "df_sec.head()\n"
   ]
  },
  {
   "cell_type": "code",
   "execution_count": 146,
   "metadata": {},
   "outputs": [
    {
     "data": {
      "text/html": [
       "<div>\n",
       "<style scoped>\n",
       "    .dataframe tbody tr th:only-of-type {\n",
       "        vertical-align: middle;\n",
       "    }\n",
       "\n",
       "    .dataframe tbody tr th {\n",
       "        vertical-align: top;\n",
       "    }\n",
       "\n",
       "    .dataframe thead th {\n",
       "        text-align: right;\n",
       "    }\n",
       "</style>\n",
       "<table border=\"1\" class=\"dataframe\">\n",
       "  <thead>\n",
       "    <tr style=\"text-align: right;\">\n",
       "      <th>Sector</th>\n",
       "      <th>ENERGÍA</th>\n",
       "      <th>INDUSTRIAL</th>\n",
       "      <th>MATERIALES</th>\n",
       "      <th>PRODUCTOS DE CONSUMO FRECUENTE</th>\n",
       "      <th>SALUD</th>\n",
       "      <th>SERVICIOS DE TELECOMUNICACIONES</th>\n",
       "      <th>SERVICIOS FINANCIEROS</th>\n",
       "      <th>SERVICIOS Y BIENES DE CONSUMO NO BÁSICO</th>\n",
       "    </tr>\n",
       "    <tr>\n",
       "      <th>DATE</th>\n",
       "      <th></th>\n",
       "      <th></th>\n",
       "      <th></th>\n",
       "      <th></th>\n",
       "      <th></th>\n",
       "      <th></th>\n",
       "      <th></th>\n",
       "      <th></th>\n",
       "    </tr>\n",
       "  </thead>\n",
       "  <tbody>\n",
       "    <tr>\n",
       "      <th>2016-01-01</th>\n",
       "      <td>72.34</td>\n",
       "      <td>117.845714</td>\n",
       "      <td>58.346</td>\n",
       "      <td>108.824286</td>\n",
       "      <td>13.85</td>\n",
       "      <td>56.883333</td>\n",
       "      <td>50.148333</td>\n",
       "      <td>216.333333</td>\n",
       "    </tr>\n",
       "    <tr>\n",
       "      <th>2016-01-04</th>\n",
       "      <td>72.98</td>\n",
       "      <td>116.128571</td>\n",
       "      <td>57.482</td>\n",
       "      <td>106.207143</td>\n",
       "      <td>14.41</td>\n",
       "      <td>56.366667</td>\n",
       "      <td>49.115000</td>\n",
       "      <td>212.393333</td>\n",
       "    </tr>\n",
       "    <tr>\n",
       "      <th>2016-01-05</th>\n",
       "      <td>71.48</td>\n",
       "      <td>115.488571</td>\n",
       "      <td>57.648</td>\n",
       "      <td>105.451429</td>\n",
       "      <td>13.77</td>\n",
       "      <td>55.673333</td>\n",
       "      <td>48.971667</td>\n",
       "      <td>209.043333</td>\n",
       "    </tr>\n",
       "    <tr>\n",
       "      <th>2016-01-06</th>\n",
       "      <td>70.94</td>\n",
       "      <td>114.577143</td>\n",
       "      <td>56.514</td>\n",
       "      <td>107.150000</td>\n",
       "      <td>13.65</td>\n",
       "      <td>55.140000</td>\n",
       "      <td>48.645000</td>\n",
       "      <td>202.943333</td>\n",
       "    </tr>\n",
       "    <tr>\n",
       "      <th>2016-01-07</th>\n",
       "      <td>72.31</td>\n",
       "      <td>112.128571</td>\n",
       "      <td>56.122</td>\n",
       "      <td>106.498571</td>\n",
       "      <td>13.25</td>\n",
       "      <td>54.783333</td>\n",
       "      <td>47.453333</td>\n",
       "      <td>200.226667</td>\n",
       "    </tr>\n",
       "  </tbody>\n",
       "</table>\n",
       "</div>"
      ],
      "text/plain": [
       "Sector      ENERGÍA  INDUSTRIAL  MATERIALES  PRODUCTOS DE CONSUMO FRECUENTE  \\\n",
       "DATE                                                                          \n",
       "2016-01-01    72.34  117.845714      58.346                      108.824286   \n",
       "2016-01-04    72.98  116.128571      57.482                      106.207143   \n",
       "2016-01-05    71.48  115.488571      57.648                      105.451429   \n",
       "2016-01-06    70.94  114.577143      56.514                      107.150000   \n",
       "2016-01-07    72.31  112.128571      56.122                      106.498571   \n",
       "\n",
       "Sector      SALUD  SERVICIOS DE TELECOMUNICACIONES  SERVICIOS FINANCIEROS  \\\n",
       "DATE                                                                        \n",
       "2016-01-01  13.85                        56.883333              50.148333   \n",
       "2016-01-04  14.41                        56.366667              49.115000   \n",
       "2016-01-05  13.77                        55.673333              48.971667   \n",
       "2016-01-06  13.65                        55.140000              48.645000   \n",
       "2016-01-07  13.25                        54.783333              47.453333   \n",
       "\n",
       "Sector      SERVICIOS Y BIENES DE CONSUMO NO BÁSICO  \n",
       "DATE                                                 \n",
       "2016-01-01                               216.333333  \n",
       "2016-01-04                               212.393333  \n",
       "2016-01-05                               209.043333  \n",
       "2016-01-06                               202.943333  \n",
       "2016-01-07                               200.226667  "
      ]
     },
     "execution_count": 146,
     "metadata": {},
     "output_type": "execute_result"
    }
   ],
   "source": [
    "X = Xall.groupby(df_c['Sector'],axis = 1).mean()\n",
    "X.head()"
   ]
  },
  {
   "cell_type": "code",
   "execution_count": 119,
   "metadata": {},
   "outputs": [
    {
     "data": {
      "text/plain": [
       "0    535\n",
       "1    510\n",
       "Name: MEXBOL, dtype: int64"
      ]
     },
     "execution_count": 119,
     "metadata": {},
     "output_type": "execute_result"
    }
   ],
   "source": [
    "Rmkt = X.pct_change().dropna()\n",
    "y = (market[\"MEXBOL\"].pct_change() > 0).astype(int)\n",
    "X = Rmkt.join(y, how=\"inner\")\n",
    "\n",
    "y = X[\"MEXBOL\"]\n",
    "X = X.drop(\"MEXBOL\", axis=1)\n",
    "y.value_counts()"
   ]
  },
  {
   "cell_type": "code",
   "execution_count": 95,
   "metadata": {},
   "outputs": [],
   "source": [
    "train_period = \"2019-10\"\n",
    "test_period = \"2019-11-20\"\n",
    "Xtrain, ytrain = X[:train_period], y[:train_period]\n",
    "Xtest, ytest = X[:test_period], y[:test_period]"
   ]
  },
  {
   "cell_type": "code",
   "execution_count": 164,
   "metadata": {},
   "outputs": [],
   "source": [
    "from sklearn.pipeline import Pipeline\n",
    "from numpy.random import uniform\n",
    "from sklearn.preprocessing import PolynomialFeatures\n",
    "from sklearn.linear_model import LogisticRegression\n",
    "from sklearn.model_selection import cross_validate, GridSearchCV\n",
    "from sklearn.metrics import precision_score, recall_score, f1_score,confusion_matrix"
   ]
  },
  {
   "cell_type": "code",
   "execution_count": 102,
   "metadata": {},
   "outputs": [
    {
     "data": {
      "text/plain": [
       "GridSearchCV(cv=None, error_score=nan,\n",
       "             estimator=Pipeline(memory=None,\n",
       "                                steps=[('poly',\n",
       "                                        PolynomialFeatures(degree=2,\n",
       "                                                           include_bias=False,\n",
       "                                                           interaction_only=False,\n",
       "                                                           order='C')),\n",
       "                                       ('model',\n",
       "                                        LogisticRegression(C=1.0,\n",
       "                                                           class_weight=None,\n",
       "                                                           dual=False,\n",
       "                                                           fit_intercept=True,\n",
       "                                                           intercept_scaling=1,\n",
       "                                                           l1_ratio=None,\n",
       "                                                           max_iter=100,\n",
       "                                                           multi_class='auto',\n",
       "                                                           n_jobs=None,\n",
       "                                                           penalty='l2',\n",
       "                                                           random_state...\n",
       "       0.70055823, 0.41800559, 0.18576112, 0.23452859, 0.40412474,\n",
       "       0.11065083, 0.76195138, 0.33260401, 0.1565588 , 0.30371891,\n",
       "       0.57370741, 0.49882598, 0.18651445, 0.71684394, 0.94133955,\n",
       "       0.17723388, 0.20659619, 0.38398366, 0.93909657, 0.84739018]),\n",
       "                         'model__warm_start': [True, False],\n",
       "                         'poly__degree': [1, 2]},\n",
       "             pre_dispatch='2*n_jobs', refit=True, return_train_score=False,\n",
       "             scoring='accuracy', verbose=0)"
      ]
     },
     "execution_count": 102,
     "metadata": {},
     "output_type": "execute_result"
    }
   ],
   "source": [
    "param_c = uniform(0.1, 1, 280)\n",
    "\n",
    "params = {\n",
    "    \"model__warm_start\":[True,False],\n",
    "    \"model__C\": param_c,\n",
    "    #\"model__penalty\": [\"l1\",\"l2\"],\n",
    "    \"poly__degree\": [1,2]\n",
    "    \n",
    "}\n",
    "\n",
    "pipe = Pipeline([\n",
    "    (\"poly\", PolynomialFeatures(degree=2, include_bias=False)),\n",
    "    (\"model\", LogisticRegression(penalty=\"l2\"))\n",
    "])\n",
    "\n",
    "\n",
    "gcv = GridSearchCV(pipe, params, scoring=\"accuracy\")\n",
    "gcv.fit(Xtrain, ytrain)"
   ]
  },
  {
   "cell_type": "code",
   "execution_count": 162,
   "metadata": {},
   "outputs": [
    {
     "data": {
      "text/plain": [
       "{'model__C': 0.997444462826737, 'model__warm_start': True, 'poly__degree': 1}"
      ]
     },
     "execution_count": 162,
     "metadata": {},
     "output_type": "execute_result"
    }
   ],
   "source": [
    "gcv.best_params_"
   ]
  },
  {
   "cell_type": "code",
   "execution_count": 163,
   "metadata": {},
   "outputs": [
    {
     "data": {
      "text/plain": [
       "array([[1.81162331, 2.53718982, 2.56213822, 1.9905591 , 1.89410918,\n",
       "        2.01973225, 2.5651782 , 1.27150996]])"
      ]
     },
     "execution_count": 163,
     "metadata": {},
     "output_type": "execute_result"
    }
   ],
   "source": [
    "gcv.best_estimator_.named_steps[\"model\"].coef_"
   ]
  },
  {
   "cell_type": "code",
   "execution_count": 105,
   "metadata": {},
   "outputs": [
    {
     "data": {
      "text/plain": [
       "{'fit_time': array([34.56914926, 37.99857092, 35.88951397, 35.09012699, 35.21798205]),\n",
       " 'score_time': array([0.00117302, 0.00091982, 0.00080919, 0.00080585, 0.0008111 ]),\n",
       " 'test_score': array([0.755     , 0.775     , 0.705     , 0.765     , 0.79899497])}"
      ]
     },
     "execution_count": 105,
     "metadata": {},
     "output_type": "execute_result"
    }
   ],
   "source": [
    "res = cross_validate(gcv, Xtrain, ytrain, scoring=\"accuracy\",cv=5)\n",
    "res"
   ]
  },
  {
   "cell_type": "code",
   "execution_count": 58,
   "metadata": {},
   "outputs": [
    {
     "data": {
      "text/plain": [
       "0.7608040201005025"
      ]
     },
     "execution_count": 58,
     "metadata": {},
     "output_type": "execute_result"
    }
   ],
   "source": [
    "res[\"test_score\"].mean()"
   ]
  },
  {
   "cell_type": "markdown",
   "metadata": {},
   "source": [
    "## Metrics "
   ]
  },
  {
   "cell_type": "code",
   "execution_count": 165,
   "metadata": {},
   "outputs": [
    {
     "name": "stdout",
     "output_type": "stream",
     "text": [
      "Precisión: 0.9041916167664671\n",
      "Recall: 0.6101010101010101\n",
      "F1: 0.7285886610373944\n"
     ]
    }
   ],
   "source": [
    "print(\"Precisión:\", precision_score(ytest, yhat))\n",
    "print(\"Recall:\",recall_score(ytest, yhat))\n",
    "print(\"F1:\", f1_score(ytest, yhat))"
   ]
  },
  {
   "cell_type": "code",
   "execution_count": 166,
   "metadata": {},
   "outputs": [
    {
     "data": {
      "text/plain": [
       "<matplotlib.axes._subplots.AxesSubplot at 0x1a1a68f710>"
      ]
     },
     "execution_count": 166,
     "metadata": {},
     "output_type": "execute_result"
    },
    {
     "data": {
      "image/png": "[encoded data removed]",
      "text/plain": [
       "<Figure size 432x288 with 2 Axes>"
      ]
     },
     "metadata": {
      "needs_background": "light"
     },
     "output_type": "display_data"
    }
   ],
   "source": [
    "yhat = gcv.predict(Xtest)\n",
    "con_matrix = confusion_matrix(ytest, yhat, labels=[0, 1])\n",
    "sns.heatmap(con_matrix, annot=True,fmt=\"d\")"
   ]
  },
  {
   "cell_type": "code",
   "execution_count": 159,
   "metadata": {},
   "outputs": [],
   "source": [
    "from sklearn.metrics import precision_recall_curve"
   ]
  },
  {
   "cell_type": "code",
   "execution_count": 167,
   "metadata": {},
   "outputs": [
    {
     "data": {
      "text/plain": [
       "Text(0.5, 0, 'Nivel de proba asignada')"
      ]
     },
     "execution_count": 167,
     "metadata": {},
     "output_type": "execute_result"
    },
    {
     "data": {
      "image/png": "[encoded data removed]",
      "text/plain": [
       "<Figure size 432x288 with 1 Axes>"
      ]
     },
     "metadata": {
      "needs_background": "light"
     },
     "output_type": "display_data"
    }
   ],
   "source": [
    "proba_estimate = gcv.predict_proba(Xtest)[:, 1]\n",
    "prec, recall, threshold = precision_recall_curve(ytest, proba_estimate)\n",
    "\n",
    "plt.plot(threshold, prec[:-1], label=\"precision\")\n",
    "plt.plot(threshold, recall[:-1], label=\"recall\")\n",
    "plt.legend()\n",
    "plt.axvline(x=0.5, linestyle=\"--\", c=\"black\")\n",
    "plt.axhline(y=0.5, linestyle=\"--\", c=\"black\")\n",
    "plt.xlabel(\"Nivel de proba asignada\")"
   ]
  }
 ],
 "metadata": {
  "kernelspec": {
   "display_name": "Python 3",
   "language": "python",
   "name": "python3"
  },
  "language_info": {
   "codemirror_mode": {
    "name": "ipython",
    "version": 3
   },
   "file_extension": ".py",
   "mimetype": "text/x-python",
   "name": "python",
   "nbconvert_exporter": "python",
   "pygments_lexer": "ipython3",
   "version": "3.7.6"
  }
 },
 "nbformat": 4,
 "nbformat_minor": 2
}
