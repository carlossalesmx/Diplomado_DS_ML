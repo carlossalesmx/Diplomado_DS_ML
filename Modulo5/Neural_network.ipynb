{
 "cells": [
  {
   "cell_type": "markdown",
   "metadata": {},
   "source": [
    "# Neural Network"
   ]
  },
  {
   "cell_type": "code",
   "execution_count": 94,
   "metadata": {},
   "outputs": [],
   "source": [
    "from sklearn.metrics import confusion_matrix, classification_report\n",
    "import seaborn as sns\n",
    "import matplotlib.pyplot as plt\n",
    "%matplotlib inline\n",
    "import numpy as np\n",
    "import pandas as pd\n",
    "import sys\n",
    "import numpy as np\n",
    "import os\n",
    "from datetime import datetime\n",
    "import matplotlib.pyplot as plt\n",
    "import tensorflow as tf\n",
    "from tensorflow.keras.models import Model\n",
    "from tensorflow.keras.layers import Input, Dense, Flatten, Dropout\n",
    "from tensorflow.keras.datasets import fashion_mnist\n"
   ]
  },
  {
   "cell_type": "code",
   "execution_count": 4,
   "metadata": {},
   "outputs": [
    {
     "name": "stdout",
     "output_type": "stream",
     "text": [
      "Downloading data from https://storage.googleapis.com/tensorflow/tf-keras-datasets/train-labels-idx1-ubyte.gz\n",
      "32768/29515 [=================================] - 1s 45us/step\n",
      "Downloading data from https://storage.googleapis.com/tensorflow/tf-keras-datasets/train-images-idx3-ubyte.gz\n",
      "26427392/26421880 [==============================] - 68s 3us/step\n",
      "Downloading data from https://storage.googleapis.com/tensorflow/tf-keras-datasets/t10k-labels-idx1-ubyte.gz\n",
      "8192/5148 [===============================================] - 0s 0us/step\n",
      "Downloading data from https://storage.googleapis.com/tensorflow/tf-keras-datasets/t10k-images-idx3-ubyte.gz\n",
      "4423680/4422102 [==============================] - 1s 0us/step\n"
     ]
    }
   ],
   "source": [
    "(X_train, y_train), (X_test, y_test) = fashion_mnist.load_data()"
   ]
  },
  {
   "cell_type": "code",
   "execution_count": 5,
   "metadata": {},
   "outputs": [],
   "source": [
    "X_cv, X_test = X_test[7000:], X_test[:7000]\n",
    "y_cv, y_test = y_test[7000:], y_test[:7000]"
   ]
  },
  {
   "cell_type": "code",
   "execution_count": 116,
   "metadata": {},
   "outputs": [],
   "source": [
    "def my_nn(activation=\"relu\", optimizer=\"Adamax\", layers=(300, 100)):\n",
    "  Xin = Input(shape=(28, 28))\n",
    "  X = Flatten()(Xin)\n",
    "  \n",
    "  for layer in layers:\n",
    "    X = Dense(layer, activation=activation)(X)\n",
    "  x = Dropout(0.2)\n",
    "  X = Dense(10, activation=\"softmax\")(X)\n",
    "\n",
    "  model = Model(inputs=Xin, outputs=X)\n",
    "\n",
    "  model.compile(optimizer=optimizer,\n",
    "              loss=\"sparse_categorical_crossentropy\",\n",
    "          metrics=[\"accuracy\"])\n",
    "  \n",
    "  return model"
   ]
  },
  {
   "cell_type": "code",
   "execution_count": 117,
   "metadata": {},
   "outputs": [],
   "source": [
    "logdir = os.path.join(\"logs\", datetime.now().strftime(\"%Y%m%d-%H%M%S\"))\n",
    "logdir = os.path.join(\"logs\", \"run_5\")\n",
    "\n",
    "tensorflow_callback = tf.keras.callbacks.TensorBoard(logdir, histogram_freq=1)\n",
    "stopping_callback = tf.keras.callbacks.EarlyStopping(patience=2)"
   ]
  },
  {
   "cell_type": "code",
   "execution_count": 118,
   "metadata": {},
   "outputs": [
    {
     "name": "stdout",
     "output_type": "stream",
     "text": [
      "Train on 60000 samples, validate on 3000 samples\n",
      "Epoch 1/600\n",
      "60000/60000 [==============================] - 7s 118us/sample - loss: 0.5064 - acc: 0.8182 - val_loss: 0.4250 - val_acc: 0.8420\n",
      "Epoch 2/600\n",
      "60000/60000 [==============================] - 7s 109us/sample - loss: 0.3710 - acc: 0.8643 - val_loss: 0.3739 - val_acc: 0.8617\n",
      "Epoch 3/600\n",
      "60000/60000 [==============================] - 7s 113us/sample - loss: 0.3369 - acc: 0.8746 - val_loss: 0.3449 - val_acc: 0.8747\n",
      "Epoch 4/600\n",
      "60000/60000 [==============================] - 7s 115us/sample - loss: 0.3101 - acc: 0.8853 - val_loss: 0.3431 - val_acc: 0.8753\n",
      "Epoch 5/600\n",
      "60000/60000 [==============================] - 7s 115us/sample - loss: 0.2931 - acc: 0.8906 - val_loss: 0.3433 - val_acc: 0.8710\n",
      "Epoch 6/600\n",
      "60000/60000 [==============================] - 7s 115us/sample - loss: 0.2749 - acc: 0.8972 - val_loss: 0.3115 - val_acc: 0.8873\n",
      "Epoch 7/600\n",
      "60000/60000 [==============================] - 7s 117us/sample - loss: 0.2624 - acc: 0.9021 - val_loss: 0.3112 - val_acc: 0.8843\n",
      "Epoch 8/600\n",
      "60000/60000 [==============================] - 7s 117us/sample - loss: 0.2506 - acc: 0.9057 - val_loss: 0.3084 - val_acc: 0.8953\n",
      "Epoch 9/600\n",
      "60000/60000 [==============================] - 7s 119us/sample - loss: 0.2412 - acc: 0.9096 - val_loss: 0.3005 - val_acc: 0.8890\n",
      "Epoch 10/600\n",
      "60000/60000 [==============================] - 7s 118us/sample - loss: 0.2292 - acc: 0.9136 - val_loss: 0.3029 - val_acc: 0.8980\n",
      "Epoch 11/600\n",
      "60000/60000 [==============================] - 7s 118us/sample - loss: 0.2232 - acc: 0.9146 - val_loss: 0.2912 - val_acc: 0.8940\n",
      "Epoch 12/600\n",
      "60000/60000 [==============================] - 7s 119us/sample - loss: 0.2117 - acc: 0.9197 - val_loss: 0.2971 - val_acc: 0.8913\n",
      "Epoch 13/600\n",
      "60000/60000 [==============================] - 7s 117us/sample - loss: 0.2050 - acc: 0.9219 - val_loss: 0.3042 - val_acc: 0.9043\n"
     ]
    },
    {
     "data": {
      "text/plain": [
       "<tensorflow.python.keras.callbacks.History at 0x640d40fd0>"
      ]
     },
     "execution_count": 118,
     "metadata": {},
     "output_type": "execute_result"
    }
   ],
   "source": [
    "tf.keras.backend.clear_session()\n",
    "model = my_nn(activation = 'relu',layers=(300, 100, 100, 100,50))\n",
    "model.fit(x=X_train / 255.0, y=y_train,\n",
    "          epochs=600,\n",
    "          validation_data=(X_cv / 255.0, y_cv),\n",
    "           callbacks=[tensorflow_callback, stopping_callback])"
   ]
  },
  {
   "cell_type": "code",
   "execution_count": 119,
   "metadata": {},
   "outputs": [],
   "source": [
    "\n",
    "np.set_printoptions(threshold=sys.maxsize)\n",
    "y_predict = model.predict(X_test)\n",
    "y_predict_con = np.argmax(y_predict,  axis = 1)"
   ]
  },
  {
   "cell_type": "code",
   "execution_count": 120,
   "metadata": {},
   "outputs": [
    {
     "data": {
      "text/html": [
       "<div>\n",
       "<style scoped>\n",
       "    .dataframe tbody tr th:only-of-type {\n",
       "        vertical-align: middle;\n",
       "    }\n",
       "\n",
       "    .dataframe tbody tr th {\n",
       "        vertical-align: top;\n",
       "    }\n",
       "\n",
       "    .dataframe thead th {\n",
       "        text-align: right;\n",
       "    }\n",
       "</style>\n",
       "<table border=\"1\" class=\"dataframe\">\n",
       "  <thead>\n",
       "    <tr style=\"text-align: right;\">\n",
       "      <th>Prediccciones</th>\n",
       "      <th>0</th>\n",
       "      <th>1</th>\n",
       "      <th>2</th>\n",
       "      <th>3</th>\n",
       "      <th>4</th>\n",
       "      <th>5</th>\n",
       "      <th>6</th>\n",
       "      <th>7</th>\n",
       "      <th>8</th>\n",
       "      <th>9</th>\n",
       "    </tr>\n",
       "    <tr>\n",
       "      <th>Actuales</th>\n",
       "      <th></th>\n",
       "      <th></th>\n",
       "      <th></th>\n",
       "      <th></th>\n",
       "      <th></th>\n",
       "      <th></th>\n",
       "      <th></th>\n",
       "      <th></th>\n",
       "      <th></th>\n",
       "      <th></th>\n",
       "    </tr>\n",
       "  </thead>\n",
       "  <tbody>\n",
       "    <tr>\n",
       "      <th>0</th>\n",
       "      <td>514</td>\n",
       "      <td>7</td>\n",
       "      <td>4</td>\n",
       "      <td>20</td>\n",
       "      <td>9</td>\n",
       "      <td>1</td>\n",
       "      <td>112</td>\n",
       "      <td>0</td>\n",
       "      <td>19</td>\n",
       "      <td>2</td>\n",
       "    </tr>\n",
       "    <tr>\n",
       "      <th>1</th>\n",
       "      <td>0</td>\n",
       "      <td>666</td>\n",
       "      <td>0</td>\n",
       "      <td>13</td>\n",
       "      <td>1</td>\n",
       "      <td>0</td>\n",
       "      <td>0</td>\n",
       "      <td>0</td>\n",
       "      <td>1</td>\n",
       "      <td>0</td>\n",
       "    </tr>\n",
       "    <tr>\n",
       "      <th>2</th>\n",
       "      <td>6</td>\n",
       "      <td>7</td>\n",
       "      <td>383</td>\n",
       "      <td>10</td>\n",
       "      <td>191</td>\n",
       "      <td>0</td>\n",
       "      <td>123</td>\n",
       "      <td>0</td>\n",
       "      <td>7</td>\n",
       "      <td>0</td>\n",
       "    </tr>\n",
       "    <tr>\n",
       "      <th>3</th>\n",
       "      <td>11</td>\n",
       "      <td>22</td>\n",
       "      <td>2</td>\n",
       "      <td>603</td>\n",
       "      <td>41</td>\n",
       "      <td>0</td>\n",
       "      <td>21</td>\n",
       "      <td>0</td>\n",
       "      <td>5</td>\n",
       "      <td>4</td>\n",
       "    </tr>\n",
       "    <tr>\n",
       "      <th>4</th>\n",
       "      <td>0</td>\n",
       "      <td>0</td>\n",
       "      <td>15</td>\n",
       "      <td>19</td>\n",
       "      <td>631</td>\n",
       "      <td>0</td>\n",
       "      <td>45</td>\n",
       "      <td>0</td>\n",
       "      <td>2</td>\n",
       "      <td>0</td>\n",
       "    </tr>\n",
       "    <tr>\n",
       "      <th>5</th>\n",
       "      <td>0</td>\n",
       "      <td>0</td>\n",
       "      <td>0</td>\n",
       "      <td>0</td>\n",
       "      <td>1</td>\n",
       "      <td>578</td>\n",
       "      <td>0</td>\n",
       "      <td>26</td>\n",
       "      <td>5</td>\n",
       "      <td>94</td>\n",
       "    </tr>\n",
       "    <tr>\n",
       "      <th>6</th>\n",
       "      <td>55</td>\n",
       "      <td>4</td>\n",
       "      <td>17</td>\n",
       "      <td>17</td>\n",
       "      <td>93</td>\n",
       "      <td>0</td>\n",
       "      <td>480</td>\n",
       "      <td>0</td>\n",
       "      <td>26</td>\n",
       "      <td>0</td>\n",
       "    </tr>\n",
       "    <tr>\n",
       "      <th>7</th>\n",
       "      <td>0</td>\n",
       "      <td>0</td>\n",
       "      <td>0</td>\n",
       "      <td>0</td>\n",
       "      <td>0</td>\n",
       "      <td>3</td>\n",
       "      <td>0</td>\n",
       "      <td>523</td>\n",
       "      <td>0</td>\n",
       "      <td>167</td>\n",
       "    </tr>\n",
       "    <tr>\n",
       "      <th>8</th>\n",
       "      <td>0</td>\n",
       "      <td>1</td>\n",
       "      <td>0</td>\n",
       "      <td>3</td>\n",
       "      <td>6</td>\n",
       "      <td>1</td>\n",
       "      <td>7</td>\n",
       "      <td>1</td>\n",
       "      <td>688</td>\n",
       "      <td>2</td>\n",
       "    </tr>\n",
       "    <tr>\n",
       "      <th>9</th>\n",
       "      <td>0</td>\n",
       "      <td>0</td>\n",
       "      <td>0</td>\n",
       "      <td>0</td>\n",
       "      <td>0</td>\n",
       "      <td>0</td>\n",
       "      <td>0</td>\n",
       "      <td>2</td>\n",
       "      <td>1</td>\n",
       "      <td>682</td>\n",
       "    </tr>\n",
       "  </tbody>\n",
       "</table>\n",
       "</div>"
      ],
      "text/plain": [
       "Prediccciones    0    1    2    3    4    5    6    7    8    9\n",
       "Actuales                                                       \n",
       "0              514    7    4   20    9    1  112    0   19    2\n",
       "1                0  666    0   13    1    0    0    0    1    0\n",
       "2                6    7  383   10  191    0  123    0    7    0\n",
       "3               11   22    2  603   41    0   21    0    5    4\n",
       "4                0    0   15   19  631    0   45    0    2    0\n",
       "5                0    0    0    0    1  578    0   26    5   94\n",
       "6               55    4   17   17   93    0  480    0   26    0\n",
       "7                0    0    0    0    0    3    0  523    0  167\n",
       "8                0    1    0    3    6    1    7    1  688    2\n",
       "9                0    0    0    0    0    0    0    2    1  682"
      ]
     },
     "execution_count": 120,
     "metadata": {},
     "output_type": "execute_result"
    }
   ],
   "source": [
    "df_data = pd.DataFrame(data, columns = np.unique(y_test), \n",
    "                     index = np.unique(y_test))\n",
    "df_data.index.name = 'Actuales'\n",
    "df_data.columns.name = 'Prediccciones'\n",
    "\n",
    "df_data"
   ]
  },
  {
   "cell_type": "code",
   "execution_count": 121,
   "metadata": {
    "scrolled": false
   },
   "outputs": [
    {
     "data": {
      "text/plain": [
       "<matplotlib.axes._subplots.AxesSubplot at 0x642a665d0>"
      ]
     },
     "execution_count": 121,
     "metadata": {},
     "output_type": "execute_result"
    },
    {
     "data": {
      "image/png": "[encoded data removed]",
      "text/plain": [
       "<Figure size 720x720 with 2 Axes>"
      ]
     },
     "metadata": {
      "needs_background": "light"
     },
     "output_type": "display_data"
    }
   ],
   "source": [
    "plt.figure(figsize = (10,10))\n",
    "sns.heatmap(df_data,  \n",
    "            cmap=\"YlGnBu\",\n",
    "            annot=True, \n",
    "            fmt='g')"
   ]
  }
 ],
 "metadata": {
  "kernelspec": {
   "display_name": "Python 3",
   "language": "python",
   "name": "python3"
  },
  "language_info": {
   "codemirror_mode": {
    "name": "ipython",
    "version": 3
   },
   "file_extension": ".py",
   "mimetype": "text/x-python",
   "name": "python",
   "nbconvert_exporter": "python",
   "pygments_lexer": "ipython3",
   "version": "3.7.6"
  }
 },
 "nbformat": 4,
 "nbformat_minor": 4
}
