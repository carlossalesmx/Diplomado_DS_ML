{
 "cells": [
  {
   "cell_type": "markdown",
   "metadata": {},
   "source": [
    "# Comunicados de Política Monetaria\n",
    "## Parte 1.\n",
    "\n",
    "En este notebook crearemos un pandas DataFrame con las decisiones de política monetaria de Banxico y haremos un análisis de la información recabada."
   ]
  },
  {
   "cell_type": "code",
   "execution_count": 121,
   "metadata": {},
   "outputs": [],
   "source": [
    "import re\n",
    "import os\n",
    "import pandas as pd\n",
    "import matplotlib.pyplot as plt\n",
    "from requests_html import HTMLSession\n",
    "from collections import defaultdict\n",
    "from unidecode import unidecode\n",
    "from datetime import datetime\n",
    "import PyPDF2\n",
    "import os\n",
    "from tqdm import tqdm\n",
    "import re\n",
    "import pickle\n",
    "import pandas as pd\n",
    "import numpy as np\n",
    "import matplotlib.pyplot as plt\n",
    "from unidecode import unidecode\n",
    "from nltk import corpus\n",
    "from collections import defaultdict\n",
    "from tqdm.notebook import tqdm\n",
    "from sklearn.model_selection import train_test_split"
   ]
  },
  {
   "cell_type": "code",
   "execution_count": 196,
   "metadata": {},
   "outputs": [],
   "source": [
    "%config InlineBackend.figure_format = \"retina\"\n",
    "plt.rcParams[\"figure.figsize\"] = (12, 4)"
   ]
  },
  {
   "cell_type": "markdown",
   "metadata": {},
   "source": [
    "La información de decisción de política monetaria se encuentra en la siguiente url."
   ]
  },
  {
   "cell_type": "code",
   "execution_count": 197,
   "metadata": {},
   "outputs": [],
   "source": [
    "url = (\"https://www.banxico.org.mx/publicaciones-y-prensa/\"\n",
    "      \"anuncios-de-las-decisiones-de-politica-monetaria/\"\n",
    "      \"anuncios-politica-monetaria-t.html\")"
   ]
  },
  {
   "cell_type": "markdown",
   "metadata": {},
   "source": [
    "* Entra a `url` y analiza la página."
   ]
  },
  {
   "cell_type": "code",
   "execution_count": 198,
   "metadata": {
    "scrolled": true
   },
   "outputs": [
    {
     "name": "stdout",
     "output_type": "stream",
     "text": [
      "https://www.banxico.org.mx/publicaciones-y-prensa/anuncios-de-las-decisiones-de-politica-monetaria/anuncios-politica-monetaria-t.html\n"
     ]
    }
   ],
   "source": [
    "print(url)"
   ]
  },
  {
   "cell_type": "markdown",
   "metadata": {},
   "source": [
    "* Como podemos observar, la url objetivo contiene\n",
    "    * las fechas de decisiones de política monetaria,\n",
    "    * el resumen de las decisiones de política monetaria y\n",
    "    * una url que nos dirige a un pdf con el texto completo del Anuncio de Política Monetaria.\n",
    "    \n",
    "<h3 style=\"color:crimson\">Ejercicio</h3>\n",
    "\n",
    "1. Por medio de `requests_html`, extrae los tres puntos antes mencionados y guárdalos dentro de un DataFrame con columnas `\"date\"`, `\"text\"` y `\"url\"`;\n",
    "2. Con el dataframe seleccionado, filtra todos comunicados anteriores al 15 de febrero de 2008, i.e., queremos todos los comunicados a partir del 15 de Febrero de 2008;\n",
    "3. Guarda tu DataFrame dentro de un archivo `.pkl` con nombre `comunicados-banxico.pkl`: **hint:** Revisa el uso del método `to_pickle`."
   ]
  },
  {
   "cell_type": "code",
   "execution_count": 199,
   "metadata": {},
   "outputs": [
    {
     "data": {
      "text/plain": [
       "<Response [200]>"
      ]
     },
     "execution_count": 199,
     "metadata": {},
     "output_type": "execute_result"
    }
   ],
   "source": [
    "with HTMLSession() as sess:\n",
    "    r=sess.get(url)\n",
    "\n",
    "r"
   ]
  },
  {
   "cell_type": "code",
   "execution_count": 200,
   "metadata": {},
   "outputs": [],
   "source": [
    "table = r.html.find(\"tr\")"
   ]
  },
  {
   "cell_type": "code",
   "execution_count": 201,
   "metadata": {},
   "outputs": [
    {
     "data": {
      "text/plain": [
       "'13/02/20'"
      ]
     },
     "execution_count": 201,
     "metadata": {},
     "output_type": "execute_result"
    }
   ],
   "source": [
    "table[0].find(\"td[class='bmdateview']\", first = True).text"
   ]
  },
  {
   "cell_type": "code",
   "execution_count": 202,
   "metadata": {},
   "outputs": [
    {
     "data": {
      "text/plain": [
       "'El objetivo para la Tasa de Inter�s Interbancaria a 1 d�a (tasa objetivo) disminuye en 25 puntos base\\nTexto completo'"
      ]
     },
     "execution_count": 202,
     "metadata": {},
     "output_type": "execute_result"
    }
   ],
   "source": [
    "table[0].find(\"td[class='bmtextview']\", first = True).text"
   ]
  },
  {
   "cell_type": "code",
   "execution_count": 203,
   "metadata": {},
   "outputs": [
    {
     "data": {
      "text/plain": [
       "{'https://www.banxico.org.mx/publicaciones-y-prensa/anuncios-de-las-decisiones-de-politica-monetaria/{F2570B49-2124-CAD3-09A5-380DC3E4CD0C}.pdf'}"
      ]
     },
     "execution_count": 203,
     "metadata": {},
     "output_type": "execute_result"
    }
   ],
   "source": [
    "table[0].find(\"td[class='bmtextview']\", first = True).absolute_links"
   ]
  },
  {
   "cell_type": "code",
   "execution_count": 204,
   "metadata": {},
   "outputs": [],
   "source": [
    "def extract_info(row):\n",
    "    date_text = row.find(\"td[class='bmdateview']\", first = True).text\n",
    "    date = datetime.strptime(date_text,\"%d/%m/%y\")\n",
    "    text = row.find(\"td[class='bmtextview']\", first = True).text\n",
    "    url, *_ = row.find(\"td[class='bmtextview']\", first = True).absolute_links\n",
    "    \n",
    "    return {\n",
    "        \"fecha\": date,\n",
    "        \"text\": text,\n",
    "        \"url\": url\n",
    "    }"
   ]
  },
  {
   "cell_type": "code",
   "execution_count": 205,
   "metadata": {
    "scrolled": true
   },
   "outputs": [
    {
     "data": {
      "text/plain": [
       "{'fecha': datetime.datetime(2020, 2, 13, 0, 0),\n",
       " 'text': 'El objetivo para la Tasa de Inter�s Interbancaria a 1 d�a (tasa objetivo) disminuye en 25 puntos base\\nTexto completo',\n",
       " 'url': 'https://www.banxico.org.mx/publicaciones-y-prensa/anuncios-de-las-decisiones-de-politica-monetaria/{F2570B49-2124-CAD3-09A5-380DC3E4CD0C}.pdf'}"
      ]
     },
     "execution_count": 205,
     "metadata": {},
     "output_type": "execute_result"
    }
   ],
   "source": [
    "extract_info(table[0])"
   ]
  },
  {
   "cell_type": "code",
   "execution_count": 206,
   "metadata": {},
   "outputs": [
    {
     "data": {
      "text/html": [
       "<div>\n",
       "<style scoped>\n",
       "    .dataframe tbody tr th:only-of-type {\n",
       "        vertical-align: middle;\n",
       "    }\n",
       "\n",
       "    .dataframe tbody tr th {\n",
       "        vertical-align: top;\n",
       "    }\n",
       "\n",
       "    .dataframe thead th {\n",
       "        text-align: right;\n",
       "    }\n",
       "</style>\n",
       "<table border=\"1\" class=\"dataframe\">\n",
       "  <thead>\n",
       "    <tr style=\"text-align: right;\">\n",
       "      <th></th>\n",
       "      <th>text</th>\n",
       "      <th>url</th>\n",
       "    </tr>\n",
       "    <tr>\n",
       "      <th>fecha</th>\n",
       "      <th></th>\n",
       "      <th></th>\n",
       "    </tr>\n",
       "  </thead>\n",
       "  <tbody>\n",
       "    <tr>\n",
       "      <th>2008-02-15</th>\n",
       "      <td>El objetivo para la Tasa de Inter�s Interbanca...</td>\n",
       "      <td>https://www.banxico.org.mx/publicaciones-y-pre...</td>\n",
       "    </tr>\n",
       "    <tr>\n",
       "      <th>2008-03-14</th>\n",
       "      <td>El objetivo para la Tasa de Inter�s Interbanca...</td>\n",
       "      <td>https://www.banxico.org.mx/publicaciones-y-pre...</td>\n",
       "    </tr>\n",
       "    <tr>\n",
       "      <th>2008-04-18</th>\n",
       "      <td>El objetivo para la Tasa de Inter�s Interbanca...</td>\n",
       "      <td>https://www.banxico.org.mx/publicaciones-y-pre...</td>\n",
       "    </tr>\n",
       "    <tr>\n",
       "      <th>2008-05-16</th>\n",
       "      <td>El objetivo para la Tasa de Inter�s Interbanca...</td>\n",
       "      <td>https://www.banxico.org.mx/publicaciones-y-pre...</td>\n",
       "    </tr>\n",
       "    <tr>\n",
       "      <th>2008-06-20</th>\n",
       "      <td>El objetivo para la Tasa de Inter�s Interbanca...</td>\n",
       "      <td>https://www.banxico.org.mx/publicaciones-y-pre...</td>\n",
       "    </tr>\n",
       "  </tbody>\n",
       "</table>\n",
       "</div>"
      ],
      "text/plain": [
       "                                                         text  \\\n",
       "fecha                                                           \n",
       "2008-02-15  El objetivo para la Tasa de Inter�s Interbanca...   \n",
       "2008-03-14  El objetivo para la Tasa de Inter�s Interbanca...   \n",
       "2008-04-18  El objetivo para la Tasa de Inter�s Interbanca...   \n",
       "2008-05-16  El objetivo para la Tasa de Inter�s Interbanca...   \n",
       "2008-06-20  El objetivo para la Tasa de Inter�s Interbanca...   \n",
       "\n",
       "                                                          url  \n",
       "fecha                                                          \n",
       "2008-02-15  https://www.banxico.org.mx/publicaciones-y-pre...  \n",
       "2008-03-14  https://www.banxico.org.mx/publicaciones-y-pre...  \n",
       "2008-04-18  https://www.banxico.org.mx/publicaciones-y-pre...  \n",
       "2008-05-16  https://www.banxico.org.mx/publicaciones-y-pre...  \n",
       "2008-06-20  https://www.banxico.org.mx/publicaciones-y-pre...  "
      ]
     },
     "execution_count": 206,
     "metadata": {},
     "output_type": "execute_result"
    }
   ],
   "source": [
    "info = [extract_info(row) for row in table]\n",
    "df = pd.DataFrame(info).set_index('fecha').sort_index(ascending = True)\n",
    "df_after = df.loc[\"2008-02-15\":]\n",
    "df_after.head()"
   ]
  },
  {
   "cell_type": "code",
   "execution_count": 207,
   "metadata": {},
   "outputs": [],
   "source": [
    "df_after.to_pickle(\"df_banxico.pkl\")"
   ]
  },
  {
   "cell_type": "markdown",
   "metadata": {},
   "source": [
    "<h3 style=\"color:crimson\">Ejercicio</h3>\n",
    "\n",
    "Por medio del método `str.extract` para un pandas Series, crea una nueva columna `\"category\"` que extraiga del texto si la tasa se \n",
    "1. `\"mantiene\"`\n",
    "2. `\"incrementa\"`\n",
    "3. `\"disminuye\"`"
   ]
  },
  {
   "cell_type": "code",
   "execution_count": 208,
   "metadata": {},
   "outputs": [],
   "source": [
    "df_after = (df_after.join(df_after[\"text\"].str.extract(r'(mantiene|incrementa|disminuye)')[0].rename(\"category\"), \n",
    "                          how = \"left\"))"
   ]
  },
  {
   "cell_type": "code",
   "execution_count": 209,
   "metadata": {},
   "outputs": [
    {
     "data": {
      "text/html": [
       "<div>\n",
       "<style scoped>\n",
       "    .dataframe tbody tr th:only-of-type {\n",
       "        vertical-align: middle;\n",
       "    }\n",
       "\n",
       "    .dataframe tbody tr th {\n",
       "        vertical-align: top;\n",
       "    }\n",
       "\n",
       "    .dataframe thead th {\n",
       "        text-align: right;\n",
       "    }\n",
       "</style>\n",
       "<table border=\"1\" class=\"dataframe\">\n",
       "  <thead>\n",
       "    <tr style=\"text-align: right;\">\n",
       "      <th></th>\n",
       "      <th>text</th>\n",
       "      <th>url</th>\n",
       "      <th>category</th>\n",
       "    </tr>\n",
       "    <tr>\n",
       "      <th>fecha</th>\n",
       "      <th></th>\n",
       "      <th></th>\n",
       "      <th></th>\n",
       "    </tr>\n",
       "  </thead>\n",
       "  <tbody>\n",
       "    <tr>\n",
       "      <th>2008-02-15</th>\n",
       "      <td>El objetivo para la Tasa de Inter�s Interbanca...</td>\n",
       "      <td>https://www.banxico.org.mx/publicaciones-y-pre...</td>\n",
       "      <td>mantiene</td>\n",
       "    </tr>\n",
       "    <tr>\n",
       "      <th>2008-03-14</th>\n",
       "      <td>El objetivo para la Tasa de Inter�s Interbanca...</td>\n",
       "      <td>https://www.banxico.org.mx/publicaciones-y-pre...</td>\n",
       "      <td>mantiene</td>\n",
       "    </tr>\n",
       "    <tr>\n",
       "      <th>2008-04-18</th>\n",
       "      <td>El objetivo para la Tasa de Inter�s Interbanca...</td>\n",
       "      <td>https://www.banxico.org.mx/publicaciones-y-pre...</td>\n",
       "      <td>mantiene</td>\n",
       "    </tr>\n",
       "    <tr>\n",
       "      <th>2008-05-16</th>\n",
       "      <td>El objetivo para la Tasa de Inter�s Interbanca...</td>\n",
       "      <td>https://www.banxico.org.mx/publicaciones-y-pre...</td>\n",
       "      <td>mantiene</td>\n",
       "    </tr>\n",
       "    <tr>\n",
       "      <th>2008-06-20</th>\n",
       "      <td>El objetivo para la Tasa de Inter�s Interbanca...</td>\n",
       "      <td>https://www.banxico.org.mx/publicaciones-y-pre...</td>\n",
       "      <td>incrementa</td>\n",
       "    </tr>\n",
       "  </tbody>\n",
       "</table>\n",
       "</div>"
      ],
      "text/plain": [
       "                                                         text  \\\n",
       "fecha                                                           \n",
       "2008-02-15  El objetivo para la Tasa de Inter�s Interbanca...   \n",
       "2008-03-14  El objetivo para la Tasa de Inter�s Interbanca...   \n",
       "2008-04-18  El objetivo para la Tasa de Inter�s Interbanca...   \n",
       "2008-05-16  El objetivo para la Tasa de Inter�s Interbanca...   \n",
       "2008-06-20  El objetivo para la Tasa de Inter�s Interbanca...   \n",
       "\n",
       "                                                          url    category  \n",
       "fecha                                                                      \n",
       "2008-02-15  https://www.banxico.org.mx/publicaciones-y-pre...    mantiene  \n",
       "2008-03-14  https://www.banxico.org.mx/publicaciones-y-pre...    mantiene  \n",
       "2008-04-18  https://www.banxico.org.mx/publicaciones-y-pre...    mantiene  \n",
       "2008-05-16  https://www.banxico.org.mx/publicaciones-y-pre...    mantiene  \n",
       "2008-06-20  https://www.banxico.org.mx/publicaciones-y-pre...  incrementa  "
      ]
     },
     "execution_count": 209,
     "metadata": {},
     "output_type": "execute_result"
    }
   ],
   "source": [
    "df_after.head()"
   ]
  },
  {
   "cell_type": "markdown",
   "metadata": {},
   "source": [
    "<h3 style=\"color:crimson\">Ejercicio</h3>\n",
    "\n",
    "Cuenta las veces en las que la tasa se mantuvo, se incrementó o se disminuyó."
   ]
  },
  {
   "cell_type": "code",
   "execution_count": 210,
   "metadata": {
    "scrolled": true
   },
   "outputs": [
    {
     "data": {
      "text/plain": [
       "mantiene      72\n",
       "incrementa    18\n",
       "disminuye     16\n",
       "Name: category, dtype: int64"
      ]
     },
     "execution_count": 210,
     "metadata": {},
     "output_type": "execute_result"
    }
   ],
   "source": [
    "df_after[\"category\"].value_counts()"
   ]
  },
  {
   "cell_type": "markdown",
   "metadata": {},
   "source": [
    "<h3 style=\"color:crimson\">Ejercicio</h3>\n",
    "\n",
    "Reproduce la siguiente figura sobre los comunicados de prensa de Banxico:\n",
    "1. La gráfica de la izquierda representa una serie de tiempo sobre los comunicados de banxico. Si `y=1`, la tasa de referencia se incrementó; si `y=0`, la tasa se mantuvo; finalmente, si `y=-1`, la tasa disminuyó.\n",
    "2. La gráfica de la derecha es una gráfica de barras del ejercicio anterior"
   ]
  },
  {
   "cell_type": "code",
   "execution_count": 213,
   "metadata": {},
   "outputs": [],
   "source": [
    "df_after.loc[df_after['category'] == 'mantiene', 'category_num'] = 0\n",
    "df_after.loc[df_after['category'] == 'incrementa', 'category_num'] = 1\n",
    "df_after.loc[df_after['category'] == 'disminuye', 'category_num'] = -1"
   ]
  },
  {
   "cell_type": "code",
   "execution_count": 230,
   "metadata": {},
   "outputs": [
    {
     "data": {
      "text/plain": [
       "<matplotlib.axes._subplots.AxesSubplot at 0x1261a9310>"
      ]
     },
     "execution_count": 230,
     "metadata": {},
     "output_type": "execute_result"
    },
    {
     "data": {
      "image/png": "[encoded data removed]",
      "text/plain": [
       "<Figure size 864x288 with 1 Axes>"
      ]
     },
     "metadata": {
      "image/png": {
       "height": 251,
       "width": 721
      },
      "needs_background": "light"
     },
     "output_type": "display_data"
    }
   ],
   "source": [
    "df_after[\"category_num\"].plot(marker='|', linestyle=\"\")"
   ]
  },
  {
   "cell_type": "code",
   "execution_count": 238,
   "metadata": {},
   "outputs": [
    {
     "data": {
      "text/plain": [
       "mantiene      72\n",
       "incrementa    18\n",
       "disminuye     16\n",
       "Name: category, dtype: int64"
      ]
     },
     "execution_count": 238,
     "metadata": {},
     "output_type": "execute_result"
    }
   ],
   "source": [
    "df_after[\"category\"].value_counts()"
   ]
  },
  {
   "cell_type": "code",
   "execution_count": 270,
   "metadata": {},
   "outputs": [
    {
     "data": {
      "image/png": "[encoded data removed]",
      "text/plain": [
       "<Figure size 792x216 with 2 Axes>"
      ]
     },
     "metadata": {
      "image/png": {
       "height": 208,
       "width": 784
      },
      "needs_background": "light"
     },
     "output_type": "display_data"
    }
   ],
   "source": [
    "\n",
    "fig, axs = plt.subplots(1, 2, tight_layout=True, figsize=(11,3))\n",
    "axs[0].scatter(x = df_after.index, y = df_after[\"category_num\"],\n",
    "               marker = \"|\")\n",
    "axs[0].yaxis.set_visible(False)\n",
    "axs[1].bar(x = df_after[\"category\"].value_counts().index, \n",
    "           height = df_after[\"category\"].value_counts(),\n",
    "          width = 0.4)\n",
    "plt.show()"
   ]
  },
  {
   "cell_type": "markdown",
   "metadata": {},
   "source": [
    "<h3 style=\"color:crimson\">Ejercicio</h3>\n",
    "\n",
    "Agrupa por año y cuenta el número de comunicados en un año para cada categoría."
   ]
  },
  {
   "cell_type": "code",
   "execution_count": 176,
   "metadata": {
    "scrolled": false
   },
   "outputs": [
    {
     "data": {
      "text/plain": [
       "fecha  category  \n",
       "2008   incrementa     3\n",
       "       mantiene       7\n",
       "2009   disminuye      7\n",
       "       mantiene       4\n",
       "2010   mantiene      11\n",
       "2011   mantiene       8\n",
       "2012   mantiene       8\n",
       "2013   disminuye      3\n",
       "       mantiene       5\n",
       "2014   disminuye      1\n",
       "       mantiene       7\n",
       "2015   incrementa     1\n",
       "       mantiene       7\n",
       "2016   incrementa     5\n",
       "       mantiene       4\n",
       "2017   incrementa     5\n",
       "       mantiene       3\n",
       "2018   incrementa     4\n",
       "       mantiene       4\n",
       "2019   disminuye      4\n",
       "       mantiene       4\n",
       "2020   disminuye      1\n",
       "Name: category, dtype: int64"
      ]
     },
     "execution_count": 176,
     "metadata": {},
     "output_type": "execute_result"
    }
   ],
   "source": [
    "df_group = df_after.groupby([df_after.index.strftime(\"%Y\"),\"category\"])[\"category\"].count()\n",
    "df_group"
   ]
  },
  {
   "cell_type": "markdown",
   "metadata": {},
   "source": [
    "<h3 style=\"color:crimson\">Ejercicio</h3>\n",
    "\n",
    "Con el resultado anterior, replica la siguiente gráfica"
   ]
  },
  {
   "cell_type": "code",
   "execution_count": 180,
   "metadata": {
    "scrolled": true
   },
   "outputs": [
    {
     "data": {
      "text/plain": [
       "<matplotlib.axes._subplots.AxesSubplot at 0x125925ed0>"
      ]
     },
     "execution_count": 180,
     "metadata": {},
     "output_type": "execute_result"
    },
    {
     "data": {
      "image/png": "[encoded data removed]",
      "text/plain": [
       "<Figure size 864x288 with 1 Axes>"
      ]
     },
     "metadata": {
      "image/png": {
       "height": 277,
       "width": 703
      },
      "needs_background": "light"
     },
     "output_type": "display_data"
    }
   ],
   "source": [
    "df_group.unstack().fillna(0).plot(kind='bar', stacked = True, grid = True)"
   ]
  },
  {
   "cell_type": "markdown",
   "metadata": {},
   "source": [
    " ## Crear carpeta para descarga  "
   ]
  },
  {
   "cell_type": "code",
   "execution_count": 4,
   "metadata": {},
   "outputs": [],
   "source": [
    "import os"
   ]
  },
  {
   "cell_type": "code",
   "execution_count": null,
   "metadata": {},
   "outputs": [],
   "source": [
    "from io import ByteIO"
   ]
  },
  {
   "cell_type": "code",
   "execution_count": 18,
   "metadata": {},
   "outputs": [],
   "source": [
    "url = 'https://www.banxico.org.mx/publicaciones-y-prensa/anuncios-de-las-decisiones-de-politica-monetaria/{F2570B49-2124-CAD3-09A5-380DC3E4CD0C}.pdf'\n",
    "name = \"metadata.pdf\"\n",
    "if not os.path.exists(\"downloads\"):\n",
    "    os.mkdir(\"downloads\")\n",
    "full_path = os.path.join(\"downloads\", name)\n",
    "download_pdf(url, full_path)"
   ]
  },
  {
   "cell_type": "markdown",
   "metadata": {},
   "source": [
    "# Download pdf's from urls"
   ]
  },
  {
   "cell_type": "code",
   "execution_count": 50,
   "metadata": {},
   "outputs": [],
   "source": [
    "import requests"
   ]
  },
  {
   "cell_type": "code",
   "execution_count": 89,
   "metadata": {},
   "outputs": [],
   "source": [
    "def download_pdf(url, folder, name):\n",
    "    pdf_name = name + \".pdf\"\n",
    "    response = requests.get(url)\n",
    "    full_path = os.path.join(folder, pdf_name)\n",
    "    with open(full_path, 'wb') as f:\n",
    "        f.write(response.content)"
   ]
  },
  {
   "cell_type": "code",
   "execution_count": 78,
   "metadata": {},
   "outputs": [],
   "source": [
    "url = 'https://www.banxico.org.mx/publicaciones-y-prensa/anuncios-de-las-decisiones-de-politica-monetaria/%7BA020627B-C6CC-C74D-02C8-42D99B9B6B29%7D.pdf'\n",
    "date = '2008-02-15'\n",
    "\n",
    "download_pdf(url, \"downloads\", date)\n"
   ]
  },
  {
   "cell_type": "code",
   "execution_count": 105,
   "metadata": {},
   "outputs": [
    {
     "name": "stderr",
     "output_type": "stream",
     "text": [
      "106it [00:09, 11.00it/s]\n"
     ]
    }
   ],
   "source": [
    "for index, row in tqdm(df_banxico.iterrows()):\n",
    "    download_pdf(row[\"url\"], \"downloads\", index.strftime(\"%Y-%m-%d\"))"
   ]
  },
  {
   "cell_type": "markdown",
   "metadata": {},
   "source": [
    "# Reading PDF's"
   ]
  },
  {
   "cell_type": "code",
   "execution_count": 110,
   "metadata": {},
   "outputs": [],
   "source": [
    "df_banxico = pd.read_pickle(\"df_banxico.pkl\")"
   ]
  },
  {
   "cell_type": "code",
   "execution_count": 114,
   "metadata": {},
   "outputs": [],
   "source": [
    "df_banxico = (df_banxico.join(df_banxico[\"text\"].str.extract(r'(mantiene|incrementa|disminuye)')[0].rename(\"category\"), \n",
    "                          how = \"left\"))"
   ]
  },
  {
   "cell_type": "code",
   "execution_count": 115,
   "metadata": {
    "collapsed": true
   },
   "outputs": [
    {
     "data": {
      "text/html": [
       "<div>\n",
       "<style scoped>\n",
       "    .dataframe tbody tr th:only-of-type {\n",
       "        vertical-align: middle;\n",
       "    }\n",
       "\n",
       "    .dataframe tbody tr th {\n",
       "        vertical-align: top;\n",
       "    }\n",
       "\n",
       "    .dataframe thead th {\n",
       "        text-align: right;\n",
       "    }\n",
       "</style>\n",
       "<table border=\"1\" class=\"dataframe\">\n",
       "  <thead>\n",
       "    <tr style=\"text-align: right;\">\n",
       "      <th></th>\n",
       "      <th>text</th>\n",
       "      <th>url</th>\n",
       "      <th>category</th>\n",
       "    </tr>\n",
       "    <tr>\n",
       "      <th>fecha</th>\n",
       "      <th></th>\n",
       "      <th></th>\n",
       "      <th></th>\n",
       "    </tr>\n",
       "  </thead>\n",
       "  <tbody>\n",
       "    <tr>\n",
       "      <th>2008-02-15</th>\n",
       "      <td>El objetivo para la Tasa de Inter�s Interbanca...</td>\n",
       "      <td>https://www.banxico.org.mx/publicaciones-y-pre...</td>\n",
       "      <td>mantiene</td>\n",
       "    </tr>\n",
       "    <tr>\n",
       "      <th>2008-03-14</th>\n",
       "      <td>El objetivo para la Tasa de Inter�s Interbanca...</td>\n",
       "      <td>https://www.banxico.org.mx/publicaciones-y-pre...</td>\n",
       "      <td>mantiene</td>\n",
       "    </tr>\n",
       "    <tr>\n",
       "      <th>2008-04-18</th>\n",
       "      <td>El objetivo para la Tasa de Inter�s Interbanca...</td>\n",
       "      <td>https://www.banxico.org.mx/publicaciones-y-pre...</td>\n",
       "      <td>mantiene</td>\n",
       "    </tr>\n",
       "    <tr>\n",
       "      <th>2008-05-16</th>\n",
       "      <td>El objetivo para la Tasa de Inter�s Interbanca...</td>\n",
       "      <td>https://www.banxico.org.mx/publicaciones-y-pre...</td>\n",
       "      <td>mantiene</td>\n",
       "    </tr>\n",
       "    <tr>\n",
       "      <th>2008-06-20</th>\n",
       "      <td>El objetivo para la Tasa de Inter�s Interbanca...</td>\n",
       "      <td>https://www.banxico.org.mx/publicaciones-y-pre...</td>\n",
       "      <td>incrementa</td>\n",
       "    </tr>\n",
       "    <tr>\n",
       "      <th>...</th>\n",
       "      <td>...</td>\n",
       "      <td>...</td>\n",
       "      <td>...</td>\n",
       "    </tr>\n",
       "    <tr>\n",
       "      <th>2019-08-15</th>\n",
       "      <td>El objetivo para la Tasa de Inter�s Interbanca...</td>\n",
       "      <td>https://www.banxico.org.mx/publicaciones-y-pre...</td>\n",
       "      <td>disminuye</td>\n",
       "    </tr>\n",
       "    <tr>\n",
       "      <th>2019-09-26</th>\n",
       "      <td>El objetivo para la Tasa de Inter�s Interbanca...</td>\n",
       "      <td>https://www.banxico.org.mx/publicaciones-y-pre...</td>\n",
       "      <td>disminuye</td>\n",
       "    </tr>\n",
       "    <tr>\n",
       "      <th>2019-11-14</th>\n",
       "      <td>El objetivo para la Tasa de Inter�s Interbanca...</td>\n",
       "      <td>https://www.banxico.org.mx/publicaciones-y-pre...</td>\n",
       "      <td>disminuye</td>\n",
       "    </tr>\n",
       "    <tr>\n",
       "      <th>2019-12-19</th>\n",
       "      <td>El objetivo para la Tasa de Inter�s Interbanca...</td>\n",
       "      <td>https://www.banxico.org.mx/publicaciones-y-pre...</td>\n",
       "      <td>disminuye</td>\n",
       "    </tr>\n",
       "    <tr>\n",
       "      <th>2020-02-13</th>\n",
       "      <td>El objetivo para la Tasa de Inter�s Interbanca...</td>\n",
       "      <td>https://www.banxico.org.mx/publicaciones-y-pre...</td>\n",
       "      <td>disminuye</td>\n",
       "    </tr>\n",
       "  </tbody>\n",
       "</table>\n",
       "<p>106 rows × 3 columns</p>\n",
       "</div>"
      ],
      "text/plain": [
       "                                                         text  \\\n",
       "fecha                                                           \n",
       "2008-02-15  El objetivo para la Tasa de Inter�s Interbanca...   \n",
       "2008-03-14  El objetivo para la Tasa de Inter�s Interbanca...   \n",
       "2008-04-18  El objetivo para la Tasa de Inter�s Interbanca...   \n",
       "2008-05-16  El objetivo para la Tasa de Inter�s Interbanca...   \n",
       "2008-06-20  El objetivo para la Tasa de Inter�s Interbanca...   \n",
       "...                                                       ...   \n",
       "2019-08-15  El objetivo para la Tasa de Inter�s Interbanca...   \n",
       "2019-09-26  El objetivo para la Tasa de Inter�s Interbanca...   \n",
       "2019-11-14  El objetivo para la Tasa de Inter�s Interbanca...   \n",
       "2019-12-19  El objetivo para la Tasa de Inter�s Interbanca...   \n",
       "2020-02-13  El objetivo para la Tasa de Inter�s Interbanca...   \n",
       "\n",
       "                                                          url    category  \n",
       "fecha                                                                      \n",
       "2008-02-15  https://www.banxico.org.mx/publicaciones-y-pre...    mantiene  \n",
       "2008-03-14  https://www.banxico.org.mx/publicaciones-y-pre...    mantiene  \n",
       "2008-04-18  https://www.banxico.org.mx/publicaciones-y-pre...    mantiene  \n",
       "2008-05-16  https://www.banxico.org.mx/publicaciones-y-pre...    mantiene  \n",
       "2008-06-20  https://www.banxico.org.mx/publicaciones-y-pre...  incrementa  \n",
       "...                                                       ...         ...  \n",
       "2019-08-15  https://www.banxico.org.mx/publicaciones-y-pre...   disminuye  \n",
       "2019-09-26  https://www.banxico.org.mx/publicaciones-y-pre...   disminuye  \n",
       "2019-11-14  https://www.banxico.org.mx/publicaciones-y-pre...   disminuye  \n",
       "2019-12-19  https://www.banxico.org.mx/publicaciones-y-pre...   disminuye  \n",
       "2020-02-13  https://www.banxico.org.mx/publicaciones-y-pre...   disminuye  \n",
       "\n",
       "[106 rows x 3 columns]"
      ]
     },
     "execution_count": 115,
     "metadata": {},
     "output_type": "execute_result"
    }
   ],
   "source": [
    "df_banxico"
   ]
  },
  {
   "cell_type": "code",
   "execution_count": 141,
   "metadata": {},
   "outputs": [],
   "source": [
    "def read_pdf(name, folder= \"\"):\n",
    "    text = []\n",
    "    full_path = os.path.join(folder, name)\n",
    "\n",
    "    with open(full_path, mode='rb') as f:\n",
    "        reader = PyPDF2.PdfFileReader(f)\n",
    "        num_pages = reader.getNumPages()\n",
    "        for num_page in range(num_pages):\n",
    "            page = reader.getPage(num_page)\n",
    "            text.append(page.extractText())\n",
    "    text_pdf= \" \".join(text)\n",
    "    uni_text_pdf = unidecode(text_pdf)\n",
    "    \n",
    "    return {\"date\" : name[:-4],\n",
    "    \"content\" : uni_text_pdf    \n",
    "    }"
   ]
  },
  {
   "cell_type": "code",
   "execution_count": 142,
   "metadata": {},
   "outputs": [
    {
     "data": {
      "application/vnd.jupyter.widget-view+json": {
       "model_id": "e60f6afddca5417c883d27b73c3f4696",
       "version_major": 2,
       "version_minor": 0
      },
      "text/plain": [
       "HBox(children=(FloatProgress(value=1.0, bar_style='info', max=1.0), HTML(value='')))"
      ]
     },
     "metadata": {},
     "output_type": "display_data"
    },
    {
     "name": "stderr",
     "output_type": "stream",
     "text": [
      "PdfReadWarning: Xref table not zero-indexed. ID numbers for objects will be corrected. [pdf.py:1736]\n"
     ]
    },
    {
     "name": "stdout",
     "output_type": "stream",
     "text": [
      "\n"
     ]
    }
   ],
   "source": [
    "folder = \"downloads\"\n",
    "pdf_list = []\n",
    "for index, row in tqdm(df_banxico.iterrows()):\n",
    "    name = index.strftime(\"%Y-%m-%d\")+ \".pdf\"\n",
    "    pdf_content = read_pdf(name, folder)\n",
    "    pdf_list.append(pdf_content)\n",
    "    \n",
    "    \n",
    "    "
   ]
  },
  {
   "cell_type": "code",
   "execution_count": 143,
   "metadata": {},
   "outputs": [],
   "source": [
    "df_pdf = pd.DataFrame.from_records(pdf_list).set_index('date').sort_index(ascending = True)"
   ]
  },
  {
   "cell_type": "code",
   "execution_count": 144,
   "metadata": {},
   "outputs": [
    {
     "data": {
      "text/html": [
       "<div>\n",
       "<style scoped>\n",
       "    .dataframe tbody tr th:only-of-type {\n",
       "        vertical-align: middle;\n",
       "    }\n",
       "\n",
       "    .dataframe tbody tr th {\n",
       "        vertical-align: top;\n",
       "    }\n",
       "\n",
       "    .dataframe thead th {\n",
       "        text-align: right;\n",
       "    }\n",
       "</style>\n",
       "<table border=\"1\" class=\"dataframe\">\n",
       "  <thead>\n",
       "    <tr style=\"text-align: right;\">\n",
       "      <th></th>\n",
       "      <th>content</th>\n",
       "    </tr>\n",
       "    <tr>\n",
       "      <th>date</th>\n",
       "      <th></th>\n",
       "    </tr>\n",
       "  </thead>\n",
       "  <tbody>\n",
       "    <tr>\n",
       "      <th>2008-02-15</th>\n",
       "      <td>15 de Febrero de 2008 Comunicado de Prensa   ...</td>\n",
       "    </tr>\n",
       "    <tr>\n",
       "      <th>2008-03-14</th>\n",
       "      <td>14 de Marzo de 2008 Comunicado de Prensa   An...</td>\n",
       "    </tr>\n",
       "    <tr>\n",
       "      <th>2008-04-18</th>\n",
       "      <td>18 de Abril de 2008 \\nComunicado de Prensa Anu...</td>\n",
       "    </tr>\n",
       "    <tr>\n",
       "      <th>2008-05-16</th>\n",
       "      <td>16 de mayo de 2008 Comunicado de Prensa  Anunc...</td>\n",
       "    </tr>\n",
       "    <tr>\n",
       "      <th>2008-06-20</th>\n",
       "      <td>20 de junio de 2008 Comunicado de Prensa  Anun...</td>\n",
       "    </tr>\n",
       "    <tr>\n",
       "      <th>...</th>\n",
       "      <td>...</td>\n",
       "    </tr>\n",
       "    <tr>\n",
       "      <th>2019-08-15</th>\n",
       "      <td>1  15 de agosto de 2019\\n Comunicado de Pren...</td>\n",
       "    </tr>\n",
       "    <tr>\n",
       "      <th>2019-09-26</th>\n",
       "      <td>1  26 de \\nseptiembre\\n de 2019\\n Comunicado...</td>\n",
       "    </tr>\n",
       "    <tr>\n",
       "      <th>2019-11-14</th>\n",
       "      <td>1  14 de \\nnoviembre\\n de 201\\n9 Comunicado d...</td>\n",
       "    </tr>\n",
       "    <tr>\n",
       "      <th>2019-12-19</th>\n",
       "      <td>1  19 de \\ndic\\niembre de 2019\\n Comunicado ...</td>\n",
       "    </tr>\n",
       "    <tr>\n",
       "      <th>2020-02-13</th>\n",
       "      <td>Comunicado de Prensa \\n              \\n13 d...</td>\n",
       "    </tr>\n",
       "  </tbody>\n",
       "</table>\n",
       "<p>106 rows × 1 columns</p>\n",
       "</div>"
      ],
      "text/plain": [
       "                                                      content\n",
       "date                                                         \n",
       "2008-02-15   15 de Febrero de 2008 Comunicado de Prensa   ...\n",
       "2008-03-14   14 de Marzo de 2008 Comunicado de Prensa   An...\n",
       "2008-04-18  18 de Abril de 2008 \\nComunicado de Prensa Anu...\n",
       "2008-05-16  16 de mayo de 2008 Comunicado de Prensa  Anunc...\n",
       "2008-06-20  20 de junio de 2008 Comunicado de Prensa  Anun...\n",
       "...                                                       ...\n",
       "2019-08-15    1  15 de agosto de 2019\\n Comunicado de Pren...\n",
       "2019-09-26    1  26 de \\nseptiembre\\n de 2019\\n Comunicado...\n",
       "2019-11-14   1  14 de \\nnoviembre\\n de 201\\n9 Comunicado d...\n",
       "2019-12-19    1  19 de \\ndic\\niembre de 2019\\n Comunicado ...\n",
       "2020-02-13     Comunicado de Prensa \\n              \\n13 d...\n",
       "\n",
       "[106 rows x 1 columns]"
      ]
     },
     "execution_count": 144,
     "metadata": {},
     "output_type": "execute_result"
    }
   ],
   "source": [
    "df_pdf"
   ]
  },
  {
   "cell_type": "markdown",
   "metadata": {},
   "source": [
    "# Final Pandas Data Frame "
   ]
  },
  {
   "cell_type": "code",
   "execution_count": 145,
   "metadata": {},
   "outputs": [],
   "source": [
    "df_final = df_banxico.join(df_pdf, how = \"left\")"
   ]
  },
  {
   "cell_type": "code",
   "execution_count": 153,
   "metadata": {},
   "outputs": [],
   "source": [
    "df_final.to_pickle(\"df_final.pkl\")"
   ]
  },
  {
   "cell_type": "markdown",
   "metadata": {},
   "source": [
    "# Limpieza de texto"
   ]
  },
  {
   "cell_type": "code",
   "execution_count": 524,
   "metadata": {},
   "outputs": [],
   "source": [
    "df_final = pd.read_pickle(\"df_final.pkl\")"
   ]
  },
  {
   "cell_type": "code",
   "execution_count": 401,
   "metadata": {},
   "outputs": [],
   "source": [
    "dict_final = df_final.to_dict('records')"
   ]
  },
  {
   "cell_type": "code",
   "execution_count": 467,
   "metadata": {},
   "outputs": [
    {
     "data": {
      "text/html": [
       "<div>\n",
       "<style scoped>\n",
       "    .dataframe tbody tr th:only-of-type {\n",
       "        vertical-align: middle;\n",
       "    }\n",
       "\n",
       "    .dataframe tbody tr th {\n",
       "        vertical-align: top;\n",
       "    }\n",
       "\n",
       "    .dataframe thead th {\n",
       "        text-align: right;\n",
       "    }\n",
       "</style>\n",
       "<table border=\"1\" class=\"dataframe\">\n",
       "  <thead>\n",
       "    <tr style=\"text-align: right;\">\n",
       "      <th></th>\n",
       "      <th>text</th>\n",
       "      <th>url</th>\n",
       "      <th>category</th>\n",
       "      <th>content</th>\n",
       "    </tr>\n",
       "    <tr>\n",
       "      <th>fecha</th>\n",
       "      <th></th>\n",
       "      <th></th>\n",
       "      <th></th>\n",
       "      <th></th>\n",
       "    </tr>\n",
       "  </thead>\n",
       "  <tbody>\n",
       "    <tr>\n",
       "      <th>2008-02-15</th>\n",
       "      <td>El objetivo para la Tasa de Inter�s Interbanca...</td>\n",
       "      <td>https://www.banxico.org.mx/publicaciones-y-pre...</td>\n",
       "      <td>mantiene</td>\n",
       "      <td>15 de Febrero de 2008 Comunicado de Prensa   ...</td>\n",
       "    </tr>\n",
       "    <tr>\n",
       "      <th>2008-03-14</th>\n",
       "      <td>El objetivo para la Tasa de Inter�s Interbanca...</td>\n",
       "      <td>https://www.banxico.org.mx/publicaciones-y-pre...</td>\n",
       "      <td>mantiene</td>\n",
       "      <td>14 de Marzo de 2008 Comunicado de Prensa   An...</td>\n",
       "    </tr>\n",
       "    <tr>\n",
       "      <th>2008-04-18</th>\n",
       "      <td>El objetivo para la Tasa de Inter�s Interbanca...</td>\n",
       "      <td>https://www.banxico.org.mx/publicaciones-y-pre...</td>\n",
       "      <td>mantiene</td>\n",
       "      <td>18 de Abril de 2008 \\nComunicado de Prensa Anu...</td>\n",
       "    </tr>\n",
       "    <tr>\n",
       "      <th>2008-05-16</th>\n",
       "      <td>El objetivo para la Tasa de Inter�s Interbanca...</td>\n",
       "      <td>https://www.banxico.org.mx/publicaciones-y-pre...</td>\n",
       "      <td>mantiene</td>\n",
       "      <td>16 de mayo de 2008 Comunicado de Prensa  Anunc...</td>\n",
       "    </tr>\n",
       "  </tbody>\n",
       "</table>\n",
       "</div>"
      ],
      "text/plain": [
       "                                                         text  \\\n",
       "fecha                                                           \n",
       "2008-02-15  El objetivo para la Tasa de Inter�s Interbanca...   \n",
       "2008-03-14  El objetivo para la Tasa de Inter�s Interbanca...   \n",
       "2008-04-18  El objetivo para la Tasa de Inter�s Interbanca...   \n",
       "2008-05-16  El objetivo para la Tasa de Inter�s Interbanca...   \n",
       "\n",
       "                                                          url  category  \\\n",
       "fecha                                                                     \n",
       "2008-02-15  https://www.banxico.org.mx/publicaciones-y-pre...  mantiene   \n",
       "2008-03-14  https://www.banxico.org.mx/publicaciones-y-pre...  mantiene   \n",
       "2008-04-18  https://www.banxico.org.mx/publicaciones-y-pre...  mantiene   \n",
       "2008-05-16  https://www.banxico.org.mx/publicaciones-y-pre...  mantiene   \n",
       "\n",
       "                                                      content  \n",
       "fecha                                                          \n",
       "2008-02-15   15 de Febrero de 2008 Comunicado de Prensa   ...  \n",
       "2008-03-14   14 de Marzo de 2008 Comunicado de Prensa   An...  \n",
       "2008-04-18  18 de Abril de 2008 \\nComunicado de Prensa Anu...  \n",
       "2008-05-16  16 de mayo de 2008 Comunicado de Prensa  Anunc...  "
      ]
     },
     "execution_count": 467,
     "metadata": {},
     "output_type": "execute_result"
    }
   ],
   "source": [
    "df_final.head(4)"
   ]
  },
  {
   "cell_type": "code",
   "execution_count": 468,
   "metadata": {
    "collapsed": true
   },
   "outputs": [
    {
     "data": {
      "text/plain": [
       "' 15 de Febrero de 2008 Comunicado de Prensa    Anuncio de Politica Monetaria  La Junta de Gobierno del Banco de Mexico ha\\n decidido mantener sin cambio el objetivo \\npara la Tasa de Interes Interbancaria a 1 dia, en 7.5 por ciento. \\n Las perspectivas para el crecimiento de la ec\\nonomia mundial han continuado deteriorandose.  La \\nactividad economica en Japon y en Europa se ha debilitado.  La desaceleracion ha sido mas \\n\\npronunciada en Estados Unidos y se\\n han acrecentado los riesgos de \\nque ocurra una recesion en la \\nprimera mitad del ano en curso.  Ello, como cons\\necuencia de la crisis del mercado hipotecario y \\nsus repercusiones en el sector financiero, en \\notros segmentos del mercado crediticio, y en la \\nconfianza de los consumidores.  El dinamismo \\ndel resto de las economias seria afectado por una \\ndesaceleracion estadounidense acentuada.  Al\\n mismo tiempo, han persistido las presiones \\ninflacionarias derivadas del alza de\\n los precios internacionales de los alimentos (destaca el alza \\nreciente del trigo) y de los energeticos, mi\\nsmas que se han potenciado en las economias \\nemergentes. \\n\\n \\nEn Mexico, la actividad economica se desacelero\\n durante el ultimo trimestre de 2007, inducida \\npor un crecimiento mas reducido del consumo y de la\\ns exportaciones no petrol\\neras.  Es pertinente \\nsenalar que dicha desaceleracion podria intensificarse con el debilitamiento previsto para este ano \\nen la economia de Estados Unidos. \\n\\n \\nLa trayectoria reciente de la inflacion (general\\n y subyacente), se ha ubicado dentro del rango \\nprevisto por el Banco de Mexico desde finale\\ns de octubre del 2007.  Los incrementos de los \\nprecios de los alimentos han sido la causa prin\\ncipal del ascenso de la inflacion desde 2006, y su \\npersistencia continua siendo un motivo central \\nde preocupacion.  Es oportuno senalar que dicho \\nfenomeno no ha contaminado, hasta ahora, el pr\\noceso de formacion de pr\\necios en la economia.  \\n \\nCon base en las consideracione\\ns anteriores, la Junta de Gobi\\nerno ha decidido mantener sin \\ncambio el objetivo para la Tasa \\nde Interes Interbancaria a 1 dia,\\n en 7.5 por ciento.  La Junta \\ncontinuara atenta a la evoluc\\nion del balance de riesgos en \\nrelacion a las proyecciones de \\ninflacion, con miras al cumplimiento de la \\nmeta de 3% en los tiempos previstos. \\n \\n '"
      ]
     },
     "execution_count": 468,
     "metadata": {},
     "output_type": "execute_result"
    }
   ],
   "source": [
    "df_final.content[0]"
   ]
  },
  {
   "cell_type": "code",
   "execution_count": 526,
   "metadata": {},
   "outputs": [],
   "source": [
    "def limpia_dialogo(doc):\n",
    "    limpio = doc.lower()\n",
    "    limpio =re.sub(\"[^\\w ]\", \"\", limpio)\n",
    "    return limpio"
   ]
  },
  {
   "cell_type": "code",
   "execution_count": 527,
   "metadata": {},
   "outputs": [],
   "source": [
    "df_final[\"clean\"] = (df_final[\"content\"]\n",
    "                       .apply(lambda x : limpia_dialogo(x)))"
   ]
  },
  {
   "cell_type": "code",
   "execution_count": 528,
   "metadata": {
    "collapsed": true
   },
   "outputs": [
    {
     "data": {
      "text/plain": [
       "' 15 de febrero de 2008 comunicado de prensa    anuncio de politica monetaria  la junta de gobierno del banco de mexico ha decidido mantener sin cambio el objetivo para la tasa de interes interbancaria a 1 dia en 75 por ciento  las perspectivas para el crecimiento de la economia mundial han continuado deteriorandose  la actividad economica en japon y en europa se ha debilitado  la desaceleracion ha sido mas pronunciada en estados unidos y se han acrecentado los riesgos de que ocurra una recesion en la primera mitad del ano en curso  ello como consecuencia de la crisis del mercado hipotecario y sus repercusiones en el sector financiero en otros segmentos del mercado crediticio y en la confianza de los consumidores  el dinamismo del resto de las economias seria afectado por una desaceleracion estadounidense acentuada  al mismo tiempo han persistido las presiones inflacionarias derivadas del alza de los precios internacionales de los alimentos destaca el alza reciente del trigo y de los energeticos mismas que se han potenciado en las economias emergentes  en mexico la actividad economica se desacelero durante el ultimo trimestre de 2007 inducida por un crecimiento mas reducido del consumo y de las exportaciones no petroleras  es pertinente senalar que dicha desaceleracion podria intensificarse con el debilitamiento previsto para este ano en la economia de estados unidos  la trayectoria reciente de la inflacion general y subyacente se ha ubicado dentro del rango previsto por el banco de mexico desde finales de octubre del 2007  los incrementos de los precios de los alimentos han sido la causa principal del ascenso de la inflacion desde 2006 y su persistencia continua siendo un motivo central de preocupacion  es oportuno senalar que dicho fenomeno no ha contaminado hasta ahora el proceso de formacion de precios en la economia   con base en las consideraciones anteriores la junta de gobierno ha decidido mantener sin cambio el objetivo para la tasa de interes interbancaria a 1 dia en 75 por ciento  la junta continuara atenta a la evolucion del balance de riesgos en relacion a las proyecciones de inflacion con miras al cumplimiento de la meta de 3 en los tiempos previstos   '"
      ]
     },
     "execution_count": 528,
     "metadata": {},
     "output_type": "execute_result"
    }
   ],
   "source": [
    "df_final.clean[0]"
   ]
  },
  {
   "cell_type": "markdown",
   "metadata": {},
   "source": [
    "## Stopwords"
   ]
  },
  {
   "cell_type": "code",
   "execution_count": 893,
   "metadata": {},
   "outputs": [],
   "source": [
    "stopwords = corpus.stopwords.words(\"spanish\")\n",
    "stopwords =[unidecode(word) for word in stopwords]\n",
    "\n",
    "stopwords.append(\"inflacion\")\n",
    "stopwords.append(\"mexico\")\n",
    "stopwords.append(\"economia\")\n",
    "stopwords.append(\"politica\")\n",
    "stopwords.append(\"precios\")\n",
    "stopwords.append(\"monetaria\")\n",
    "stopwords.append(\"riesgos\")\n",
    "stopwords.append(\"ciento\")\n",
    "stopwords.append(\"economica\")\n",
    "stopwords.append(\"interes\")\n",
    "stopwords.append(\"crecimiento\")\n",
    "stopwords.append(\"objetivo\")\n",
    "stopwords.append(\"actividad\")\n",
    "stopwords.append(\"tasa\")\n",
    "stopwords.append(\"junta\")\n",
    "stopwords.append(\"asi\")\n",
    "stopwords.append(\"ano\")\n",
    "stopwords.append(\"gobierno\")\n",
    "stopwords.append(\"subyacente\")\n",
    "stopwords.append(\"2017\")\n",
    "stopwords.append(\"2018\")\n"
   ]
  },
  {
   "cell_type": "code",
   "execution_count": 841,
   "metadata": {},
   "outputs": [],
   "source": [
    "#df_final['rbow'] = df_final['clean'].apply(lambda x: [item for item in x.split() if item not in stopwords])\n",
    "#df_final"
   ]
  },
  {
   "cell_type": "markdown",
   "metadata": {},
   "source": [
    "# Model "
   ]
  },
  {
   "cell_type": "code",
   "execution_count": 1045,
   "metadata": {},
   "outputs": [],
   "source": [
    "seed = 321"
   ]
  },
  {
   "cell_type": "code",
   "execution_count": 1046,
   "metadata": {},
   "outputs": [],
   "source": [
    "D1 = df_final[df_final[\"category\"]==\"mantiene\"][\"clean\"].values\n",
    "D2 = df_final[df_final[\"category\"]==\"disminuye\"][\"clean\"].values\n",
    "D3 = df_final[df_final[\"category\"]==\"incrementa\"][\"clean\"].values"
   ]
  },
  {
   "cell_type": "code",
   "execution_count": 1047,
   "metadata": {},
   "outputs": [],
   "source": [
    "D1_train, D1_test = train_test_split(D1, test_size=0.2, random_state = seed)\n",
    "D2_train, D2_test = train_test_split(D2, test_size=0.2, random_state = seed)\n",
    "D3_train, D3_test = train_test_split(D3, test_size=0.2, random_state = seed)"
   ]
  },
  {
   "cell_type": "code",
   "execution_count": 1048,
   "metadata": {},
   "outputs": [],
   "source": [
    "V1 = [palabra for pdf in D1_train for palabra in pdf.split() if palabra not in stopwords]\n",
    "V2 = [palabra for pdf in D2_train for palabra in pdf.split() if palabra not in stopwords]\n",
    "V3 = [palabra for pdf in D3_train for palabra in pdf.split() if palabra not in stopwords]\n"
   ]
  },
  {
   "cell_type": "code",
   "execution_count": 1049,
   "metadata": {},
   "outputs": [],
   "source": [
    "N1 = len(D1_train)\n",
    "N2 = len(D2_train)\n",
    "N3 = len(D3_train)\n",
    "N = N1 + N2 + N3"
   ]
  },
  {
   "cell_type": "code",
   "execution_count": 1050,
   "metadata": {},
   "outputs": [
    {
     "data": {
      "text/plain": [
       "83"
      ]
     },
     "execution_count": 1050,
     "metadata": {},
     "output_type": "execute_result"
    }
   ],
   "source": [
    "N"
   ]
  },
  {
   "cell_type": "code",
   "execution_count": 1051,
   "metadata": {},
   "outputs": [
    {
     "data": {
      "text/plain": [
       "0.11130720295505848"
      ]
     },
     "execution_count": 1051,
     "metadata": {},
     "output_type": "execute_result"
    }
   ],
   "source": [
    "len(set(V1))/len(V1)"
   ]
  },
  {
   "cell_type": "code",
   "execution_count": 1052,
   "metadata": {},
   "outputs": [
    {
     "data": {
      "text/plain": [
       "0.2639074321317312"
      ]
     },
     "execution_count": 1052,
     "metadata": {},
     "output_type": "execute_result"
    }
   ],
   "source": [
    "len(set(V2))/len(V2)"
   ]
  },
  {
   "cell_type": "code",
   "execution_count": 1053,
   "metadata": {},
   "outputs": [
    {
     "data": {
      "text/plain": [
       "0.20813153199082335"
      ]
     },
     "execution_count": 1053,
     "metadata": {},
     "output_type": "execute_result"
    }
   ],
   "source": [
    "len(set(V3))/len(V3)"
   ]
  },
  {
   "cell_type": "code",
   "execution_count": 1054,
   "metadata": {},
   "outputs": [],
   "source": [
    "from collections import Counter"
   ]
  },
  {
   "cell_type": "code",
   "execution_count": 1055,
   "metadata": {},
   "outputs": [
    {
     "data": {
      "text/plain": [
       "[('expectativas', 166),\n",
       " ('3', 158),\n",
       " ('parte', 154),\n",
       " ('unidos', 153),\n",
       " ('cambio', 143),\n",
       " ('baja', 141),\n",
       " ('plazo', 140),\n",
       " ('general', 137),\n",
       " ('mantener', 136),\n",
       " ('economias', 132)]"
      ]
     },
     "execution_count": 1055,
     "metadata": {},
     "output_type": "execute_result"
    }
   ],
   "source": [
    "Counter(V1).most_common(10)"
   ]
  },
  {
   "cell_type": "code",
   "execution_count": 1056,
   "metadata": {},
   "outputs": [
    {
     "data": {
      "text/plain": [
       "[('base', 35),\n",
       " ('nivel', 35),\n",
       " ('mayor', 33),\n",
       " ('baja', 33),\n",
       " ('banco', 32),\n",
       " ('condiciones', 30),\n",
       " ('mundial', 28),\n",
       " ('parte', 28),\n",
       " ('puntos', 27),\n",
       " ('balance', 27)]"
      ]
     },
     "execution_count": 1056,
     "metadata": {},
     "output_type": "execute_result"
    }
   ],
   "source": [
    "Counter(V2).most_common(10)"
   ]
  },
  {
   "cell_type": "code",
   "execution_count": 1057,
   "metadata": {},
   "outputs": [
    {
     "data": {
      "text/plain": [
       "[('expectativas', 71),\n",
       " ('plazo', 60),\n",
       " ('mediano', 59),\n",
       " ('unidos', 58),\n",
       " ('largo', 54),\n",
       " ('parte', 45),\n",
       " ('bien', 43),\n",
       " ('nacional', 42),\n",
       " ('nivel', 41),\n",
       " ('entorno', 40)]"
      ]
     },
     "execution_count": 1057,
     "metadata": {},
     "output_type": "execute_result"
    }
   ],
   "source": [
    "Counter(V3).most_common(10)"
   ]
  },
  {
   "cell_type": "code",
   "execution_count": 1058,
   "metadata": {},
   "outputs": [],
   "source": [
    "V = set(V1)|set(V2)|set(V3)\n",
    "vocab = pd.DataFrame(index=V)"
   ]
  },
  {
   "cell_type": "code",
   "execution_count": 1059,
   "metadata": {},
   "outputs": [],
   "source": [
    "V1_c = pd.Series(V1, name='k1').value_counts()\n",
    "V2_c = pd.Series(V2, name='k2').value_counts()\n",
    "V3_c = pd.Series(V3, name='k3').value_counts()"
   ]
  },
  {
   "cell_type": "code",
   "execution_count": 1060,
   "metadata": {},
   "outputs": [
    {
     "data": {
      "text/html": [
       "<div>\n",
       "<style scoped>\n",
       "    .dataframe tbody tr th:only-of-type {\n",
       "        vertical-align: middle;\n",
       "    }\n",
       "\n",
       "    .dataframe tbody tr th {\n",
       "        vertical-align: top;\n",
       "    }\n",
       "\n",
       "    .dataframe thead th {\n",
       "        text-align: right;\n",
       "    }\n",
       "</style>\n",
       "<table border=\"1\" class=\"dataframe\">\n",
       "  <thead>\n",
       "    <tr style=\"text-align: right;\">\n",
       "      <th></th>\n",
       "      <th>k1</th>\n",
       "      <th>k2</th>\n",
       "      <th>k3</th>\n",
       "    </tr>\n",
       "  </thead>\n",
       "  <tbody>\n",
       "    <tr>\n",
       "      <th>inducida</th>\n",
       "      <td>0.000182</td>\n",
       "      <td>0.000131</td>\n",
       "      <td>0.000091</td>\n",
       "    </tr>\n",
       "    <tr>\n",
       "      <th>elevacion</th>\n",
       "      <td>0.000109</td>\n",
       "      <td>0.000131</td>\n",
       "      <td>0.000091</td>\n",
       "    </tr>\n",
       "    <tr>\n",
       "      <th>internas</th>\n",
       "      <td>0.000073</td>\n",
       "      <td>0.000653</td>\n",
       "      <td>0.000182</td>\n",
       "    </tr>\n",
       "    <tr>\n",
       "      <th>incluidas</th>\n",
       "      <td>0.000036</td>\n",
       "      <td>0.000131</td>\n",
       "      <td>0.000182</td>\n",
       "    </tr>\n",
       "    <tr>\n",
       "      <th>fuerza</th>\n",
       "      <td>0.000109</td>\n",
       "      <td>0.000131</td>\n",
       "      <td>0.000091</td>\n",
       "    </tr>\n",
       "    <tr>\n",
       "      <th>419</th>\n",
       "      <td>0.000036</td>\n",
       "      <td>0.000261</td>\n",
       "      <td>0.000091</td>\n",
       "    </tr>\n",
       "    <tr>\n",
       "      <th>algun</th>\n",
       "      <td>0.000218</td>\n",
       "      <td>0.000131</td>\n",
       "      <td>0.000182</td>\n",
       "    </tr>\n",
       "    <tr>\n",
       "      <th>cifra</th>\n",
       "      <td>0.000145</td>\n",
       "      <td>0.000261</td>\n",
       "      <td>0.000272</td>\n",
       "    </tr>\n",
       "    <tr>\n",
       "      <th>demanda</th>\n",
       "      <td>0.002870</td>\n",
       "      <td>0.002220</td>\n",
       "      <td>0.002089</td>\n",
       "    </tr>\n",
       "    <tr>\n",
       "      <th>presentando</th>\n",
       "      <td>0.000799</td>\n",
       "      <td>0.000522</td>\n",
       "      <td>0.000545</td>\n",
       "    </tr>\n",
       "  </tbody>\n",
       "</table>\n",
       "</div>"
      ],
      "text/plain": [
       "                   k1        k2        k3\n",
       "inducida     0.000182  0.000131  0.000091\n",
       "elevacion    0.000109  0.000131  0.000091\n",
       "internas     0.000073  0.000653  0.000182\n",
       "incluidas    0.000036  0.000131  0.000182\n",
       "fuerza       0.000109  0.000131  0.000091\n",
       "419          0.000036  0.000261  0.000091\n",
       "algun        0.000218  0.000131  0.000182\n",
       "cifra        0.000145  0.000261  0.000272\n",
       "demanda      0.002870  0.002220  0.002089\n",
       "presentando  0.000799  0.000522  0.000545"
      ]
     },
     "execution_count": 1060,
     "metadata": {},
     "output_type": "execute_result"
    }
   ],
   "source": [
    "#likelihood\n",
    "L = (vocab.join(V1_c, how = \"left\")\n",
    "    .join(V2_c, how = \"left\")\n",
    "    .join(V3_c, how = \"left\"))\n",
    "L = L.fillna(0) + 1\n",
    "L = L/L.sum(axis = 0)\n",
    "L.sort_values(\"k1\", ascending= False)\n",
    "L.sample(10, random_state=314)"
   ]
  },
  {
   "cell_type": "code",
   "execution_count": 1061,
   "metadata": {},
   "outputs": [
    {
     "data": {
      "text/html": [
       "<div>\n",
       "<style scoped>\n",
       "    .dataframe tbody tr th:only-of-type {\n",
       "        vertical-align: middle;\n",
       "    }\n",
       "\n",
       "    .dataframe tbody tr th {\n",
       "        vertical-align: top;\n",
       "    }\n",
       "\n",
       "    .dataframe thead th {\n",
       "        text-align: right;\n",
       "    }\n",
       "</style>\n",
       "<table border=\"1\" class=\"dataframe\">\n",
       "  <thead>\n",
       "    <tr style=\"text-align: right;\">\n",
       "      <th></th>\n",
       "      <th>k1</th>\n",
       "      <th>k2</th>\n",
       "      <th>k3</th>\n",
       "    </tr>\n",
       "  </thead>\n",
       "  <tbody>\n",
       "    <tr>\n",
       "      <th>inducida</th>\n",
       "      <td>-8.613557</td>\n",
       "      <td>-8.943506</td>\n",
       "      <td>-9.306559</td>\n",
       "    </tr>\n",
       "    <tr>\n",
       "      <th>elevacion</th>\n",
       "      <td>-9.124383</td>\n",
       "      <td>-8.943506</td>\n",
       "      <td>-9.306559</td>\n",
       "    </tr>\n",
       "    <tr>\n",
       "      <th>internas</th>\n",
       "      <td>-9.529848</td>\n",
       "      <td>-7.334068</td>\n",
       "      <td>-8.613412</td>\n",
       "    </tr>\n",
       "    <tr>\n",
       "      <th>incluidas</th>\n",
       "      <td>-10.222995</td>\n",
       "      <td>-8.943506</td>\n",
       "      <td>-8.613412</td>\n",
       "    </tr>\n",
       "    <tr>\n",
       "      <th>fuerza</th>\n",
       "      <td>-9.124383</td>\n",
       "      <td>-8.943506</td>\n",
       "      <td>-9.306559</td>\n",
       "    </tr>\n",
       "    <tr>\n",
       "      <th>419</th>\n",
       "      <td>-10.222995</td>\n",
       "      <td>-8.250359</td>\n",
       "      <td>-9.306559</td>\n",
       "    </tr>\n",
       "    <tr>\n",
       "      <th>algun</th>\n",
       "      <td>-8.431236</td>\n",
       "      <td>-8.943506</td>\n",
       "      <td>-8.613412</td>\n",
       "    </tr>\n",
       "    <tr>\n",
       "      <th>cifra</th>\n",
       "      <td>-8.836701</td>\n",
       "      <td>-8.250359</td>\n",
       "      <td>-8.207947</td>\n",
       "    </tr>\n",
       "    <tr>\n",
       "      <th>demanda</th>\n",
       "      <td>-5.853547</td>\n",
       "      <td>-6.110293</td>\n",
       "      <td>-6.171065</td>\n",
       "    </tr>\n",
       "    <tr>\n",
       "      <th>presentando</th>\n",
       "      <td>-7.131953</td>\n",
       "      <td>-7.557212</td>\n",
       "      <td>-7.514800</td>\n",
       "    </tr>\n",
       "  </tbody>\n",
       "</table>\n",
       "</div>"
      ],
      "text/plain": [
       "                    k1        k2        k3\n",
       "inducida     -8.613557 -8.943506 -9.306559\n",
       "elevacion    -9.124383 -8.943506 -9.306559\n",
       "internas     -9.529848 -7.334068 -8.613412\n",
       "incluidas   -10.222995 -8.943506 -8.613412\n",
       "fuerza       -9.124383 -8.943506 -9.306559\n",
       "419         -10.222995 -8.250359 -9.306559\n",
       "algun        -8.431236 -8.943506 -8.613412\n",
       "cifra        -8.836701 -8.250359 -8.207947\n",
       "demanda      -5.853547 -6.110293 -6.171065\n",
       "presentando  -7.131953 -7.557212 -7.514800"
      ]
     },
     "execution_count": 1061,
     "metadata": {},
     "output_type": "execute_result"
    }
   ],
   "source": [
    "log_L = np.log(L)\n",
    "log_L.sample(10, random_state=314)"
   ]
  },
  {
   "cell_type": "code",
   "execution_count": 1062,
   "metadata": {},
   "outputs": [],
   "source": [
    "log_prior_k1 = np.log(N1 / N)\n",
    "log_prior_k2 = np.log(N2 / N)\n",
    "log_prior_k3 = np.log(N3 / N)\n",
    "log_priors= np.array([log_prior_k1,log_prior_k2, log_prior_k3])"
   ]
  },
  {
   "cell_type": "code",
   "execution_count": 1063,
   "metadata": {},
   "outputs": [],
   "source": [
    "D_test = D1_test.tolist() + D2_test.tolist() + D3_test.tolist()\n",
    "y_test = [\"k1\"] * len(D1_test) + [\"k2\"] * len(D2_test)  + [\"k3\"] * len(D3_test) "
   ]
  },
  {
   "cell_type": "code",
   "execution_count": 1064,
   "metadata": {},
   "outputs": [
    {
     "data": {
      "text/plain": [
       "'20 de junio de 2008 comunicado de prensa  anuncio de politica monetaria  la junta de gobierno del banco de mexico ha decidido incrementar a 775 por ciento el objetivo para la tasa de interes interbancaria a 1 dia  la economia mundial continua desacelerandose y la actividad economica en estados unidos se mantiene debil a este respecto se vislumbra un periodo prolongado de ajuste en ese pais conforme se reconstituya el ahorro de los hogares al mismo tiempo se han intensificado las presiones inflacionarias en el mundo debido a los fuertes incrementos en los precios de los alimentos de los energeticos y de otras materias primas  practicamente todos los bancos centrales han revisado al alza sus previsiones sobre la inflacion  algunos en los principales paises desarrollados han expresado su creciente preocupacion por el deterioro inflacionario otros en numerosos paises de economias emergentes han endurecido su politica monetaria  durante el primer trimestre la actividad economica en mexico no resintio en forma significativa el debilitamiento de la economia de estados unidos  en dicho periodo el pib crecio 26 por ciento en terminos reales equivalente a 38 por ciento con cifras ajustadas por el efecto estacional de la semana santa se estima una evolucion similar para el segundo trimestre aunque hacia adelante permanecen los riesgos a la baja de la actividad economica  la coyuntura actual para la politica monetaria de mexico es particularmente compleja la dinamica reciente de la inflacion es preocupante porque responde a la acentuacion de las mismas presiones externas que se han venido comentando en el pasado por ello al igual que la mayoria de los bancos centrales el banco de mexico ha tenido que revisar al alza sus proyecciones sobre la inflacion asimismo es previsible que se corrijan gradualmente algunas disparidades que existen entre ciertos precios internos y sus referentes mundiales mexico no muestra presiones inflacionarias por el lado de la demanda  incluso un eventual debilitamiento del gasto agregado podria constituir un factor que atenuaria las presiones alcistas las expectativas de inflacion a mediano plazo continuan bien ancladas y la contaminacion de los precios no relacionados con el alza de las materias primas ha sido limitada  sin embargo el balance de riesgos sobre la inflacion ha empeorado la trayectoria de la inflacion para el resto del ano y principios de 2009 puede resultar algo mayor que la prevista en el informe sobre la inflacion mas reciente  con base en las consideraciones anteriores la junta de gobierno ha decidido aumentar a 775  por ciento el objetivo para la tasa de interes interbancaria a 1 dia con el proposito de reforzar las expectativas de inflacion a mediano plazo  el banco de mexico continuara vigilando estrechamente el balance de riesgos con miras al cumplimiento de la meta del 3 por ciento en los tiempos previstos  '"
      ]
     },
     "execution_count": 1064,
     "metadata": {},
     "output_type": "execute_result"
    }
   ],
   "source": [
    "D_test[22]"
   ]
  },
  {
   "cell_type": "code",
   "execution_count": 1065,
   "metadata": {},
   "outputs": [
    {
     "name": "stdout",
     "output_type": "stream",
     "text": [
      "k1\n",
      "k1\n",
      "k1\n",
      "k1\n",
      "k1\n",
      "k1\n",
      "k1\n",
      "k1\n",
      "k1\n",
      "k1\n",
      "k1\n",
      "k1\n",
      "k1\n",
      "k1\n",
      "k1\n",
      "k2\n",
      "k2\n",
      "k2\n",
      "k1\n",
      "k3\n",
      "k3\n",
      "k3\n",
      "k1\n"
     ]
    }
   ],
   "source": [
    "y_hat_test = []\n",
    "for d_test in D_test:\n",
    "    f = set([palabra for palabra in d_test.split() if palabra in V])\n",
    "    res = log_L.loc[f].sum(axis=0) + log_priors\n",
    "    print(res.idxmax())\n",
    "    y_hat_test.append(res.idxmax())"
   ]
  },
  {
   "cell_type": "code",
   "execution_count": 1067,
   "metadata": {},
   "outputs": [
    {
     "data": {
      "text/plain": [
       "<matplotlib.axes._subplots.AxesSubplot at 0x1a1c0c0050>"
      ]
     },
     "execution_count": 1067,
     "metadata": {},
     "output_type": "execute_result"
    },
    {
     "data": {
      "image/png": "[encoded data removed]",
      "text/plain": [
       "<Figure size 432x288 with 2 Axes>"
      ]
     },
     "metadata": {
      "needs_background": "light"
     },
     "output_type": "display_data"
    }
   ],
   "source": [
    "from sklearn.metrics import confusion_matrix\n",
    "import seaborn as sns\n",
    "\n",
    "sns.heatmap(confusion_matrix(y_hat_test,y_test ),annot=True, cmap= \"Blues\")"
   ]
  }
 ],
 "metadata": {
  "kernelspec": {
   "display_name": "Python 3",
   "language": "python",
   "name": "python3"
  },
  "language_info": {
   "codemirror_mode": {
    "name": "ipython",
    "version": 3
   },
   "file_extension": ".py",
   "mimetype": "text/x-python",
   "name": "python",
   "nbconvert_exporter": "python",
   "pygments_lexer": "ipython3",
   "version": "3.7.6"
  }
 },
 "nbformat": 4,
 "nbformat_minor": 2
}
