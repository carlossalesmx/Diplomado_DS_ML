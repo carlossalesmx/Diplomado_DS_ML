{
 "cells": [
  {
   "cell_type": "markdown",
   "metadata": {},
   "source": [
    "# Proyecto final portafolios Modulo V"
   ]
  },
  {
   "cell_type": "markdown",
   "metadata": {},
   "source": [
    "El objetivo del examen final es construir un portafolio riesgoso con 7 acciones e invertir en un portafolio completo que maximice tu utilidad . Considera una tasa libre de riesgo de 5.0% , un premio por riesgo de mercado de 10.0% y un nivel de aversión al riesgo A=3"
   ]
  },
  {
   "cell_type": "code",
   "execution_count": 1,
   "metadata": {},
   "outputs": [],
   "source": [
    "from scipy.optimize import minimize\n",
    "import pandas as pd\n",
    "import numpy as np\n",
    "import matplotlib.pyplot as plt\n",
    "import seaborn as sns\n",
    "import random"
   ]
  },
  {
   "cell_type": "code",
   "execution_count": 2,
   "metadata": {},
   "outputs": [
    {
     "data": {
      "text/html": [
       "<div>\n",
       "<style scoped>\n",
       "    .dataframe tbody tr th:only-of-type {\n",
       "        vertical-align: middle;\n",
       "    }\n",
       "\n",
       "    .dataframe tbody tr th {\n",
       "        vertical-align: top;\n",
       "    }\n",
       "\n",
       "    .dataframe thead th {\n",
       "        text-align: right;\n",
       "    }\n",
       "</style>\n",
       "<table border=\"1\" class=\"dataframe\">\n",
       "  <thead>\n",
       "    <tr style=\"text-align: right;\">\n",
       "      <th></th>\n",
       "      <th>KIMBERA MF Equity</th>\n",
       "      <th>GAPB MF Equity</th>\n",
       "      <th>CEMEXCPO MF Equity</th>\n",
       "      <th>ASURB MF Equity</th>\n",
       "      <th>GFNORTEO MF Equity</th>\n",
       "      <th>KOFUBL MF Equity</th>\n",
       "      <th>AC* MF Equity</th>\n",
       "      <th>LABB MF Equity</th>\n",
       "      <th>FEMSAUBD MF Equity</th>\n",
       "      <th>OMAB MF Equity</th>\n",
       "      <th>...</th>\n",
       "      <th>MEGACPO MF Equity</th>\n",
       "      <th>GCC* MF Equity</th>\n",
       "      <th>BIMBOA MF Equity</th>\n",
       "      <th>GMEXICOB MF Equity</th>\n",
       "      <th>GCARSOA1 MF Equity</th>\n",
       "      <th>TLEVICPO MF Equity</th>\n",
       "      <th>ALFAA MF Equity</th>\n",
       "      <th>BSMXB MF Equity</th>\n",
       "      <th>PINFRA* MF Equity</th>\n",
       "      <th>MEXBOL INDEX</th>\n",
       "    </tr>\n",
       "    <tr>\n",
       "      <th>DATE</th>\n",
       "      <th></th>\n",
       "      <th></th>\n",
       "      <th></th>\n",
       "      <th></th>\n",
       "      <th></th>\n",
       "      <th></th>\n",
       "      <th></th>\n",
       "      <th></th>\n",
       "      <th></th>\n",
       "      <th></th>\n",
       "      <th></th>\n",
       "      <th></th>\n",
       "      <th></th>\n",
       "      <th></th>\n",
       "      <th></th>\n",
       "      <th></th>\n",
       "      <th></th>\n",
       "      <th></th>\n",
       "      <th></th>\n",
       "      <th></th>\n",
       "      <th></th>\n",
       "    </tr>\n",
       "  </thead>\n",
       "  <tbody>\n",
       "    <tr>\n",
       "      <th>2016-01-01</th>\n",
       "      <td>40.37</td>\n",
       "      <td>152.05</td>\n",
       "      <td>8.72</td>\n",
       "      <td>243.89</td>\n",
       "      <td>94.99</td>\n",
       "      <td>123.90</td>\n",
       "      <td>104.68</td>\n",
       "      <td>13.85</td>\n",
       "      <td>161.63</td>\n",
       "      <td>83.61</td>\n",
       "      <td>...</td>\n",
       "      <td>64.19</td>\n",
       "      <td>44.81</td>\n",
       "      <td>45.95</td>\n",
       "      <td>36.79</td>\n",
       "      <td>70.98</td>\n",
       "      <td>94.34</td>\n",
       "      <td>34.10</td>\n",
       "      <td>30.25</td>\n",
       "      <td>202.73</td>\n",
       "      <td>42977.50</td>\n",
       "    </tr>\n",
       "    <tr>\n",
       "      <th>2016-01-04</th>\n",
       "      <td>39.16</td>\n",
       "      <td>148.57</td>\n",
       "      <td>8.43</td>\n",
       "      <td>238.29</td>\n",
       "      <td>91.79</td>\n",
       "      <td>120.29</td>\n",
       "      <td>102.09</td>\n",
       "      <td>14.41</td>\n",
       "      <td>157.62</td>\n",
       "      <td>81.77</td>\n",
       "      <td>...</td>\n",
       "      <td>64.45</td>\n",
       "      <td>43.51</td>\n",
       "      <td>45.02</td>\n",
       "      <td>35.71</td>\n",
       "      <td>69.83</td>\n",
       "      <td>92.62</td>\n",
       "      <td>33.74</td>\n",
       "      <td>29.46</td>\n",
       "      <td>202.93</td>\n",
       "      <td>42113.70</td>\n",
       "    </tr>\n",
       "    <tr>\n",
       "      <th>2016-01-05</th>\n",
       "      <td>38.89</td>\n",
       "      <td>147.93</td>\n",
       "      <td>8.31</td>\n",
       "      <td>233.03</td>\n",
       "      <td>91.72</td>\n",
       "      <td>118.82</td>\n",
       "      <td>101.12</td>\n",
       "      <td>13.77</td>\n",
       "      <td>157.80</td>\n",
       "      <td>81.58</td>\n",
       "      <td>...</td>\n",
       "      <td>63.16</td>\n",
       "      <td>43.51</td>\n",
       "      <td>45.77</td>\n",
       "      <td>36.45</td>\n",
       "      <td>70.70</td>\n",
       "      <td>91.89</td>\n",
       "      <td>33.99</td>\n",
       "      <td>29.72</td>\n",
       "      <td>203.56</td>\n",
       "      <td>42041.68</td>\n",
       "    </tr>\n",
       "    <tr>\n",
       "      <th>2016-01-06</th>\n",
       "      <td>39.13</td>\n",
       "      <td>146.99</td>\n",
       "      <td>8.29</td>\n",
       "      <td>231.97</td>\n",
       "      <td>91.63</td>\n",
       "      <td>120.32</td>\n",
       "      <td>102.50</td>\n",
       "      <td>13.65</td>\n",
       "      <td>156.37</td>\n",
       "      <td>82.03</td>\n",
       "      <td>...</td>\n",
       "      <td>63.27</td>\n",
       "      <td>43.51</td>\n",
       "      <td>45.97</td>\n",
       "      <td>35.57</td>\n",
       "      <td>70.47</td>\n",
       "      <td>90.41</td>\n",
       "      <td>33.65</td>\n",
       "      <td>29.67</td>\n",
       "      <td>199.80</td>\n",
       "      <td>41691.19</td>\n",
       "    </tr>\n",
       "    <tr>\n",
       "      <th>2016-01-07</th>\n",
       "      <td>39.16</td>\n",
       "      <td>141.32</td>\n",
       "      <td>7.64</td>\n",
       "      <td>230.71</td>\n",
       "      <td>89.54</td>\n",
       "      <td>120.20</td>\n",
       "      <td>101.16</td>\n",
       "      <td>13.25</td>\n",
       "      <td>155.14</td>\n",
       "      <td>80.94</td>\n",
       "      <td>...</td>\n",
       "      <td>62.78</td>\n",
       "      <td>42.76</td>\n",
       "      <td>46.18</td>\n",
       "      <td>35.01</td>\n",
       "      <td>68.15</td>\n",
       "      <td>90.23</td>\n",
       "      <td>31.46</td>\n",
       "      <td>28.50</td>\n",
       "      <td>196.75</td>\n",
       "      <td>40661.57</td>\n",
       "    </tr>\n",
       "  </tbody>\n",
       "</table>\n",
       "<p>5 rows × 36 columns</p>\n",
       "</div>"
      ],
      "text/plain": [
       "            KIMBERA MF Equity  GAPB MF Equity  CEMEXCPO MF Equity  \\\n",
       "DATE                                                                \n",
       "2016-01-01              40.37          152.05                8.72   \n",
       "2016-01-04              39.16          148.57                8.43   \n",
       "2016-01-05              38.89          147.93                8.31   \n",
       "2016-01-06              39.13          146.99                8.29   \n",
       "2016-01-07              39.16          141.32                7.64   \n",
       "\n",
       "            ASURB MF Equity  GFNORTEO MF Equity  KOFUBL MF Equity  \\\n",
       "DATE                                                                \n",
       "2016-01-01           243.89               94.99            123.90   \n",
       "2016-01-04           238.29               91.79            120.29   \n",
       "2016-01-05           233.03               91.72            118.82   \n",
       "2016-01-06           231.97               91.63            120.32   \n",
       "2016-01-07           230.71               89.54            120.20   \n",
       "\n",
       "            AC* MF Equity  LABB MF Equity  FEMSAUBD MF Equity  OMAB MF Equity  \\\n",
       "DATE                                                                            \n",
       "2016-01-01         104.68           13.85              161.63           83.61   \n",
       "2016-01-04         102.09           14.41              157.62           81.77   \n",
       "2016-01-05         101.12           13.77              157.80           81.58   \n",
       "2016-01-06         102.50           13.65              156.37           82.03   \n",
       "2016-01-07         101.16           13.25              155.14           80.94   \n",
       "\n",
       "            ...  MEGACPO MF Equity  GCC* MF Equity  BIMBOA MF Equity  \\\n",
       "DATE        ...                                                        \n",
       "2016-01-01  ...              64.19           44.81             45.95   \n",
       "2016-01-04  ...              64.45           43.51             45.02   \n",
       "2016-01-05  ...              63.16           43.51             45.77   \n",
       "2016-01-06  ...              63.27           43.51             45.97   \n",
       "2016-01-07  ...              62.78           42.76             46.18   \n",
       "\n",
       "            GMEXICOB MF Equity  GCARSOA1 MF Equity  TLEVICPO MF Equity  \\\n",
       "DATE                                                                     \n",
       "2016-01-01               36.79               70.98               94.34   \n",
       "2016-01-04               35.71               69.83               92.62   \n",
       "2016-01-05               36.45               70.70               91.89   \n",
       "2016-01-06               35.57               70.47               90.41   \n",
       "2016-01-07               35.01               68.15               90.23   \n",
       "\n",
       "            ALFAA MF Equity  BSMXB MF Equity  PINFRA* MF Equity  MEXBOL INDEX  \n",
       "DATE                                                                           \n",
       "2016-01-01            34.10            30.25             202.73      42977.50  \n",
       "2016-01-04            33.74            29.46             202.93      42113.70  \n",
       "2016-01-05            33.99            29.72             203.56      42041.68  \n",
       "2016-01-06            33.65            29.67             199.80      41691.19  \n",
       "2016-01-07            31.46            28.50             196.75      40661.57  \n",
       "\n",
       "[5 rows x 36 columns]"
      ]
     },
     "execution_count": 2,
     "metadata": {},
     "output_type": "execute_result"
    }
   ],
   "source": [
    "path = \"ipc.xlsx\"\n",
    "df_port = pd.read_excel(path, index_col=0)\n",
    "df_port.head()"
   ]
  },
  {
   "cell_type": "markdown",
   "metadata": {},
   "source": [
    "##### Seleccion de acciones"
   ]
  },
  {
   "cell_type": "code",
   "execution_count": 3,
   "metadata": {},
   "outputs": [
    {
     "data": {
      "text/plain": [
       "['ALPEKA MF Equity',\n",
       " 'ELEKTRA* MF Equity',\n",
       " 'KOFUBL MF Equity',\n",
       " 'PINFRA* MF Equity',\n",
       " 'BBAJIOO MF Equity',\n",
       " 'IENOVA* MF Equity',\n",
       " 'LIVEPOLC MF Equity']"
      ]
     },
     "execution_count": 3,
     "metadata": {},
     "output_type": "execute_result"
    }
   ],
   "source": [
    "random.seed(50620)\n",
    "equities = random.sample(list(df_port.columns),7)\n",
    "equities"
   ]
  },
  {
   "cell_type": "code",
   "execution_count": 4,
   "metadata": {},
   "outputs": [
    {
     "data": {
      "text/html": [
       "<div>\n",
       "<style scoped>\n",
       "    .dataframe tbody tr th:only-of-type {\n",
       "        vertical-align: middle;\n",
       "    }\n",
       "\n",
       "    .dataframe tbody tr th {\n",
       "        vertical-align: top;\n",
       "    }\n",
       "\n",
       "    .dataframe thead th {\n",
       "        text-align: right;\n",
       "    }\n",
       "</style>\n",
       "<table border=\"1\" class=\"dataframe\">\n",
       "  <thead>\n",
       "    <tr style=\"text-align: right;\">\n",
       "      <th></th>\n",
       "      <th>ALPEKA MF Equity</th>\n",
       "      <th>ELEKTRA* MF Equity</th>\n",
       "      <th>KOFUBL MF Equity</th>\n",
       "      <th>PINFRA* MF Equity</th>\n",
       "      <th>BBAJIOO MF Equity</th>\n",
       "      <th>IENOVA* MF Equity</th>\n",
       "      <th>LIVEPOLC MF Equity</th>\n",
       "    </tr>\n",
       "    <tr>\n",
       "      <th>DATE</th>\n",
       "      <th></th>\n",
       "      <th></th>\n",
       "      <th></th>\n",
       "      <th></th>\n",
       "      <th></th>\n",
       "      <th></th>\n",
       "      <th></th>\n",
       "    </tr>\n",
       "  </thead>\n",
       "  <tbody>\n",
       "    <tr>\n",
       "      <th>2016-01-01</th>\n",
       "      <td>24.19</td>\n",
       "      <td>379.04</td>\n",
       "      <td>123.90</td>\n",
       "      <td>202.73</td>\n",
       "      <td>NaN</td>\n",
       "      <td>72.34</td>\n",
       "      <td>210.11</td>\n",
       "    </tr>\n",
       "    <tr>\n",
       "      <th>2016-01-04</th>\n",
       "      <td>23.86</td>\n",
       "      <td>368.42</td>\n",
       "      <td>120.29</td>\n",
       "      <td>202.93</td>\n",
       "      <td>NaN</td>\n",
       "      <td>72.98</td>\n",
       "      <td>209.83</td>\n",
       "    </tr>\n",
       "    <tr>\n",
       "      <th>2016-01-05</th>\n",
       "      <td>23.52</td>\n",
       "      <td>357.30</td>\n",
       "      <td>118.82</td>\n",
       "      <td>203.56</td>\n",
       "      <td>NaN</td>\n",
       "      <td>71.48</td>\n",
       "      <td>210.42</td>\n",
       "    </tr>\n",
       "    <tr>\n",
       "      <th>2016-01-06</th>\n",
       "      <td>22.52</td>\n",
       "      <td>342.66</td>\n",
       "      <td>120.32</td>\n",
       "      <td>199.80</td>\n",
       "      <td>NaN</td>\n",
       "      <td>70.94</td>\n",
       "      <td>206.98</td>\n",
       "    </tr>\n",
       "    <tr>\n",
       "      <th>2016-01-07</th>\n",
       "      <td>22.26</td>\n",
       "      <td>334.15</td>\n",
       "      <td>120.20</td>\n",
       "      <td>196.75</td>\n",
       "      <td>NaN</td>\n",
       "      <td>72.31</td>\n",
       "      <td>209.60</td>\n",
       "    </tr>\n",
       "  </tbody>\n",
       "</table>\n",
       "</div>"
      ],
      "text/plain": [
       "            ALPEKA MF Equity  ELEKTRA* MF Equity  KOFUBL MF Equity  \\\n",
       "DATE                                                                 \n",
       "2016-01-01             24.19              379.04            123.90   \n",
       "2016-01-04             23.86              368.42            120.29   \n",
       "2016-01-05             23.52              357.30            118.82   \n",
       "2016-01-06             22.52              342.66            120.32   \n",
       "2016-01-07             22.26              334.15            120.20   \n",
       "\n",
       "            PINFRA* MF Equity  BBAJIOO MF Equity  IENOVA* MF Equity  \\\n",
       "DATE                                                                  \n",
       "2016-01-01             202.73                NaN              72.34   \n",
       "2016-01-04             202.93                NaN              72.98   \n",
       "2016-01-05             203.56                NaN              71.48   \n",
       "2016-01-06             199.80                NaN              70.94   \n",
       "2016-01-07             196.75                NaN              72.31   \n",
       "\n",
       "            LIVEPOLC MF Equity  \n",
       "DATE                            \n",
       "2016-01-01              210.11  \n",
       "2016-01-04              209.83  \n",
       "2016-01-05              210.42  \n",
       "2016-01-06              206.98  \n",
       "2016-01-07              209.60  "
      ]
     },
     "execution_count": 4,
     "metadata": {},
     "output_type": "execute_result"
    }
   ],
   "source": [
    "df_eq =df_port[equities]\n",
    "df_eq.head()"
   ]
  },
  {
   "cell_type": "markdown",
   "metadata": {},
   "source": [
    "### 1.- Rendimiento esperado diario y anual bajo "
   ]
  },
  {
   "cell_type": "markdown",
   "metadata": {},
   "source": [
    "#### a. Modelo de rendimiento promedio constante"
   ]
  },
  {
   "cell_type": "code",
   "execution_count": 5,
   "metadata": {
    "scrolled": true
   },
   "outputs": [
    {
     "data": {
      "text/html": [
       "<div>\n",
       "<style scoped>\n",
       "    .dataframe tbody tr th:only-of-type {\n",
       "        vertical-align: middle;\n",
       "    }\n",
       "\n",
       "    .dataframe tbody tr th {\n",
       "        vertical-align: top;\n",
       "    }\n",
       "\n",
       "    .dataframe thead th {\n",
       "        text-align: right;\n",
       "    }\n",
       "</style>\n",
       "<table border=\"1\" class=\"dataframe\">\n",
       "  <thead>\n",
       "    <tr style=\"text-align: right;\">\n",
       "      <th></th>\n",
       "      <th>ALPEKA</th>\n",
       "      <th>ELEKTRA*</th>\n",
       "      <th>KOFUBL</th>\n",
       "      <th>PINFRA*</th>\n",
       "      <th>BBAJIOO</th>\n",
       "      <th>IENOVA*</th>\n",
       "      <th>LIVEPOLC</th>\n",
       "    </tr>\n",
       "    <tr>\n",
       "      <th>DATE</th>\n",
       "      <th></th>\n",
       "      <th></th>\n",
       "      <th></th>\n",
       "      <th></th>\n",
       "      <th></th>\n",
       "      <th></th>\n",
       "      <th></th>\n",
       "    </tr>\n",
       "  </thead>\n",
       "  <tbody>\n",
       "    <tr>\n",
       "      <th>2017-06-08</th>\n",
       "      <td>0.000896</td>\n",
       "      <td>0.011200</td>\n",
       "      <td>-0.008074</td>\n",
       "      <td>-0.003959</td>\n",
       "      <td>0.021695</td>\n",
       "      <td>-0.000341</td>\n",
       "      <td>0.008708</td>\n",
       "    </tr>\n",
       "    <tr>\n",
       "      <th>2017-06-09</th>\n",
       "      <td>0.004926</td>\n",
       "      <td>0.053559</td>\n",
       "      <td>-0.006642</td>\n",
       "      <td>-0.004337</td>\n",
       "      <td>0.003981</td>\n",
       "      <td>0.001708</td>\n",
       "      <td>-0.003720</td>\n",
       "    </tr>\n",
       "    <tr>\n",
       "      <th>2017-06-12</th>\n",
       "      <td>0.008913</td>\n",
       "      <td>0.032947</td>\n",
       "      <td>-0.000656</td>\n",
       "      <td>0.006326</td>\n",
       "      <td>0.007931</td>\n",
       "      <td>0.004319</td>\n",
       "      <td>-0.003241</td>\n",
       "    </tr>\n",
       "    <tr>\n",
       "      <th>2017-06-13</th>\n",
       "      <td>-0.012809</td>\n",
       "      <td>-0.007026</td>\n",
       "      <td>-0.016006</td>\n",
       "      <td>0.020146</td>\n",
       "      <td>-0.003279</td>\n",
       "      <td>0.039040</td>\n",
       "      <td>0.002262</td>\n",
       "    </tr>\n",
       "    <tr>\n",
       "      <th>2017-06-14</th>\n",
       "      <td>0.003579</td>\n",
       "      <td>-0.002493</td>\n",
       "      <td>0.001133</td>\n",
       "      <td>0.018132</td>\n",
       "      <td>0.002961</td>\n",
       "      <td>0.028861</td>\n",
       "      <td>0.002750</td>\n",
       "    </tr>\n",
       "    <tr>\n",
       "      <th>2017-06-15</th>\n",
       "      <td>0.000446</td>\n",
       "      <td>-0.017357</td>\n",
       "      <td>0.009190</td>\n",
       "      <td>-0.002927</td>\n",
       "      <td>-0.000328</td>\n",
       "      <td>0.010691</td>\n",
       "      <td>0.004219</td>\n",
       "    </tr>\n",
       "    <tr>\n",
       "      <th>2017-06-16</th>\n",
       "      <td>0.004456</td>\n",
       "      <td>-0.102989</td>\n",
       "      <td>-0.011415</td>\n",
       "      <td>0.021792</td>\n",
       "      <td>0.006890</td>\n",
       "      <td>-0.003456</td>\n",
       "      <td>0.016947</td>\n",
       "    </tr>\n",
       "    <tr>\n",
       "      <th>2017-06-19</th>\n",
       "      <td>-0.008873</td>\n",
       "      <td>-0.042389</td>\n",
       "      <td>0.021960</td>\n",
       "      <td>0.013683</td>\n",
       "      <td>0.008798</td>\n",
       "      <td>0.020809</td>\n",
       "      <td>-0.023619</td>\n",
       "    </tr>\n",
       "    <tr>\n",
       "      <th>2017-06-20</th>\n",
       "      <td>-0.007610</td>\n",
       "      <td>-0.022167</td>\n",
       "      <td>0.010646</td>\n",
       "      <td>0.000817</td>\n",
       "      <td>0.006137</td>\n",
       "      <td>-0.004015</td>\n",
       "      <td>0.009098</td>\n",
       "    </tr>\n",
       "    <tr>\n",
       "      <th>2017-06-21</th>\n",
       "      <td>-0.039242</td>\n",
       "      <td>0.048759</td>\n",
       "      <td>-0.004911</td>\n",
       "      <td>0.008495</td>\n",
       "      <td>0.000000</td>\n",
       "      <td>-0.013438</td>\n",
       "      <td>0.000699</td>\n",
       "    </tr>\n",
       "  </tbody>\n",
       "</table>\n",
       "</div>"
      ],
      "text/plain": [
       "              ALPEKA  ELEKTRA*    KOFUBL   PINFRA*   BBAJIOO   IENOVA*  \\\n",
       "DATE                                                                     \n",
       "2017-06-08  0.000896  0.011200 -0.008074 -0.003959  0.021695 -0.000341   \n",
       "2017-06-09  0.004926  0.053559 -0.006642 -0.004337  0.003981  0.001708   \n",
       "2017-06-12  0.008913  0.032947 -0.000656  0.006326  0.007931  0.004319   \n",
       "2017-06-13 -0.012809 -0.007026 -0.016006  0.020146 -0.003279  0.039040   \n",
       "2017-06-14  0.003579 -0.002493  0.001133  0.018132  0.002961  0.028861   \n",
       "2017-06-15  0.000446 -0.017357  0.009190 -0.002927 -0.000328  0.010691   \n",
       "2017-06-16  0.004456 -0.102989 -0.011415  0.021792  0.006890 -0.003456   \n",
       "2017-06-19 -0.008873 -0.042389  0.021960  0.013683  0.008798  0.020809   \n",
       "2017-06-20 -0.007610 -0.022167  0.010646  0.000817  0.006137 -0.004015   \n",
       "2017-06-21 -0.039242  0.048759 -0.004911  0.008495  0.000000 -0.013438   \n",
       "\n",
       "            LIVEPOLC  \n",
       "DATE                  \n",
       "2017-06-08  0.008708  \n",
       "2017-06-09 -0.003720  \n",
       "2017-06-12 -0.003241  \n",
       "2017-06-13  0.002262  \n",
       "2017-06-14  0.002750  \n",
       "2017-06-15  0.004219  \n",
       "2017-06-16  0.016947  \n",
       "2017-06-19 -0.023619  \n",
       "2017-06-20  0.009098  \n",
       "2017-06-21  0.000699  "
      ]
     },
     "execution_count": 5,
     "metadata": {},
     "output_type": "execute_result"
    }
   ],
   "source": [
    "ren = df_eq.pct_change().dropna(axis=0)\n",
    "ren.columns = [col.replace(\" MF Equity\", \"\") for col in ren.columns]\n",
    "ren.head(10)"
   ]
  },
  {
   "cell_type": "code",
   "execution_count": 6,
   "metadata": {},
   "outputs": [
    {
     "data": {
      "text/plain": [
       "<matplotlib.axes._subplots.AxesSubplot at 0x1a17d592d0>"
      ]
     },
     "execution_count": 6,
     "metadata": {},
     "output_type": "execute_result"
    },
    {
     "data": {
      "image/png": "[encoded data removed]",
      "text/plain": [
       "<Figure size 432x288 with 1 Axes>"
      ]
     },
     "metadata": {
      "needs_background": "light"
     },
     "output_type": "display_data"
    }
   ],
   "source": [
    "df_eq.plot()"
   ]
  },
  {
   "cell_type": "code",
   "execution_count": 7,
   "metadata": {},
   "outputs": [
    {
     "data": {
      "text/plain": [
       "ALPEKA      0.000044\n",
       "ELEKTRA*    0.000987\n",
       "KOFUBL     -0.000349\n",
       "PINFRA*     0.000126\n",
       "BBAJIOO     0.000249\n",
       "IENOVA*     0.000153\n",
       "LIVEPOLC   -0.000395\n",
       "dtype: float64"
      ]
     },
     "execution_count": 7,
     "metadata": {},
     "output_type": "execute_result"
    }
   ],
   "source": [
    "#Rendimientos diarios\n",
    "ren_daily=ren.mean() \n",
    "ren_daily"
   ]
  },
  {
   "cell_type": "code",
   "execution_count": 8,
   "metadata": {},
   "outputs": [
    {
     "data": {
      "text/plain": [
       "ALPEKA      0.011097\n",
       "ELEKTRA*    0.248633\n",
       "KOFUBL     -0.087839\n",
       "PINFRA*     0.031631\n",
       "BBAJIOO     0.062645\n",
       "IENOVA*     0.038623\n",
       "LIVEPOLC   -0.099428\n",
       "dtype: float64"
      ]
     },
     "execution_count": 8,
     "metadata": {},
     "output_type": "execute_result"
    }
   ],
   "source": [
    "#Rendimientos anuales\n",
    "rend_anual=ren_daily*252 \n",
    "rend_anual"
   ]
  },
  {
   "cell_type": "code",
   "execution_count": 9,
   "metadata": {},
   "outputs": [
    {
     "data": {
      "text/plain": [
       "array([0.04017788, 0.17404001, 0.17641442, 0.1184977 , 0.203764  ,\n",
       "       0.15500452, 0.13210147])"
      ]
     },
     "execution_count": 9,
     "metadata": {},
     "output_type": "execute_result"
    }
   ],
   "source": [
    "# Vector de pesos aleatorios\n",
    "ran_weights = np.random.random(7)\n",
    "ran_weights /= sum(ran_weights)\n",
    "ran_weights"
   ]
  },
  {
   "cell_type": "code",
   "execution_count": 10,
   "metadata": {},
   "outputs": [
    {
     "data": {
      "text/plain": [
       "0.00014915564804533787"
      ]
     },
     "execution_count": 10,
     "metadata": {},
     "output_type": "execute_result"
    }
   ],
   "source": [
    "# Rendimiento esperado promedio constante\n",
    "E_ren_pd = (ren_daily @ ran_weights) \n",
    "E_ren_pd"
   ]
  },
  {
   "cell_type": "code",
   "execution_count": 11,
   "metadata": {},
   "outputs": [
    {
     "data": {
      "text/plain": [
       "0.037587223307425144"
      ]
     },
     "execution_count": 11,
     "metadata": {},
     "output_type": "execute_result"
    }
   ],
   "source": [
    "E_ren_pa = (ren_daily @ ran_weights)*252 \n",
    "E_ren_pa"
   ]
  },
  {
   "cell_type": "code",
   "execution_count": 12,
   "metadata": {},
   "outputs": [
    {
     "data": {
      "text/plain": [
       "0.008533997235008868"
      ]
     },
     "execution_count": 12,
     "metadata": {},
     "output_type": "execute_result"
    }
   ],
   "source": [
    "S_p = np.sqrt(ran_weights.T @ (ren.cov()) @ ran_weights)\n",
    "S_p"
   ]
  },
  {
   "cell_type": "markdown",
   "metadata": {},
   "source": [
    "#### b.Modelo CAPM\n",
    "##### i.¿Cuál es la beta de cada acción?"
   ]
  },
  {
   "cell_type": "markdown",
   "metadata": {},
   "source": [
    "Planteamiento: \n",
    "Tomar Mexbol como el mercado para calcular las $\\beta's$\n",
    "\n"
   ]
  },
  {
   "cell_type": "code",
   "execution_count": 13,
   "metadata": {},
   "outputs": [
    {
     "data": {
      "text/html": [
       "<div>\n",
       "<style scoped>\n",
       "    .dataframe tbody tr th:only-of-type {\n",
       "        vertical-align: middle;\n",
       "    }\n",
       "\n",
       "    .dataframe tbody tr th {\n",
       "        vertical-align: top;\n",
       "    }\n",
       "\n",
       "    .dataframe thead th {\n",
       "        text-align: right;\n",
       "    }\n",
       "</style>\n",
       "<table border=\"1\" class=\"dataframe\">\n",
       "  <thead>\n",
       "    <tr style=\"text-align: right;\">\n",
       "      <th></th>\n",
       "      <th>ALPEKA MF Equity</th>\n",
       "      <th>ELEKTRA* MF Equity</th>\n",
       "      <th>KOFUBL MF Equity</th>\n",
       "      <th>PINFRA* MF Equity</th>\n",
       "      <th>BBAJIOO MF Equity</th>\n",
       "      <th>IENOVA* MF Equity</th>\n",
       "      <th>LIVEPOLC MF Equity</th>\n",
       "      <th>MEXBOL INDEX</th>\n",
       "    </tr>\n",
       "    <tr>\n",
       "      <th>DATE</th>\n",
       "      <th></th>\n",
       "      <th></th>\n",
       "      <th></th>\n",
       "      <th></th>\n",
       "      <th></th>\n",
       "      <th></th>\n",
       "      <th></th>\n",
       "      <th></th>\n",
       "    </tr>\n",
       "  </thead>\n",
       "  <tbody>\n",
       "    <tr>\n",
       "      <th>2017-06-08</th>\n",
       "      <td>0.000896</td>\n",
       "      <td>0.011200</td>\n",
       "      <td>-0.008074</td>\n",
       "      <td>-0.003959</td>\n",
       "      <td>0.021695</td>\n",
       "      <td>-0.000341</td>\n",
       "      <td>0.008708</td>\n",
       "      <td>-0.003805</td>\n",
       "    </tr>\n",
       "    <tr>\n",
       "      <th>2017-06-09</th>\n",
       "      <td>0.004926</td>\n",
       "      <td>0.053559</td>\n",
       "      <td>-0.006642</td>\n",
       "      <td>-0.004337</td>\n",
       "      <td>0.003981</td>\n",
       "      <td>0.001708</td>\n",
       "      <td>-0.003720</td>\n",
       "      <td>-0.000117</td>\n",
       "    </tr>\n",
       "    <tr>\n",
       "      <th>2017-06-12</th>\n",
       "      <td>0.008913</td>\n",
       "      <td>0.032947</td>\n",
       "      <td>-0.000656</td>\n",
       "      <td>0.006326</td>\n",
       "      <td>0.007931</td>\n",
       "      <td>0.004319</td>\n",
       "      <td>-0.003241</td>\n",
       "      <td>0.000958</td>\n",
       "    </tr>\n",
       "    <tr>\n",
       "      <th>2017-06-13</th>\n",
       "      <td>-0.012809</td>\n",
       "      <td>-0.007026</td>\n",
       "      <td>-0.016006</td>\n",
       "      <td>0.020146</td>\n",
       "      <td>-0.003279</td>\n",
       "      <td>0.039040</td>\n",
       "      <td>0.002262</td>\n",
       "      <td>-0.002075</td>\n",
       "    </tr>\n",
       "    <tr>\n",
       "      <th>2017-06-14</th>\n",
       "      <td>0.003579</td>\n",
       "      <td>-0.002493</td>\n",
       "      <td>0.001133</td>\n",
       "      <td>0.018132</td>\n",
       "      <td>0.002961</td>\n",
       "      <td>0.028861</td>\n",
       "      <td>0.002750</td>\n",
       "      <td>0.005389</td>\n",
       "    </tr>\n",
       "  </tbody>\n",
       "</table>\n",
       "</div>"
      ],
      "text/plain": [
       "            ALPEKA MF Equity  ELEKTRA* MF Equity  KOFUBL MF Equity  \\\n",
       "DATE                                                                 \n",
       "2017-06-08          0.000896            0.011200         -0.008074   \n",
       "2017-06-09          0.004926            0.053559         -0.006642   \n",
       "2017-06-12          0.008913            0.032947         -0.000656   \n",
       "2017-06-13         -0.012809           -0.007026         -0.016006   \n",
       "2017-06-14          0.003579           -0.002493          0.001133   \n",
       "\n",
       "            PINFRA* MF Equity  BBAJIOO MF Equity  IENOVA* MF Equity  \\\n",
       "DATE                                                                  \n",
       "2017-06-08          -0.003959           0.021695          -0.000341   \n",
       "2017-06-09          -0.004337           0.003981           0.001708   \n",
       "2017-06-12           0.006326           0.007931           0.004319   \n",
       "2017-06-13           0.020146          -0.003279           0.039040   \n",
       "2017-06-14           0.018132           0.002961           0.028861   \n",
       "\n",
       "            LIVEPOLC MF Equity  MEXBOL INDEX  \n",
       "DATE                                          \n",
       "2017-06-08            0.008708     -0.003805  \n",
       "2017-06-09           -0.003720     -0.000117  \n",
       "2017-06-12           -0.003241      0.000958  \n",
       "2017-06-13            0.002262     -0.002075  \n",
       "2017-06-14            0.002750      0.005389  "
      ]
     },
     "execution_count": 13,
     "metadata": {},
     "output_type": "execute_result"
    }
   ],
   "source": [
    "df_rends= df_eq.copy()\n",
    "df_rends[\"MEXBOL INDEX\"]=df_port[\"MEXBOL INDEX\"]\n",
    "df_rends=df_rends.pct_change().dropna(axis=0)\n",
    "df_rends.head()"
   ]
  },
  {
   "cell_type": "markdown",
   "metadata": {},
   "source": [
    "Calculo de las $\\beta's$:\n",
    "\n",
    "$\\beta_{p}=\\frac{\\operatorname{Cov}\\left(r_{p}, r_{b}\\right)}{\\operatorname{Var}\\left(r_{b}\\right)}$"
   ]
  },
  {
   "cell_type": "code",
   "execution_count": 14,
   "metadata": {},
   "outputs": [
    {
     "data": {
      "text/plain": [
       "ALPEKA MF Equity      0.608449\n",
       "ELEKTRA* MF Equity    0.405733\n",
       "KOFUBL MF Equity      0.716950\n",
       "PINFRA* MF Equity     0.605673\n",
       "BBAJIOO MF Equity     0.833118\n",
       "IENOVA* MF Equity     0.871632\n",
       "LIVEPOLC MF Equity    1.006320\n",
       "Name: MEXBOL INDEX, dtype: float64"
      ]
     },
     "execution_count": 14,
     "metadata": {},
     "output_type": "execute_result"
    }
   ],
   "source": [
    "betas=((df_rends.cov())/(df_rends.var()))['MEXBOL INDEX'].head(7)\n",
    "betas"
   ]
  },
  {
   "cell_type": "markdown",
   "metadata": {},
   "source": [
    "##### ii.Clasifica las acciones en defensivas y agresivas"
   ]
  },
  {
   "cell_type": "code",
   "execution_count": 15,
   "metadata": {},
   "outputs": [
    {
     "data": {
      "text/html": [
       "<div>\n",
       "<style scoped>\n",
       "    .dataframe tbody tr th:only-of-type {\n",
       "        vertical-align: middle;\n",
       "    }\n",
       "\n",
       "    .dataframe tbody tr th {\n",
       "        vertical-align: top;\n",
       "    }\n",
       "\n",
       "    .dataframe thead th {\n",
       "        text-align: right;\n",
       "    }\n",
       "</style>\n",
       "<table border=\"1\" class=\"dataframe\">\n",
       "  <thead>\n",
       "    <tr style=\"text-align: right;\">\n",
       "      <th></th>\n",
       "      <th>beta</th>\n",
       "      <th>tipo</th>\n",
       "    </tr>\n",
       "  </thead>\n",
       "  <tbody>\n",
       "    <tr>\n",
       "      <th>ALPEKA MF Equity</th>\n",
       "      <td>0.608449</td>\n",
       "      <td>defensiva</td>\n",
       "    </tr>\n",
       "    <tr>\n",
       "      <th>ELEKTRA* MF Equity</th>\n",
       "      <td>0.405733</td>\n",
       "      <td>defensiva</td>\n",
       "    </tr>\n",
       "    <tr>\n",
       "      <th>KOFUBL MF Equity</th>\n",
       "      <td>0.716950</td>\n",
       "      <td>defensiva</td>\n",
       "    </tr>\n",
       "    <tr>\n",
       "      <th>PINFRA* MF Equity</th>\n",
       "      <td>0.605673</td>\n",
       "      <td>defensiva</td>\n",
       "    </tr>\n",
       "    <tr>\n",
       "      <th>BBAJIOO MF Equity</th>\n",
       "      <td>0.833118</td>\n",
       "      <td>defensiva</td>\n",
       "    </tr>\n",
       "    <tr>\n",
       "      <th>IENOVA* MF Equity</th>\n",
       "      <td>0.871632</td>\n",
       "      <td>defensiva</td>\n",
       "    </tr>\n",
       "    <tr>\n",
       "      <th>LIVEPOLC MF Equity</th>\n",
       "      <td>1.006320</td>\n",
       "      <td>ofensiva</td>\n",
       "    </tr>\n",
       "  </tbody>\n",
       "</table>\n",
       "</div>"
      ],
      "text/plain": [
       "                        beta       tipo\n",
       "ALPEKA MF Equity    0.608449  defensiva\n",
       "ELEKTRA* MF Equity  0.405733  defensiva\n",
       "KOFUBL MF Equity    0.716950  defensiva\n",
       "PINFRA* MF Equity   0.605673  defensiva\n",
       "BBAJIOO MF Equity   0.833118  defensiva\n",
       "IENOVA* MF Equity   0.871632  defensiva\n",
       "LIVEPOLC MF Equity  1.006320   ofensiva"
      ]
     },
     "execution_count": 15,
     "metadata": {},
     "output_type": "execute_result"
    }
   ],
   "source": [
    "df_betas =pd.DataFrame(betas)\n",
    "df_betas.columns=['beta']\n",
    "df_betas['tipo']=df_betas['beta'].apply(lambda x: \"defensiva\" if x<=1 else 'ofensiva')\n",
    "df_betas"
   ]
  },
  {
   "cell_type": "markdown",
   "metadata": {},
   "source": [
    "### 2. Matriz varianza-covarianza "
   ]
  },
  {
   "cell_type": "markdown",
   "metadata": {},
   "source": [
    "#####  Diaria"
   ]
  },
  {
   "cell_type": "code",
   "execution_count": 16,
   "metadata": {},
   "outputs": [
    {
     "data": {
      "text/html": [
       "<div>\n",
       "<style scoped>\n",
       "    .dataframe tbody tr th:only-of-type {\n",
       "        vertical-align: middle;\n",
       "    }\n",
       "\n",
       "    .dataframe tbody tr th {\n",
       "        vertical-align: top;\n",
       "    }\n",
       "\n",
       "    .dataframe thead th {\n",
       "        text-align: right;\n",
       "    }\n",
       "</style>\n",
       "<table border=\"1\" class=\"dataframe\">\n",
       "  <thead>\n",
       "    <tr style=\"text-align: right;\">\n",
       "      <th></th>\n",
       "      <th>ALPEKA</th>\n",
       "      <th>ELEKTRA*</th>\n",
       "      <th>KOFUBL</th>\n",
       "      <th>PINFRA*</th>\n",
       "      <th>BBAJIOO</th>\n",
       "      <th>IENOVA*</th>\n",
       "      <th>LIVEPOLC</th>\n",
       "    </tr>\n",
       "  </thead>\n",
       "  <tbody>\n",
       "    <tr>\n",
       "      <th>ALPEKA</th>\n",
       "      <td>0.000251</td>\n",
       "      <td>0.000008</td>\n",
       "      <td>0.000032</td>\n",
       "      <td>0.000029</td>\n",
       "      <td>0.000030</td>\n",
       "      <td>0.000031</td>\n",
       "      <td>0.000053</td>\n",
       "    </tr>\n",
       "    <tr>\n",
       "      <th>ELEKTRA*</th>\n",
       "      <td>0.000008</td>\n",
       "      <td>0.000318</td>\n",
       "      <td>0.000037</td>\n",
       "      <td>0.000018</td>\n",
       "      <td>0.000030</td>\n",
       "      <td>0.000029</td>\n",
       "      <td>0.000046</td>\n",
       "    </tr>\n",
       "    <tr>\n",
       "      <th>KOFUBL</th>\n",
       "      <td>0.000032</td>\n",
       "      <td>0.000037</td>\n",
       "      <td>0.000150</td>\n",
       "      <td>0.000034</td>\n",
       "      <td>0.000033</td>\n",
       "      <td>0.000043</td>\n",
       "      <td>0.000058</td>\n",
       "    </tr>\n",
       "    <tr>\n",
       "      <th>PINFRA*</th>\n",
       "      <td>0.000029</td>\n",
       "      <td>0.000018</td>\n",
       "      <td>0.000034</td>\n",
       "      <td>0.000163</td>\n",
       "      <td>0.000037</td>\n",
       "      <td>0.000046</td>\n",
       "      <td>0.000049</td>\n",
       "    </tr>\n",
       "    <tr>\n",
       "      <th>BBAJIOO</th>\n",
       "      <td>0.000030</td>\n",
       "      <td>0.000030</td>\n",
       "      <td>0.000033</td>\n",
       "      <td>0.000037</td>\n",
       "      <td>0.000210</td>\n",
       "      <td>0.000061</td>\n",
       "      <td>0.000073</td>\n",
       "    </tr>\n",
       "    <tr>\n",
       "      <th>IENOVA*</th>\n",
       "      <td>0.000031</td>\n",
       "      <td>0.000029</td>\n",
       "      <td>0.000043</td>\n",
       "      <td>0.000046</td>\n",
       "      <td>0.000061</td>\n",
       "      <td>0.000261</td>\n",
       "      <td>0.000079</td>\n",
       "    </tr>\n",
       "    <tr>\n",
       "      <th>LIVEPOLC</th>\n",
       "      <td>0.000053</td>\n",
       "      <td>0.000046</td>\n",
       "      <td>0.000058</td>\n",
       "      <td>0.000049</td>\n",
       "      <td>0.000073</td>\n",
       "      <td>0.000079</td>\n",
       "      <td>0.000276</td>\n",
       "    </tr>\n",
       "  </tbody>\n",
       "</table>\n",
       "</div>"
      ],
      "text/plain": [
       "            ALPEKA  ELEKTRA*    KOFUBL   PINFRA*   BBAJIOO   IENOVA*  LIVEPOLC\n",
       "ALPEKA    0.000251  0.000008  0.000032  0.000029  0.000030  0.000031  0.000053\n",
       "ELEKTRA*  0.000008  0.000318  0.000037  0.000018  0.000030  0.000029  0.000046\n",
       "KOFUBL    0.000032  0.000037  0.000150  0.000034  0.000033  0.000043  0.000058\n",
       "PINFRA*   0.000029  0.000018  0.000034  0.000163  0.000037  0.000046  0.000049\n",
       "BBAJIOO   0.000030  0.000030  0.000033  0.000037  0.000210  0.000061  0.000073\n",
       "IENOVA*   0.000031  0.000029  0.000043  0.000046  0.000061  0.000261  0.000079\n",
       "LIVEPOLC  0.000053  0.000046  0.000058  0.000049  0.000073  0.000079  0.000276"
      ]
     },
     "execution_count": 16,
     "metadata": {},
     "output_type": "execute_result"
    }
   ],
   "source": [
    "m_vco_d = ren.cov() \n",
    "m_vco_d"
   ]
  },
  {
   "cell_type": "code",
   "execution_count": 17,
   "metadata": {},
   "outputs": [
    {
     "data": {
      "text/html": [
       "<div>\n",
       "<style scoped>\n",
       "    .dataframe tbody tr th:only-of-type {\n",
       "        vertical-align: middle;\n",
       "    }\n",
       "\n",
       "    .dataframe tbody tr th {\n",
       "        vertical-align: top;\n",
       "    }\n",
       "\n",
       "    .dataframe thead th {\n",
       "        text-align: right;\n",
       "    }\n",
       "</style>\n",
       "<table border=\"1\" class=\"dataframe\">\n",
       "  <thead>\n",
       "    <tr style=\"text-align: right;\">\n",
       "      <th></th>\n",
       "      <th>ALPEKA</th>\n",
       "      <th>ELEKTRA*</th>\n",
       "      <th>KOFUBL</th>\n",
       "      <th>PINFRA*</th>\n",
       "      <th>BBAJIOO</th>\n",
       "      <th>IENOVA*</th>\n",
       "      <th>LIVEPOLC</th>\n",
       "    </tr>\n",
       "  </thead>\n",
       "  <tbody>\n",
       "    <tr>\n",
       "      <th>ALPEKA</th>\n",
       "      <td>0.063234</td>\n",
       "      <td>0.001944</td>\n",
       "      <td>0.007950</td>\n",
       "      <td>0.007285</td>\n",
       "      <td>0.007491</td>\n",
       "      <td>0.007816</td>\n",
       "      <td>0.013399</td>\n",
       "    </tr>\n",
       "    <tr>\n",
       "      <th>ELEKTRA*</th>\n",
       "      <td>0.001944</td>\n",
       "      <td>0.080049</td>\n",
       "      <td>0.009249</td>\n",
       "      <td>0.004653</td>\n",
       "      <td>0.007478</td>\n",
       "      <td>0.007406</td>\n",
       "      <td>0.011643</td>\n",
       "    </tr>\n",
       "    <tr>\n",
       "      <th>KOFUBL</th>\n",
       "      <td>0.007950</td>\n",
       "      <td>0.009249</td>\n",
       "      <td>0.037859</td>\n",
       "      <td>0.008533</td>\n",
       "      <td>0.008376</td>\n",
       "      <td>0.010770</td>\n",
       "      <td>0.014665</td>\n",
       "    </tr>\n",
       "    <tr>\n",
       "      <th>PINFRA*</th>\n",
       "      <td>0.007285</td>\n",
       "      <td>0.004653</td>\n",
       "      <td>0.008533</td>\n",
       "      <td>0.041140</td>\n",
       "      <td>0.009307</td>\n",
       "      <td>0.011636</td>\n",
       "      <td>0.012466</td>\n",
       "    </tr>\n",
       "    <tr>\n",
       "      <th>BBAJIOO</th>\n",
       "      <td>0.007491</td>\n",
       "      <td>0.007478</td>\n",
       "      <td>0.008376</td>\n",
       "      <td>0.009307</td>\n",
       "      <td>0.052902</td>\n",
       "      <td>0.015370</td>\n",
       "      <td>0.018455</td>\n",
       "    </tr>\n",
       "    <tr>\n",
       "      <th>IENOVA*</th>\n",
       "      <td>0.007816</td>\n",
       "      <td>0.007406</td>\n",
       "      <td>0.010770</td>\n",
       "      <td>0.011636</td>\n",
       "      <td>0.015370</td>\n",
       "      <td>0.065807</td>\n",
       "      <td>0.019989</td>\n",
       "    </tr>\n",
       "    <tr>\n",
       "      <th>LIVEPOLC</th>\n",
       "      <td>0.013399</td>\n",
       "      <td>0.011643</td>\n",
       "      <td>0.014665</td>\n",
       "      <td>0.012466</td>\n",
       "      <td>0.018455</td>\n",
       "      <td>0.019989</td>\n",
       "      <td>0.069582</td>\n",
       "    </tr>\n",
       "  </tbody>\n",
       "</table>\n",
       "</div>"
      ],
      "text/plain": [
       "            ALPEKA  ELEKTRA*    KOFUBL   PINFRA*   BBAJIOO   IENOVA*  LIVEPOLC\n",
       "ALPEKA    0.063234  0.001944  0.007950  0.007285  0.007491  0.007816  0.013399\n",
       "ELEKTRA*  0.001944  0.080049  0.009249  0.004653  0.007478  0.007406  0.011643\n",
       "KOFUBL    0.007950  0.009249  0.037859  0.008533  0.008376  0.010770  0.014665\n",
       "PINFRA*   0.007285  0.004653  0.008533  0.041140  0.009307  0.011636  0.012466\n",
       "BBAJIOO   0.007491  0.007478  0.008376  0.009307  0.052902  0.015370  0.018455\n",
       "IENOVA*   0.007816  0.007406  0.010770  0.011636  0.015370  0.065807  0.019989\n",
       "LIVEPOLC  0.013399  0.011643  0.014665  0.012466  0.018455  0.019989  0.069582"
      ]
     },
     "execution_count": 17,
     "metadata": {},
     "output_type": "execute_result"
    }
   ],
   "source": [
    "m_vco_a=ren.cov()*252 #anual\n",
    "m_vco_a"
   ]
  },
  {
   "cell_type": "markdown",
   "metadata": {},
   "source": [
    "\n",
    "#### 3.- Frontera de carteras de mínima varianza y frontera eficiente / graficar"
   ]
  },
  {
   "cell_type": "markdown",
   "metadata": {},
   "source": [
    "##### Diario"
   ]
  },
  {
   "cell_type": "code",
   "execution_count": 18,
   "metadata": {},
   "outputs": [
    {
     "data": {
      "text/plain": [
       "ALPEKA MF Equity      0.000440\n",
       "ELEKTRA* MF Equity    0.000359\n",
       "KOFUBL MF Equity      0.000483\n",
       "PINFRA* MF Equity     0.000439\n",
       "BBAJIOO MF Equity     0.000529\n",
       "IENOVA* MF Equity     0.000544\n",
       "LIVEPOLC MF Equity    0.000598\n",
       "Name: MEXBOL INDEX, dtype: float64"
      ]
     },
     "execution_count": 18,
     "metadata": {},
     "output_type": "execute_result"
    }
   ],
   "source": [
    "rf= 0.05/252\n",
    "prize = 0.1/252\n",
    "rcap = rf+betas*prize \n",
    "rcap"
   ]
  },
  {
   "cell_type": "markdown",
   "metadata": {},
   "source": [
    "##### Anual"
   ]
  },
  {
   "cell_type": "code",
   "execution_count": 19,
   "metadata": {},
   "outputs": [
    {
     "data": {
      "text/plain": [
       "ALPEKA MF Equity      0.110845\n",
       "ELEKTRA* MF Equity    0.090573\n",
       "KOFUBL MF Equity      0.121695\n",
       "PINFRA* MF Equity     0.110567\n",
       "BBAJIOO MF Equity     0.133312\n",
       "IENOVA* MF Equity     0.137163\n",
       "LIVEPOLC MF Equity    0.150632\n",
       "Name: MEXBOL INDEX, dtype: float64"
      ]
     },
     "execution_count": 19,
     "metadata": {},
     "output_type": "execute_result"
    }
   ],
   "source": [
    "rcap_a=rcap*252 \n",
    "rcap_a"
   ]
  },
  {
   "cell_type": "code",
   "execution_count": 20,
   "metadata": {},
   "outputs": [],
   "source": [
    "def p_ren_a(weights, r):\n",
    "    E_p = (rcap_a @ weights)\n",
    "    return E_p\n",
    "\n",
    "def p_vol_a(weights, r):\n",
    "    S_p = np.sqrt(weights.T @ (r.cov()*252) @ weights)\n",
    "    return S_p"
   ]
  },
  {
   "cell_type": "code",
   "execution_count": 70,
   "metadata": {},
   "outputs": [],
   "source": [
    "weights_sim = np.random.random((5000, 7))\n",
    "weights_sim = weights_sim / weights_sim.sum(axis=1, keepdims=True)\n",
    "rend_sim = np.apply_along_axis(p_ren_a, 1, weights_sim, r=ren)\n",
    "vol_sim = np.apply_along_axis(p_vol_a, 1, weights_sim, r=ren)"
   ]
  },
  {
   "cell_type": "markdown",
   "metadata": {},
   "source": [
    "##### Mínima varianza Anual"
   ]
  },
  {
   "cell_type": "code",
   "execution_count": 71,
   "metadata": {},
   "outputs": [],
   "source": [
    "sharpe_ratio = rend_sim / vol_sim"
   ]
  },
  {
   "cell_type": "code",
   "execution_count": 72,
   "metadata": {
    "scrolled": true
   },
   "outputs": [
    {
     "data": {
      "image/png": "[encoded data removed]",
      "text/plain": [
       "<Figure size 648x288 with 2 Axes>"
      ]
     },
     "metadata": {
      "needs_background": "light"
     },
     "output_type": "display_data"
    }
   ],
   "source": [
    "plt.figure(figsize=(9,4))\n",
    "plt.scatter(vol_sim, rend_sim, c=sharpe_ratio,cmap='Blues')\n",
    "plt.colorbar(label=\"Sharpe Ratio\")\n",
    "plt.xlabel(r\"$\\sigma^2_r$\")\n",
    "plt.ylabel(\"E(r)\");\n"
   ]
  },
  {
   "cell_type": "markdown",
   "metadata": {},
   "source": [
    "##### Calculo de la frontera eficiente "
   ]
  },
  {
   "cell_type": "code",
   "execution_count": 73,
   "metadata": {},
   "outputs": [],
   "source": [
    "def sum_weights(weights):\n",
    "    return weights.sum() - 1 "
   ]
  },
  {
   "cell_type": "code",
   "execution_count": 74,
   "metadata": {},
   "outputs": [],
   "source": [
    "w0  = np.random.randn(ren.shape[1])\n",
    "constraints = [\n",
    "    {\"type\": \"eq\", \"fun\": sum_weights}\n",
    "]"
   ]
  },
  {
   "cell_type": "code",
   "execution_count": 75,
   "metadata": {},
   "outputs": [
    {
     "data": {
      "text/plain": [
       "     fun: 0.125344632695075\n",
       "     jac: array([0.12553636, 0.1250322 , 0.12513548, 0.12550346, 0.12527983,\n",
       "       0.12561658, 0.12573204])\n",
       " message: 'Optimization terminated successfully.'\n",
       "    nfev: 90\n",
       "     nit: 10\n",
       "    njev: 10\n",
       "  status: 0\n",
       " success: True\n",
       "       x: array([0.15670647, 0.12689403, 0.23363313, 0.22752734, 0.14702229,\n",
       "       0.08717112, 0.02104562])"
      ]
     },
     "execution_count": 75,
     "metadata": {},
     "output_type": "execute_result"
    }
   ],
   "source": [
    "p0 = minimize(p_vol_a, w0, constraints=constraints, args=ren)\n",
    "p0"
   ]
  },
  {
   "cell_type": "code",
   "execution_count": 76,
   "metadata": {},
   "outputs": [
    {
     "name": "stdout",
     "output_type": "stream",
     "text": [
      "0.11717902596466973\n",
      "0.125344632695075\n"
     ]
    }
   ],
   "source": [
    "wp0 = p0.x\n",
    "print(p_ren_a(wp0, ren))\n",
    "print(p_vol_a(wp0, ren))"
   ]
  },
  {
   "cell_type": "code",
   "execution_count": 77,
   "metadata": {},
   "outputs": [],
   "source": [
    "sharpe_ratio = rend_sim / vol_sim"
   ]
  },
  {
   "cell_type": "code",
   "execution_count": 78,
   "metadata": {},
   "outputs": [
    {
     "data": {
      "image/png": "[encoded data removed]",
      "text/plain": [
       "<Figure size 648x288 with 2 Axes>"
      ]
     },
     "metadata": {
      "needs_background": "light"
     },
     "output_type": "display_data"
    }
   ],
   "source": [
    "\n",
    "plt.figure(figsize=(9,4))\n",
    "plt.scatter(vol_sim, rend_sim, c=sharpe_ratio, cmap='Blues')\n",
    "plt.colorbar(label=\"Sharpe Ratio\")\n",
    "plt.scatter(p_vol_a(wp0, ren), p_ren_a(wp0, ren),color='r')\n",
    "\n",
    "plt.xlabel(r\"$\\sigma^2_r$\")\n",
    "plt.ylabel(\"E(r)\");"
   ]
  },
  {
   "cell_type": "code",
   "execution_count": 79,
   "metadata": {},
   "outputs": [],
   "source": [
    "def rend_e(w, E):\n",
    "    return p_ren_a(w, ren) - E "
   ]
  },
  {
   "cell_type": "code",
   "execution_count": 80,
   "metadata": {},
   "outputs": [],
   "source": [
    "r_min = p_ren_a(wp0, ren)\n",
    "r_max = rcap_a.max()\n",
    "\n",
    "rend_max = np.linspace(r_min, r_max)"
   ]
  },
  {
   "cell_type": "code",
   "execution_count": 81,
   "metadata": {},
   "outputs": [],
   "source": [
    "pesos_optimos = []\n",
    "for e in rend_max:\n",
    "    constraints = [\n",
    "        {\"type\": \"eq\", \"fun\": sum_weights},\n",
    "        {\"type\": \"eq\", \"fun\": lambda w: rend_e(w, e)}\n",
    "    ]\n",
    "\n",
    "    port1 = minimize(p_vol_a, w0, constraints=constraints, args=ren)\n",
    "    w_opt = port1.x\n",
    "    pesos_optimos.append(w_opt)"
   ]
  },
  {
   "cell_type": "code",
   "execution_count": 82,
   "metadata": {},
   "outputs": [
    {
     "data": {
      "text/plain": [
       "<matplotlib.colorbar.Colorbar at 0x1a19ad0e10>"
      ]
     },
     "execution_count": 82,
     "metadata": {},
     "output_type": "execute_result"
    },
    {
     "data": {
      "image/png": "[encoded data removed]",
      "text/plain": [
       "<Figure size 648x288 with 2 Axes>"
      ]
     },
     "metadata": {
      "needs_background": "light"
     },
     "output_type": "display_data"
    }
   ],
   "source": [
    "r_opt = []\n",
    "v_opt = []\n",
    "for w in pesos_optimos:\n",
    "    r_opt.append(p_ren_a(w, ren))\n",
    "    v_opt.append(p_vol_a(w, ren))\n",
    "\n",
    "r_opt = np.array(r_opt)\n",
    "v_opt = np.array(v_opt)\n",
    "\n",
    "plt.figure(figsize=(9,4))\n",
    "plt.scatter(v_opt, r_opt, c=r_opt, cmap='Blues')\n",
    "plt.colorbar()"
   ]
  },
  {
   "cell_type": "markdown",
   "metadata": {},
   "source": [
    "### 4.- Encuentra el portafolio riesgoso óptimo(maximiza el coeficiente de Sharpe)"
   ]
  },
  {
   "cell_type": "code",
   "execution_count": 83,
   "metadata": {},
   "outputs": [],
   "source": [
    "rf = 0.05\n",
    "\n",
    "def min_func_sharpe(weights):\n",
    "    return - (p_ren_a(weights, ren) - rf) / p_vol_a(weights, ren)\n",
    "\n",
    "constraints = [\n",
    "    {\"type\": \"eq\", \"fun\": sum_weights}\n",
    "]\n",
    "\n",
    "bounds=[(0,None),(0,None),(0,None),(0,None),(0,None),(0,None),(0,None)]\n",
    "\n"
   ]
  },
  {
   "cell_type": "code",
   "execution_count": 84,
   "metadata": {},
   "outputs": [],
   "source": [
    "f_sharpe = minimize(min_func_sharpe, w0, constraints=constraints)\n",
    "w_sharpe = f_sharpe.x\n",
    "e_sharpe = p_ren_a(w_sharpe, ren)\n",
    "vol_sharpe = p_vol_a(w_sharpe, ren)"
   ]
  },
  {
   "cell_type": "code",
   "execution_count": 85,
   "metadata": {},
   "outputs": [
    {
     "data": {
      "text/plain": [
       "[<matplotlib.lines.Line2D at 0x1a19b0fa10>]"
      ]
     },
     "execution_count": 85,
     "metadata": {},
     "output_type": "execute_result"
    },
    {
     "data": {
      "image/png": "[encoded data removed]",
      "text/plain": [
       "<Figure size 648x288 with 1 Axes>"
      ]
     },
     "metadata": {
      "needs_background": "light"
     },
     "output_type": "display_data"
    }
   ],
   "source": [
    "\n",
    "\n",
    "sigma_c =  np.linspace(0.1, 0.2)\n",
    "sharpe = rf + sigma_c * (e_sharpe - rf) / vol_sharpe\n",
    "\n",
    "plt.figure(figsize=(9,4))\n",
    "plt.plot(sigma_c, sharpe, linestyle=\"--\", c=\"tab:red\")\n",
    "plt.plot(v_opt, r_opt)\n"
   ]
  },
  {
   "cell_type": "markdown",
   "metadata": {},
   "source": [
    "### 6.-Elige los porcentajes a invertir en el portafolio riesgoso óptimo y el activo libre de riesgo"
   ]
  },
  {
   "cell_type": "code",
   "execution_count": 86,
   "metadata": {},
   "outputs": [
    {
     "data": {
      "text/html": [
       "<div>\n",
       "<style scoped>\n",
       "    .dataframe tbody tr th:only-of-type {\n",
       "        vertical-align: middle;\n",
       "    }\n",
       "\n",
       "    .dataframe tbody tr th {\n",
       "        vertical-align: top;\n",
       "    }\n",
       "\n",
       "    .dataframe thead th {\n",
       "        text-align: right;\n",
       "    }\n",
       "</style>\n",
       "<table border=\"1\" class=\"dataframe\">\n",
       "  <thead>\n",
       "    <tr style=\"text-align: right;\">\n",
       "      <th></th>\n",
       "      <th>Porcentajes</th>\n",
       "      <th>Free</th>\n",
       "    </tr>\n",
       "  </thead>\n",
       "  <tbody>\n",
       "    <tr>\n",
       "      <th>ALPEKA</th>\n",
       "      <td>0.106152</td>\n",
       "      <td>0.156706</td>\n",
       "    </tr>\n",
       "    <tr>\n",
       "      <th>ELEKTRA*</th>\n",
       "      <td>0.027446</td>\n",
       "      <td>0.126894</td>\n",
       "    </tr>\n",
       "    <tr>\n",
       "      <th>KOFUBL</th>\n",
       "      <td>0.242720</td>\n",
       "      <td>0.233633</td>\n",
       "    </tr>\n",
       "    <tr>\n",
       "      <th>PINFRA*</th>\n",
       "      <td>0.144959</td>\n",
       "      <td>0.227527</td>\n",
       "    </tr>\n",
       "    <tr>\n",
       "      <th>BBAJIOO</th>\n",
       "      <td>0.194690</td>\n",
       "      <td>0.147022</td>\n",
       "    </tr>\n",
       "    <tr>\n",
       "      <th>IENOVA*</th>\n",
       "      <td>0.139470</td>\n",
       "      <td>0.087171</td>\n",
       "    </tr>\n",
       "    <tr>\n",
       "      <th>LIVEPOLC</th>\n",
       "      <td>0.144564</td>\n",
       "      <td>0.021046</td>\n",
       "    </tr>\n",
       "  </tbody>\n",
       "</table>\n",
       "</div>"
      ],
      "text/plain": [
       "          Porcentajes      Free\n",
       "ALPEKA       0.106152  0.156706\n",
       "ELEKTRA*     0.027446  0.126894\n",
       "KOFUBL       0.242720  0.233633\n",
       "PINFRA*      0.144959  0.227527\n",
       "BBAJIOO      0.194690  0.147022\n",
       "IENOVA*      0.139470  0.087171\n",
       "LIVEPOLC     0.144564  0.021046"
      ]
     },
     "execution_count": 86,
     "metadata": {},
     "output_type": "execute_result"
    }
   ],
   "source": [
    "pesos=pd.DataFrame(w_sharpe,columns=['Porcentajes'])\n",
    "pesos.index=ren.columns\n",
    "pesos['Free']=wp0\n",
    "pesos"
   ]
  },
  {
   "cell_type": "markdown",
   "metadata": {},
   "source": [
    "#### Rendimiento del portafolio(Riesgo)"
   ]
  },
  {
   "cell_type": "code",
   "execution_count": 87,
   "metadata": {},
   "outputs": [
    {
     "name": "stdout",
     "output_type": "stream",
     "text": [
      "y_st = 1.4245495501813321\n",
      "Esperanza de la utilidad:    0.15923203691149818\n",
      "Varianza de la utilizad:     0.19081582473814743\n"
     ]
    }
   ],
   "source": [
    "A=3\n",
    "y_st=(e_sharpe-rf)/(A*vol_sharpe**2)\n",
    "print('y_st =',y_st)\n",
    "E_util=rf+y_st*(e_sharpe-rf)\n",
    "V_util=y_st*vol_sharpe\n",
    "print('Esperanza de la utilidad:   ', E_util)\n",
    "print('Varianza de la utilizad:    ', V_util)"
   ]
  },
  {
   "cell_type": "code",
   "execution_count": 88,
   "metadata": {},
   "outputs": [],
   "source": [
    "e_sharpe = p_ren_a(w_sharpe, ren)\n",
    "vol_sharpe = p_vol_a(w_sharpe, ren)\n",
    "sigma_c =  np.linspace(0.1, 0.3)\n",
    "sharpe = rf + sigma_c * (e_sharpe - rf) / vol_sharpe"
   ]
  },
  {
   "cell_type": "code",
   "execution_count": 89,
   "metadata": {},
   "outputs": [
    {
     "data": {
      "text/plain": [
       "<matplotlib.collections.PathCollection at 0x1a19d1dc90>"
      ]
     },
     "execution_count": 89,
     "metadata": {},
     "output_type": "execute_result"
    },
    {
     "data": {
      "image/png": "[encoded data removed]",
      "text/plain": [
       "<Figure size 432x288 with 1 Axes>"
      ]
     },
     "metadata": {
      "needs_background": "light"
     },
     "output_type": "display_data"
    }
   ],
   "source": [
    "\n",
    "plt.plot(sigma_c, sharpe, linestyle=\"--\", c=\"tab:red\", \n",
    "         label=\"Capital Allocation Line\")\n",
    "plt.plot(v_opt, r_opt)\n",
    "plt.scatter(V_util, E_util,c=\"r\")"
   ]
  }
 ],
 "metadata": {
  "kernelspec": {
   "display_name": "Python 3",
   "language": "python",
   "name": "python3"
  },
  "language_info": {
   "codemirror_mode": {
    "name": "ipython",
    "version": 3
   },
   "file_extension": ".py",
   "mimetype": "text/x-python",
   "name": "python",
   "nbconvert_exporter": "python",
   "pygments_lexer": "ipython3",
   "version": "3.7.6"
  }
 },
 "nbformat": 4,
 "nbformat_minor": 4
}
